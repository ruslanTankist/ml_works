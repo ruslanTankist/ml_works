{
  "nbformat": 4,
  "nbformat_minor": 0,
  "metadata": {
    "colab": {
      "name": "day 2 - longevity_task.ipynb",
      "provenance": [],
      "collapsed_sections": [],
      "include_colab_link": true
    },
    "kernelspec": {
      "name": "python3",
      "display_name": "Python 3"
    }
  },
  "cells": [
    {
      "cell_type": "markdown",
      "metadata": {
        "id": "view-in-github",
        "colab_type": "text"
      },
      "source": [
        "<a href=\"https://colab.research.google.com/github/ruslanTankist/ml_works/blob/main/Hackathon/longevity_task_preprocessing.ipynb\" target=\"_parent\"><img src=\"https://colab.research.google.com/assets/colab-badge.svg\" alt=\"Open In Colab\"/></a>"
      ]
    },
    {
      "cell_type": "markdown",
      "metadata": {
        "id": "RNcrWQYmiK5G"
      },
      "source": [
        "# Аплоад датасетов"
      ]
    },
    {
      "cell_type": "markdown",
      "metadata": {
        "id": "ORFRDq9-uQsx"
      },
      "source": [
        "Ссылки на скачивание [train_longevity.csv](https://alexbmstu.github.io/2020/data/train_longevity.csv) и [test_longevity.csv](https://alexbmstu.github.io/2020/data/test_longevity.csv)"
      ]
    },
    {
      "cell_type": "code",
      "metadata": {
        "id": "PdrqSPbB-YMw",
        "colab": {
          "resources": {
            "http://localhost:8080/nbextensions/google.colab/files.js": {
              "data": "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",
              "ok": true,
              "headers": [
                [
                  "content-type",
                  "application/javascript"
                ]
              ],
              "status": 200,
              "status_text": ""
            }
          },
          "base_uri": "https://localhost:8080/",
          "height": 160
        },
        "outputId": "bd2429f5-94de-45ca-fc17-885708f49c13"
      },
      "source": [
        "from google.colab import files\n",
        "files.upload()"
      ],
      "execution_count": null,
      "outputs": [
        {
          "output_type": "display_data",
          "data": {
            "text/html": [
              "\n",
              "     <input type=\"file\" id=\"files-428dda0d-5186-416d-9250-617137df35e1\" name=\"files[]\" multiple disabled\n",
              "        style=\"border:none\" />\n",
              "     <output id=\"result-428dda0d-5186-416d-9250-617137df35e1\">\n",
              "      Upload widget is only available when the cell has been executed in the\n",
              "      current browser session. Please rerun this cell to enable.\n",
              "      </output>\n",
              "      <script src=\"/nbextensions/google.colab/files.js\"></script> "
            ],
            "text/plain": [
              "<IPython.core.display.HTML object>"
            ]
          },
          "metadata": {
            "tags": []
          }
        },
        {
          "output_type": "stream",
          "text": [
            "Saving test_longevity.csv to test_longevity.csv\n",
            "Saving train_longevity.csv to train_longevity.csv\n"
          ],
          "name": "stdout"
        },
        {
          "output_type": "execute_result",
          "data": {
            "text/plain": [
              "{'test_longevity.csv': b'Id,Education,Sex,Age,Pet,Children,Region,Activity,MedExam,Sport,Longevity\\n858,1,female,76,0,0,11,2655,+,,1\\n859,3,male,73,0,3,26,1926,,+,1\\n860,3,female,,0,0,26,723,,+,0\\n861,3,female,75,2,0,35,1411,,,0\\n862,2,female,73,1,0,28,1150,,,0\\n863,1,male,76,0,0,17,2593,+,,1\\n864,3,male,,8,2,23,6955,,,0\\n865,2,female,73,0,0,23,1300,,,0\\n866,2,male,75,0,0,23,1300,,,1\\n867,2,male,73,1,0,21,1386,,+,1\\n868,1,female,74,0,0,17,5050,+,,0\\n869,3,female,,0,0,34,950,,,0\\n870,3,female,71,1,1,34,1113,,,1\\n871,3,female,73,0,0,34,790,,,0\\n872,1,male,76,1,1,11,5255,+,,1\\n873,1,female,74,0,0,69,500,+ + +,,0\\n874,3,female,76,0,0,34,900,,,0\\n875,2,male,74,1,0,33,2400,,+,1\\n876,3,male,72,0,0,26,723,,+,1\\n877,3,female,73,0,0,75,985,,,0\\n878,3,female,72,0,0,34,790,,,0\\n879,3,female,,0,0,34,790,,,0\\n880,1,male,77,0,1,11,8316,+,+,1\\n881,2,male,73,0,1,23,2600,,,1\\n882,3,female,74,0,0,34,790,,,0\\n883,3,male,73,0,0,75,1052,,,0\\n884,2,female,74,0,0,34,1050,,,0\\n885,3,female,73,0,0,39,705,,,0\\n886,3,male,75,0,5,38,2913,,-,0\\n887,2,female,73,0,0,21,1300,,,0\\n888,1,male,72,0,0,11,3000,+,,1\\n889,3,male,,1,2,66,2345,,,0\\n890,1,female,73,0,0,11,3000,+,+,1\\n891,3,female,74,0,0,37,775,,-,0\\n892,3,female,74,0,0,33,783,,-,0\\n893,3,male,76,1,0,36,700,,,0\\n894,2,female,78,0,0,24,969,,-,0\\n895,3,female,73,0,0,31,866,,,0\\n896,3,male,73,1,1,31,1229,,,1\\n897,3,female,72,0,0,75,923,,,0\\n898,3,male,74,0,0,33,763,,-,1\\n899,2,female,73,1,1,24,2900,,,0\\n900,3,male,72,0,0,26,723,,+,1\\n901,3,female,73,2,0,48,2415,,,0\\n902,3,female,,0,0,34,790,,,0\\n903,1,female,76,0,0,69,2600,,,0\\n904,1,male,73,1,0,21,8227,+,,1\\n905,2,female,78,1,0,24,2600,,,0\\n906,1,male,76,1,0,57,6118,+,,1\\n907,2,male,73,1,0,21,2772,,+,1\\n908,2,female,74,0,0,23,1235,,-,0\\n909,3,female,73,0,0,26,723,,+,0\\n910,3,male,73,1,0,31,793,,,0\\n911,3,male,76,0,0,26,723,,+,1\\n912,1,female,77,1,0,17,5940,,+,0\\n913,3,female,71,0,1,17,317,,,1\\n914,1,male,,0,0,17,3168,,,1\\n915,1,female,73,0,1,17,6138,,+,0\\n916,1,male,76,1,3,17,26238,+ + + +,+,1\\n917,3,female,76,1,0,33,1450,,,0\\n918,1,male,73,0,1,11,6198,+,+,1\\n919,3,female,73,0,0,26,723,,+,0\\n920,1,female,75,0,0,11,3050,+,,0\\n921,3,female,,2,0,26,2168,,+,0\\n922,2,female,76,1,0,30,2600,,,0\\n923,2,female,73,2,0,31,3150,,,0\\n924,3,male,74,1,2,23,2058,,,1\\n925,3,male,,1,2,66,2345,,,1\\n926,1,female,74,1,0,13,5775,+,+,0\\n927,3,female,72,0,0,26,723,,+,0\\n928,3,male,,0,0,34,805,,,0\\n929,3,male,73,0,0,31,866,,,0\\n930,3,female,73,0,0,34,950,,,0\\n931,3,female,,0,0,16,5650,,,0\\n932,3,female,75,0,1,34,1342,,+,0\\n933,1,female,,0,0,11,2655,+,,0\\n934,3,female,75,0,0,31,785,,,0\\n935,2,male,74,0,0,23,1300,,,1\\n936,1,male,76,1,0,11,5255,+,,1\\n937,3,female,73,0,0,31,793,,,0\\n938,1,female,76,0,0,17,2970,+,+,0\\n939,3,female,,0,0,37,775,,-,0\\n940,1,male,78,0,0,11,7629,+,+,1\\n941,3,male,75,0,2,37,1590,,,1\\n942,1,female,73,1,0,13,6000,+,,0\\n943,2,female,73,0,0,21,1503,,+,0\\n944,2,male,73,2,1,29,2300,,,1\\n945,1,male,74,3,2,19,26300,+ + +,,1\\n946,2,female,,0,0,28,1558,,+,0\\n947,3,female,71,4,1,38,2913,,-,0\\n948,3,female,74,0,0,34,790,,,0\\n949,3,female,73,0,0,34,765,+ +,,0\\n950,3,female,,1,0,38,1610,,,0\\n951,1,male,75,0,0,17,26238,+,+,1\\n952,3,female,72,0,0,34,790,,,0\\n953,2,female,74,0,0,23,1350,,,0\\n954,3,female,72,0,0,34,775,,,0\\n955,3,male,73,0,0,33,773,,-,1\\n956,1,female,72,2,2,17,26238,+ + + +,+,0\\n957,2,male,,0,0,13,2100,,,1\\n958,3,male,72,0,0,33,788,,-,1\\n959,1,female,76,0,0,11,4240,,,0\\n960,1,female,74,0,0,25,2854,+,+,0\\n961,1,male,78,1,4,19,26300,+ + +,,1\\n962,3,male,73,0,0,38,775,,-,1\\n963,3,female,73,0,0,34,790,,,0\\n964,3,male,74,0,0,31,793,,,0\\n965,1,female,74,0,0,17,2772,+,+,0\\n966,1,male,74,0,0,11,21150,0,+,1\\n967,1,female,74,0,0,11,21150,2,+,0\\n968,3,female,,0,0,35,805,,,0\\n969,1,male,77,2,0,11,2570,1,,1\\n970,2,female,74,0,0,24,1300,,,0\\n971,3,male,73,0,0,36,775,,-,1\\n972,3,female,71,1,1,26,1525,,+,1\\n973,1,female,78,1,0,17,22178,+ +,,0\\n974,1,female,76,0,0,19,2600,,,0\\n975,3,female,,0,0,34,790,,,0\\n976,2,female,,0,0,24,1071,,-,0\\n977,3,female,,1,0,26,1445,,+,0\\n978,3,male,73,0,0,33,788,,-,1\\n979,3,male,72,0,0,31,805,,,0\\n980,3,male,,0,0,36,775,,-,1\\n981,2,female,70,1,1,29,2300,,,1\\n982,3,male,73,1,0,34,1390,,,1\\n983,3,female,,0,0,34,778,,,0\\n984,1,male,73,1,2,12,5200,+,,1\\n985,3,female,,0,0,37,805,,,0\\n986,1,female,73,0,0,13,2600,,+,0\\n987,3,female,73,0,0,35,780,,,0\\n988,1,male,80,1,0,19,7885,+,,1\\n989,3,female,74,0,0,31,793,,,0\\n990,3,male,73,0,0,34,785,,,1\\n991,3,female,74,0,0,33,805,,,0\\n992,1,male,75,1,0,11,5544,6,+,1\\n993,2,female,73,1,0,22,2600,,,0\\n994,3,female,,0,0,36,775,,-,0\\n995,3,female,73,0,0,34,778,,,0\\n996,3,male,72,1,1,26,852,,+,1\\n997,3,female,74,0,0,40,2253,,,0\\n998,3,female,73,0,0,33,782,,-,0\\n999,3,female,,0,0,38,775,,-,0\\n1000,3,female,,0,0,34,871,,,0\\n1001,2,female,72,0,0,24,1300,+,,0\\n1002,2,female,75,0,0,23,1505,,+,0\\n1003,3,male,,0,0,33,778,,-,1\\n1004,1,male,75,0,0,17,3168,+,+,1\\n1005,3,male,72,0,0,32,728,,-,1\\n1006,1,male,78,1,0,17,22178,+ +,,1\\n1007,3,female,72,1,0,26,1445,,+,0\\n1008,3,female,,0,0,26,644,,+,0\\n1009,3,male,70,1,1,95,1670,+,,1\\n1010,1,female,75,0,0,13,7524,+,+,0\\n1011,2,male,74,1,0,29,2600,,,1\\n1012,2,male,72,0,0,33,1575,,,1\\n1013,3,female,,1,0,36,775,,-,0\\n1014,1,male,74,1,0,13,5775,+,+,1\\n1015,3,female,74,0,0,39,725,,,0\\n1016,3,female,,0,0,36,775,,-,0\\n1017,3,male,72,0,1,37,1610,,,1\\n1018,3,female,73,0,0,35,780,,,0\\n1019,3,male,,2,0,36,2325,,-,1\\n1020,2,female,75,0,0,21,1300,,,0\\n1021,3,female,73,0,0,34,805,,,0\\n1022,3,female,74,0,0,36,805,,,0\\n1023,1,female,77,0,0,11,2850,+,+,0\\n1024,3,male,,0,4,41,2547,,,0\\n1025,3,female,,1,0,26,644,,+,0\\n1026,3,female,75,0,0,34,790,,,0\\n1027,3,female,73,0,0,35,785,,,0\\n1028,3,female,73,0,0,26,723,,+,0\\n1029,2,female,73,0,0,24,1300,,,0\\n1030,3,male,73,0,0,39,805,,,0\\n1031,3,female,75,1,6,21,4690,,,0\\n1032,3,male,71,5,2,21,4690,,,0\\n1033,1,male,74,0,0,11,15155,,,1\\n1034,1,female,78,1,3,17,26238,+ + + +,+,0\\n1035,2,female,74,0,0,24,2600,,,0\\n1036,1,female,75,0,0,17,2655,,,0\\n1037,3,female,74,3,0,34,1800,,,0\\n1038,1,female,,0,0,17,5186,+,,0\\n1039,3,female,73,0,0,23,805,,,0\\n1040,1,female,,0,0,11,2655,,,0\\n1041,2,female,74,1,1,25,2600,,,0\\n1042,1,male,73,0,1,11,8316,+,+,1\\n1043,3,female,,0,0,34,790,,+,0\\n1044,3,female,78,0,0,37,0,,,0\\n1045,3,male,75,0,2,35,1218,,,1\\n1046,3,female,72,4,2,34,3139,,,0\\n1047,3,female,73,0,0,75,755,,,0\\n1048,1,male,74,0,0,17,22178,+,,1\\n1049,3,male,73,0,0,34,785,,,1\\n1050,1,female,75,0,0,11,2655,+,,0\\n1051,3,male,73,0,2,31,1378,,,1\\n1052,3,male,,0,0,33,773,,-,1\\n1053,3,female,71,1,1,26,1525,,+,1\\n1054,2,male,73,0,0,22,1350,,,1\\n1055,3,female,,0,0,34,700,,,0\\n1056,2,female,75,0,0,23,1300,,,0\\n1057,3,male,73,1,1,31,2203,,,1\\n1058,1,female,76,0,0,17,5050,+,+,0\\n1059,3,female,72,2,2,66,3438,,,0\\n1060,1,male,,0,0,17,2772,,+,1\\n1061,3,male,73,0,0,75,896,,,0\\n1062,3,female,,0,0,25,755,,,0\\n1063,3,female,73,0,0,26,723,,+,0\\n1064,3,female,73,1,0,34,1390,,,0\\n1065,3,female,,0,0,26,723,,+,0\\n1066,3,female,75,1,5,34,3139,,,0\\n1067,2,male,72,0,2,29,3900,,,1\\n1068,2,male,73,0,0,33,3675,,,1\\n1069,1,female,77,1,0,11,5544,6,+,0\\n1070,2,male,75,0,3,23,3900,+,,1\\n1071,1,male,78,0,2,17,8316,+,+,1\\n1072,2,female,74,0,0,23,1300,,,0\\n1073,1,female,75,1,1,17,8316,+,+,1\\n1074,1,male,72,1,0,11,5310,+,,1\\n1075,3,female,,0,0,79,775,,-,0\\n1076,1,male,73,1,1,17,24752,+ +,+,1\\n1077,2,female,75,0,0,23,1600,,,0\\n1078,2,male,73,0,1,,2100,,,1\\n1079,3,female,72,2,0,48,805,,,0\\n1080,3,male,,8,2,23,6955,,,0\\n1081,2,female,75,0,0,28,1300,,,0\\n1082,2,female,74,1,0,22,2600,,,0\\n1083,1,female,,0,0,11,2600,,,0\\n1084,3,female,71,1,1,85,1450,,,1\\n1085,2,female,78,0,0,23,1235,,-,0\\n1086,2,female,71,0,2,28,3250,,,1\\n1087,3,female,74,0,0,34,785,,,0\\n1088,1,female,71,0,2,16,13450,+,+,1\\n1089,3,male,72,0,0,34,778,,,1\\n1090,2,female,73,0,0,31,1050,,,0\\n1091,3,male,,0,0,65,811,,,0\\n1092,3,male,,0,0,36,1550,,-,1\\n1093,3,female,#\\xd0\\x97\\xd0\\x9d\\xd0\\x90\\xd0\\xa7!,0,2,34,1440,,,1\\n1094,1,female,76,1,0,17,22753,+ +,+,1\\n1095,2,male,71,1,1,26,2600,,,1\\n1096,2,female,73,0,0,34,1050,,,0\\n1097,1,female,,0,0,12,2574,,+,0\\n1098,3,male,74,0,0,92,775,,-,1\\n1099,2,female,73,0,0,28,1050,,,0\\n1100,1,male,74,0,0,17,2772,+,+,1\\n1101,3,female,73,0,0,34,790,,,0\\n1102,3,female,74,0,0,40,2253,,,0\\n1103,3,female,,0,0,31,705,,,0\\n1104,2,female,72,0,0,14,7350,,,0\\n1105,2,male,78,1,0,24,2600,,,1\\n1106,3,male,75,4,2,34,778,,,0\\n1107,1,female,75,0,0,11,4250,+,,0\\n1108,3,male,,0,0,33,788,,-,1\\n1109,1,female,77,1,1,36,16487,,,0\\n1110,1,male,76,1,1,11,21150,+,+,1\\n1111,3,female,,0,0,32,805,,,0\\n1112,2,male,74,1,0,21,1386,,+,1\\n1113,3,female,73,0,0,34,805,,,0\\n1114,2,male,73,0,0,14,1050,+,,1\\n1115,3,female,73,0,0,35,780,,,0\\n1116,1,male,77,0,0,17,2745,,+,1\\n1117,3,male,,0,2,26,1525,,+,1\\n1118,3,female,73,0,0,35,780,,,0\\n1119,3,male,,0,0,37,775,,-,1\\n1120,3,female,75,0,0,62,1510,,,0\\n1121,2,female,75,0,0,24,1300,,,0\\n1122,2,female,72,0,0,22,6500,,,0\\n1123,1,male,73,0,0,11,2655,,,1\\n1124,3,female,73,1,0,31,650,,,0\\n1125,3,female,,0,0,33,788,,-,0\\n1126,1,female,75,1,0,17,7128,+,+,0\\n1127,3,female,73,0,0,35,785,,,0\\n1128,1,female,78,1,0,11,7525,+,+,0\\n1129,3,female,73,0,0,26,723,,+,0\\n1130,2,male,72,1,1,25,1300,,,1\\n1131,1,male,76,1,0,17,10643,+,+,1\\n1132,1,male,77,0,0,11,2772,,+,1\\n1133,2,male,76,0,2,23,3000,,,1\\n1134,1,female,76,1,1,16,13450,+,+,1\\n1135,3,female,,0,0,34,789,,,0\\n1136,3,female,,1,2,66,2345,,,1\\n1137,1,female,75,1,0,17,5186,+,,0\\n1138,2,male,73,0,0,13,2100,,,1\\n1139,2,female,75,1,1,28,3250,,,0\\n1140,2,male,74,1,0,26,2600,,,1\\n1141,3,male,,1,0,26,1445,,+,1\\n1142,2,male,,1,2,34,2775,,,1\\n1143,3,female,73,0,0,31,793,,,0\\n1144,1,female,73,1,0,13,13678,+,+,0\\n1145,3,female,73,0,0,72,933,,,0\\n1146,3,female,74,0,0,34,950,,,0\\n1147,3,female,,0,0,42,755,,,0\\n1148,3,female,,0,0,31,775,,-,0\\n1149,3,female,74,0,0,36,805,,,0\\n1150,2,male,72,0,0,28,1300,,,1\\n1151,3,female,73,0,0,34,778,,,0\\n1152,3,female,75,1,0,34,1740,,,0\\n1153,3,female,73,0,0,35,785,,,0\\n1154,2,male,74,0,2,29,2300,,,1\\n1155,3,male,70,1,1,35,1218,,,1\\n1156,2,female,74,0,0,34,1274,,+,0\\n1157,3,female,,0,0,34,790,,,0\\n1158,1,female,,0,0,11,0,,,0\\n1159,3,female,,0,0,49,755,,,0\\n1160,3,male,,0,0,39,805,,,0\\n1161,3,female,72,0,0,31,866,,,0\\n1162,1,female,76,0,0,13,7524,+,+,0\\n1163,3,female,,0,0,36,775,,-,0\\n1164,1,male,73,1,0,13,13678,+,+,1\\n1165,3,male,,1,0,37,1550,,-,1\\n1166,3,female,,0,0,26,723,,+,0\\n1167,2,male,73,1,0,23,2600,,,1\\n1168,2,female,74,0,0,14,1050,,,0\\n1169,2,female,75,1,0,29,2600,,,0\\n1170,2,female,74,1,0,31,2100,,,0\\n1171,2,female,73,0,0,14,1050,,,0\\n1172,3,male,73,0,0,31,866,,,0\\n1173,3,female,#\\xd0\\x97\\xd0\\x9d\\xd0\\x90\\xd0\\xa7!,1,1,31,1378,,,1\\n1174,3,male,,0,0,36,775,,-,1\\n1175,3,male,71,1,1,26,1525,,+,0\\n1176,3,male,70,1,1,37,2021,,,1\\n1177,3,female,75,0,0,21,725,,,0\\n1178,3,female,,0,0,31,725,,,0\\n1179,1,female,73,1,0,21,8227,+,,0\\n1180,3,female,,0,0,26,723,+ +,+,0\\n1181,3,female,,0,0,14,805,,,0\\n1182,1,female,,0,0,17,3960,,,0\\n1183,3,male,74,0,0,38,695,,-,1\\n1184,3,female,,0,0,26,723,,+,0\\n1185,1,female,77,1,1,33,8186,+,,0\\n1186,3,female,75,0,0,34,950,,,0\\n1187,3,female,73,0,0,34,790,,,0\\n1188,2,male,70,1,2,21,4158,,+,1\\n1189,3,female,,2,0,26,2168,,+,0\\n1190,1,female,74,0,0,11,4550,,,0\\n1191,3,female,74,0,0,34,785,,,0\\n1192,3,female,74,0,0,34,778,,,0\\n1193,2,female,,0,0,23,1505,+,+,0\\n1194,2,female,75,0,1,,2100,,,0\\n1195,3,female,73,0,0,31,866,,,0\\n1196,3,male,,0,0,38,775,,-,1\\n1197,1,male,78,1,1,11,2655,+,,1\\n1198,1,female,74,1,2,11,15155,+ +,,0\\n1199,3,female,#\\xd0\\x97\\xd0\\x9d\\xd0\\x90\\xd0\\xa7!,0,1,39,935,,,1\\n1200,1,female,77,1,1,12,9350,+,,0\\n1201,3,male,76,1,0,35,1411,,,0\\n1202,3,female,72,0,0,31,866,,,0\\n1203,3,female,73,0,0,26,723,,+,0\\n1204,3,female,,0,0,15,758,,,0\\n1205,3,male,75,0,0,36,775,,-,1\\n1206,1,male,77,0,0,17,13563,+,+,1\\n1207,3,male,72,0,0,30,773,,-,1\\n1208,1,female,77,1,0,17,14652,+,+,0\\n1209,2,female,72,0,0,28,1050,,,0\\n1210,3,female,73,0,0,35,785,,,0\\n1211,2,female,73,2,0,31,3150,,,0\\n1212,3,female,73,0,0,34,778,,,0\\n1213,3,female,73,0,0,26,723,+ +,+,0\\n1214,2,female,73,0,0,24,1300,+,,0\\n1215,1,female,74,0,0,11,2655,,,0\\n1216,1,male,75,0,0,24,21134,,,1\\n1217,3,female,73,0,0,31,705,,,0\\n1218,2,male,72,2,1,23,3900,+,,1\\n1219,1,female,76,0,0,17,7920,,+,0\\n1220,2,female,74,1,0,20,2600,,,0\\n1221,2,female,73,0,0,23,1300,,,0\\n1222,2,male,76,0,2,33,3675,,,1\\n1223,1,female,75,0,0,17,2970,+,+,0\\n1224,3,female,,0,0,26,723,,+,0\\n1225,3,male,72,1,1,26,1574,,+,1\\n1226,3,female,73,0,0,34,790,,,0\\n1227,1,female,74,0,0,11,2600,6,,0\\n1228,2,female,74,0,0,24,1300,,,0\\n1229,3,female,75,0,2,26,723,,+,0\\n1230,2,female,73,0,0,31,3150,,,0\\n1231,3,female,,0,0,26,723,,+,1\\n1232,2,female,72,0,0,15,1050,,,0\\n1233,3,female,74,0,0,35,758,,,0\\n1234,3,female,,1,9,23,6955,,,0\\n1235,1,male,77,0,1,17,51233,+ + +,+,1\\n1236,3,female,,1,1,85,1450,,,1\\n1237,3,male,72,0,0,34,765,,,1\\n1238,2,female,73,0,0,23,1300,,,0\\n1239,3,male,75,0,0,26,723,,+,1\\n1240,2,female,73,0,0,24,1350,,,0\\n1241,2,male,74,0,0,13,2100,,,1\\n1242,1,male,76,0,1,17,6336,+ +,+,1\\n1243,2,female,73,0,0,13,1050,,,0\\n1244,2,female,72,0,0,14,7350,,,0\\n1245,2,female,76,1,2,22,6500,,,0\\n1246,3,male,,1,2,23,2058,,,1\\n1247,1,female,76,0,0,11,2600,+,,0\\n1248,1,male,77,2,0,11,5148,1,,1\\n1249,3,female,,0,0,12,788,,,0\\n1250,3,female,,0,0,36,775,,-,0\\n1251,3,male,74,1,0,34,1555,,,1\\n1252,3,female,72,8,2,23,6955,,,0\\n1253,2,male,73,1,1,20,3700,,+,1\\n1254,2,male,74,0,0,31,2100,,,1\\n1255,3,female,73,0,0,31,866,,,0\\n1256,1,male,73,1,0,11,5544,+,+,1\\n1257,3,male,,1,9,23,6955,,,0\\n1258,3,female,,1,0,26,1446,,+,0\\n1259,3,male,73,0,0,31,3969,,,0\\n1260,1,male,76,0,1,11,5940,,+,1\\n1261,2,female,74,0,0,21,1386,,+,0\\n1262,2,female,73,1,0,28,1150,,,0\\n1263,1,male,74,0,0,16,13450,+ +,+,1\\n1264,1,female,76,0,0,11,0,+ + +,,0\\n1265,2,female,76,0,0,24,1300,,,0\\n1266,1,male,77,1,1,33,8186,+,,1\\n1267,1,male,76,0,0,17,26238,,+,1\\n1268,3,male,73,2,0,31,866,,,0\\n1269,2,female,73,0,0,29,1150,,,0\\n1270,1,female,77,0,0,68,5000,+,,0\\n1271,3,female,71,4,2,34,3139,,,0\\n1272,3,female,,0,0,36,775,,-,0\\n1273,3,female,73,0,0,33,788,,-,0\\n1274,3,male,,0,0,36,1450,,,1\\n1275,3,male,72,1,0,37,1610,,,1\\n1276,2,female,,0,0,21,1288,,,0\\n1277,2,male,73,1,2,22,6500,,,1\\n1278,3,female,73,0,0,34,778,,,0\\n1279,2,female,77,0,0,24,1300,,,0\\n1280,3,female,73,0,0,36,775,,-,0\\n1281,3,female,71,3,1,34,2108,,,0\\n1282,1,female,73,0,0,12,9350,+,,0\\n1283,1,male,76,0,1,17,3940,+,,1\\n1284,3,female,72,0,2,26,2025,,,1\\n1285,2,female,76,0,0,30,1050,,,0\\n1286,3,female,74,3,1,31,2203,,,0\\n1287,1,male,72,1,0,13,6000,+,,1\\n1288,3,female,73,0,0,37,725,,-,0\\n1289,1,male,76,1,1,13,7920,+,+,1\\n1290,3,female,73,0,0,34,778,,,0\\n1291,3,female,74,0,0,21,773,,-,0\\n1292,1,male,74,0,0,36,16487,+,,1\\n1293,2,female,75,1,0,28,2100,,,0\\n1294,1,male,73,0,1,11,5940,,+,1\\n1295,1,female,72,0,0,11,4710,,,0\\n1296,1,female,75,1,0,17,2772,+,+,0\\n1297,2,female,73,0,0,21,1386,+,+,0\\n1298,2,female,73,1,0,28,1050,,,0\\n1299,1,female,76,1,1,11,21150,+,+,0\\n1300,3,male,,0,0,33,772,,-,1\\n1301,3,male,70,1,1,31,1378,,,1\\n1302,3,male,,0,0,36,775,,-,1\\n1303,1,male,75,1,0,19,9000,+,-,1\\n1304,3,male,74,0,0,34,778,,,1\\n1305,3,female,,0,0,32,805,,,0\\n1306,1,male,75,0,0,17,10890,5,+,1\\n1307,3,female,75,0,0,31,725,,,0\\n1308,3,female,,0,0,35,805,,,0\\n1309,3,female,,1,1,26,2236,,+,1\\n',\n",
              " 'train_longevity.csv': b'Id,Longevity,Education,Sex,Age,Pet,Children,Region,Activity,MedExam,Sport\\n1,0,3,female,73,1,0,21,725,,\\n2,1,1,male,75,1,0,17,7128,+,+\\n3,1,3,male,73,0,0,31,793,,\\n4,1,1,male,74,1,0,11,5310,+,\\n5,0,3,female,74,0,0,37,805,,\\n6,0,3,female,,0,0,33,846,,-\\n7,0,1,female,77,0,0,17,5186,+,\\n8,0,3,female,70,3,1,34,2108,,\\n9,1,3,male,73,0,2,34,1113,,\\n10,1,2,male,72,1,0,23,3007,,+\\n11,1,3,male,71,1,1,95,1670,+,\\n12,1,1,male,77,0,0,11,2655,+,\\n13,0,3,female,73,0,0,21,805,,\\n14,0,3,female,75,1,5,34,3128,,\\n15,0,3,male,72,0,0,35,785,,\\n16,1,2,male,77,0,0,24,1600,,\\n17,0,3,female,70,4,1,38,2913,,-\\n18,1,2,female,,0,0,24,1300,,\\n19,0,3,male,74,1,0,34,1800,,\\n20,1,3,male,,0,0,26,723,,+\\n21,0,2,female,74,0,0,23,2600,,\\n22,1,2,female,74,0,0,24,1300,+,\\n23,1,3,male,72,0,0,33,803,,-\\n24,1,1,female,74,0,0,11,3550,+,\\n25,0,3,male,71,3,1,34,2108,,\\n26,1,3,male,75,1,5,34,3139,,\\n27,0,3,female,,0,0,26,723,,+\\n28,0,1,female,72,3,2,19,26300,+ + +,\\n29,1,3,male,,0,0,33,788,,-\\n30,0,3,female,,0,0,34,790,,\\n31,0,1,female,75,0,0,17,2772,,+\\n32,1,1,male,,1,0,17,14652,+,+\\n33,1,3,male,,0,0,33,775,,-\\n34,0,2,female,78,0,0,24,1050,,\\n35,0,1,female,74,1,0,17,8217,,+\\n36,0,1,female,75,1,0,11,5200,,\\n37,1,3,female,,0,0,26,723,,+\\n38,0,3,female,73,0,0,21,805,,\\n39,0,3,male,72,2,0,34,1800,,\\n40,1,3,male,72,1,0,26,1124,,+\\n41,0,3,male,75,1,0,75,948,,\\n42,0,2,male,73,1,0,11,2100,,\\n43,0,3,female,,0,0,34,790,,+\\n44,1,2,male,70,1,2,21,4158,,+\\n45,1,3,male,72,0,0,33,788,,-\\n46,0,3,female,,0,0,23,805,,\\n47,0,3,female,,1,0,37,1550,,-\\n48,1,3,male,,0,0,14,775,,-\\n49,0,3,female,,2,0,26,2168,,+\\n50,0,3,male,72,1,0,34,1780,,\\n51,0,3,female,71,4,1,31,3969,,\\n52,0,3,female,73,0,0,39,780,,\\n53,1,1,male,76,1,0,17,7673,+,+\\n54,1,2,male,74,1,0,29,2600,,\\n55,0,1,female,78,0,1,11,6198,+,+\\n56,1,1,female,,0,0,19,3550,+,\\n57,1,2,male,73,0,0,31,1050,,\\n58,0,3,female,74,0,0,26,723,,+\\n59,1,2,male,71,1,2,34,2775,,\\n60,0,3,female,71,5,2,21,4690,,\\n61,0,3,female,73,0,0,26,723,,+\\n62,1,1,male,75,0,0,11,8000,+,\\n63,0,1,female,76,1,0,36,8348,+,\\n64,0,3,female,71,3,2,34,2790,,\\n65,0,1,female,,0,0,17,2772,,+\\n66,1,3,female,,1,1,26,1525,,+\\n67,1,2,male,74,0,0,29,1050,+,\\n68,0,3,female,72,0,0,34,816,,\\n69,1,3,male,72,4,2,31,793,,\\n70,0,3,female,73,2,0,31,866,,\\n71,0,2,female,74,0,0,33,1050,,\\n72,0,3,male,72,5,2,21,4690,,\\n73,0,2,female,73,0,0,14,7350,,\\n74,0,3,female,73,1,0,26,1445,,+\\n75,1,3,female,74,0,0,16,5650,,\\n76,0,3,female,73,0,0,34,765,+ +,\\n77,0,3,female,,0,0,34,790,,\\n78,0,3,female,,0,0,37,805,,\\n79,1,2,female,70,0,2,24,2900,,\\n80,1,3,male,74,0,0,36,1248,,\\n81,0,3,female,73,0,0,34,900,,\\n82,1,3,female,74,0,0,34,950,,\\n83,1,3,male,,0,0,33,779,,-\\n84,0,1,female,74,0,0,11,4710,,\\n85,1,2,male,72,0,0,14,1050,,\\n86,1,3,male,74,3,0,31,1585,,\\n87,0,3,female,72,1,3,66,3438,,\\n88,0,3,female,,0,0,39,805,,\\n89,1,1,male,73,3,2,19,26300,+ + +,\\n90,0,3,female,73,0,0,34,805,,\\n91,0,3,female,74,0,0,34,805,,\\n92,0,3,female,73,0,0,34,785,,\\n93,0,1,female,76,1,0,57,6118,+,\\n94,0,3,female,73,1,2,23,2058,,\\n95,0,3,female,77,0,0,36,725,,\\n96,0,3,female,,0,0,37,805,,\\n97,0,1,female,79,0,0,17,3465,+,+\\n98,1,1,female,73,0,1,17,6336,+ +,+\\n99,1,2,male,74,0,1,23,2300,,\\n100,0,2,female,74,1,0,24,2600,,\\n101,0,3,male,74,0,0,34,790,,\\n102,0,3,female,,0,0,34,790,,\\n103,0,1,female,73,0,1,35,7729,+,\\n104,0,3,female,74,0,0,75,865,,\\n105,0,3,female,75,2,0,31,793,,\\n106,0,3,female,74,0,0,34,790,,\\n107,1,3,male,73,0,0,34,765,,\\n108,1,3,female,,0,0,31,778,,\\n109,0,3,female,75,0,0,34,790,,\\n110,1,3,male,,1,0,37,2415,,-\\n111,0,1,female,76,0,0,11,5200,+,\\n112,0,3,male,72,1,0,26,1445,,+\\n113,0,3,female,73,0,0,32,805,,\\n114,0,3,male,73,1,0,41,983,,\\n115,0,3,male,72,0,0,26,1446,,+\\n116,0,3,female,73,0,0,31,793,,\\n117,0,3,female,79,0,0,37,775,,-\\n118,0,2,female,74,1,0,11,2100,,\\n119,0,1,female,73,0,1,17,24752,+ +,+\\n120,0,3,male,70,4,2,34,3128,,\\n121,0,2,female,73,2,0,14,7350,,\\n122,0,3,female,,0,0,54,805,,\\n123,0,2,female,74,1,0,23,3007,,+\\n124,1,2,male,74,0,0,27,1300,+,\\n125,0,1,female,77,0,1,35,7729,+,\\n126,1,3,female,72,1,0,26,1124,,+\\n127,0,3,female,,0,0,37,775,,-\\n128,1,3,female,73,0,0,17,714,,\\n129,1,3,male,,1,1,26,2236,+ +,+\\n130,0,3,female,76,0,0,34,698,,\\n131,0,3,female,74,0,0,34,790,,+\\n132,0,3,female,73,0,0,31,705,,\\n133,0,3,male,76,1,0,33,1450,,\\n134,1,2,male,74,1,0,22,2600,,\\n135,0,2,female,73,0,0,29,1300,,\\n136,0,2,female,73,0,0,21,1505,,+\\n137,1,1,male,72,0,2,11,2628,+,\\n138,0,1,female,75,1,0,11,5310,+,\\n139,0,3,female,72,0,0,75,922,,\\n140,0,1,female,73,0,0,17,7920,+,+\\n141,0,3,male,,0,2,26,1525,,+\\n142,1,3,male,73,0,0,34,775,,\\n143,1,3,male,73,1,0,31,1585,,\\n144,0,3,female,72,0,0,36,675,,-\\n145,0,2,female,72,0,0,23,1150,,\\n146,0,2,female,72,1,1,33,3675,,\\n147,1,3,female,73,0,0,35,780,,\\n148,0,3,male,71,2,2,66,3438,,\\n149,0,2,female,75,0,2,23,2600,+,\\n150,0,2,female,75,0,0,24,1300,,\\n151,0,2,female,76,0,0,11,1253,,\\n152,1,1,male,73,1,0,11,6660,+,\\n153,0,3,female,77,0,0,11,805,,\\n154,0,3,female,75,0,2,85,1450,,\\n155,0,3,female,,0,0,26,731,,\\n156,0,1,female,76,0,1,17,6138,,+\\n157,1,3,male,72,0,0,35,773,,-\\n158,0,3,female,74,0,0,39,805,,\\n159,0,3,female,,0,0,31,866,,\\n160,0,3,female,,8,2,23,6955,,\\n161,0,3,female,76,0,1,37,1610,,\\n162,1,2,male,75,0,0,33,1575,,\\n163,0,3,female,73,0,0,34,778,,\\n164,0,3,female,72,0,0,31,866,,\\n165,0,3,female,70,4,1,31,3969,,\\n166,1,3,female,71,0,2,36,2053,,\\n167,1,1,male,,0,1,11,5500,+,\\n168,0,3,male,76,1,4,34,2790,,\\n169,0,1,female,,0,0,17,2593,,\\n170,0,3,female,74,0,0,16,5650,,\\n171,0,1,female,78,0,0,11,3350,+,\\n172,0,3,female,71,4,1,38,2913,,-\\n173,1,3,male,70,1,1,34,1113,,\\n174,0,3,female,73,0,0,31,793,,\\n175,0,1,female,77,0,0,17,3070,+,+\\n176,0,3,female,72,1,1,35,785,,\\n177,0,3,female,,3,1,41,2547,,\\n178,0,1,male,76,0,0,17,2871,+,+\\n179,0,2,female,74,0,0,25,1300,,\\n180,0,3,female,75,0,0,LINE,0,,\\n181,0,3,male,,8,2,23,6955,,\\n182,0,2,female,,0,0,21,1505,,+\\n183,0,3,female,71,4,2,34,3139,,\\n184,1,2,female,70,2,1,23,3900,+,\\n185,1,3,male,71,0,2,31,2203,,\\n186,0,1,female,,0,0,11,5000,+,\\n187,1,3,male,,1,0,37,1550,,-\\n188,1,1,female,76,0,0,11,2655,,\\n189,0,3,female,75,1,1,36,1550,,-\\n190,0,3,female,75,0,0,34,790,,\\n191,1,2,male,74,0,0,23,1300,,\\n192,0,2,female,72,0,0,28,1300,,\\n193,1,3,male,72,1,0,35,785,,\\n194,1,2,female,70,1,1,23,2600,+,\\n195,1,1,male,76,0,0,17,2772,+,+\\n196,1,1,male,77,0,0,17,14652,+,+\\n197,0,3,female,,0,0,36,775,,-\\n198,0,3,female,75,0,1,45,840,,\\n199,1,3,male,,0,0,37,775,,-\\n200,0,2,male,73,0,0,24,1300,,\\n201,0,3,female,74,0,0,34,950,,\\n202,0,3,female,,8,2,23,6955,,\\n203,0,3,female,74,0,0,31,650,,\\n204,0,3,female,76,0,0,26,723,,+\\n205,1,3,female,72,0,0,35,805,,\\n206,0,3,male,70,0,1,34,1046,+,\\n207,0,3,female,74,1,0,31,1585,,\\n208,1,3,female,73,0,0,26,1879,,+\\n209,1,3,male,72,0,0,36,775,,-\\n210,1,1,female,75,0,0,11,3100,+,+\\n211,0,3,female,73,0,0,31,705,,\\n212,1,2,male,74,0,0,13,2100,,\\n213,0,3,female,73,0,0,21,725,,\\n214,0,2,female,74,0,0,25,1300,,\\n215,0,3,female,,1,0,36,775,,-\\n216,1,1,male,74,1,0,35,11328,+,+\\n217,1,3,male,73,0,0,31,793,,\\n218,0,2,female,75,1,0,24,2700,,\\n219,1,1,male,74,0,0,11,7629,+,+\\n220,0,2,female,74,0,0,14,1050,,\\n221,1,3,female,72,0,0,39,805,,\\n222,0,2,female,73,0,0,22,1300,,\\n223,0,3,female,76,0,0,21,805,,\\n224,0,3,female,,0,0,34,790,,\\n225,1,1,female,75,1,0,19,9000,+,\\n226,0,3,female,73,0,0,43,935,,\\n227,1,2,female,72,0,0,75,1050,,\\n228,0,3,female,73,0,0,21,725,,\\n229,0,2,female,72,0,0,23,1300,,\\n230,0,3,male,,3,1,41,2547,,\\n231,1,1,male,74,1,0,36,8348,+,\\n232,0,3,female,74,0,0,34,778,,\\n233,0,2,female,77,0,0,23,1350,,\\n234,1,3,male,71,4,2,34,3139,,\\n235,0,2,female,73,0,0,29,1050,,\\n236,0,3,male,,0,0,66,755,,\\n237,0,2,female,76,1,0,26,2600,,\\n238,1,2,male,71,0,2,31,2625,,\\n239,0,2,female,72,0,0,28,1050,,\\n240,0,2,female,74,0,0,15,1228,,\\n241,0,3,male,,1,0,26,1445,,+\\n242,1,3,male,,1,0,36,1550,,-\\n243,0,2,female,74,0,0,14,1050,,\\n244,0,3,female,73,0,0,31,713,,\\n245,0,3,female,74,0,0,26,723,,+\\n246,0,1,female,76,2,0,19,9000,+,-\\n247,0,3,male,73,0,0,34,778,,\\n248,1,2,male,73,0,2,25,1450,,\\n249,1,1,female,75,1,1,11,5255,+,\\n250,0,2,female,77,1,0,24,2600,,\\n251,0,3,female,,0,0,36,725,,\\n252,0,3,male,74,1,1,34,1046,+,\\n253,0,1,female,78,0,0,11,2655,+,\\n254,0,3,female,74,1,0,33,1610,,\\n255,0,3,male,75,0,2,37,2021,,\\n256,1,3,male,74,0,2,26,1525,,+\\n257,1,1,male,,0,0,17,7920,,+\\n258,1,1,male,74,0,0,11,8650,+,\\n259,1,1,male,74,0,0,17,51233,,+\\n260,1,2,male,76,0,1,23,2600,,\\n261,0,3,female,,0,0,38,775,,-\\n262,1,3,female,70,4,2,34,3139,,\\n263,0,1,female,77,1,1,11,7965,+,\\n264,0,1,female,75,0,0,11,0,+,\\n265,0,3,male,,0,0,38,775,,-\\n266,0,2,female,75,0,0,17,1050,,\\n267,0,3,female,72,4,1,31,3969,,\\n268,1,3,female,73,1,0,34,778,,\\n269,1,1,male,77,0,1,17,15346,+,\\n270,1,1,male,74,0,0,17,13563,+,\\n271,0,1,female,,0,0,11,3100,,\\n272,1,3,female,73,0,0,LINE,0,,\\n273,1,2,male,75,0,1,25,1950,,\\n274,0,1,female,75,0,1,17,2970,+,+\\n275,1,3,male,,0,0,37,775,,-\\n276,1,1,male,78,1,0,13,7796,+,\\n277,0,3,male,76,0,0,34,775,,\\n278,0,2,female,,0,0,23,0,,\\n279,0,3,female,71,4,1,38,2913,,-\\n280,1,3,male,74,1,1,26,2025,,\\n281,0,3,female,78,0,0,33,775,,-\\n282,0,3,female,74,0,0,34,785,,\\n283,0,3,female,72,0,0,34,950,,\\n284,1,3,female,72,0,0,10,805,,\\n285,0,1,female,,0,0,11,2600,+,\\n286,0,3,female,74,0,0,34,866,,+\\n287,1,3,female,74,0,0,34,950,,\\n288,0,3,female,73,0,0,34,790,,\\n289,1,2,female,75,0,0,23,1300,,\\n290,1,3,male,73,0,0,37,775,,-\\n291,1,1,male,73,0,0,19,7885,,\\n292,1,1,male,72,1,0,11,9108,+,+\\n293,0,2,female,75,0,0,21,1288,+,+\\n294,0,3,male,73,0,0,34,885,,\\n295,0,3,female,73,0,0,34,790,,\\n296,0,1,female,,0,0,17,2772,,+\\n297,0,3,female,73,0,0,26,723,,+\\n298,0,1,male,70,1,2,11,15155,+ +,\\n299,1,1,female,,0,0,19,3050,+,\\n300,1,1,male,76,0,1,17,24752,+ +,+\\n301,1,3,male,,0,0,92,775,,-\\n302,1,3,female,,2,0,36,2325,,-\\n303,0,3,female,72,0,0,LINE,0,,\\n304,1,2,male,,0,0,22,1235,+,-\\n305,0,3,female,,0,0,24,805,,\\n306,1,1,female,,1,2,11,15155,+ +,\\n307,1,1,male,,0,0,17,11088,,+\\n308,1,1,male,72,1,0,17,10890,+,+\\n309,0,2,female,74,1,0,33,2400,,+\\n310,1,1,male,74,0,0,17,5693,+,+\\n311,1,1,male,73,0,0,11,8316,+,+\\n312,1,1,male,72,2,2,17,26238,+ + + +,+\\n313,0,2,male,73,1,1,25,2600,,\\n314,0,3,female,74,0,0,34,790,,\\n315,0,2,female,75,1,1,13,2625,,\\n316,1,3,male,73,0,0,34,785,,\\n317,1,2,male,73,1,0,24,2600,,\\n318,0,2,female,77,0,0,29,1400,,\\n319,1,1,male,74,0,2,36,16487,+,\\n320,1,1,male,75,1,1,16,13450,+,+\\n321,0,3,female,73,0,0,21,725,,\\n322,0,3,female,73,0,0,34,790,,\\n323,1,2,male,74,0,0,23,1235,,-\\n324,1,2,male,73,1,1,24,2900,,\\n325,0,3,female,,8,2,23,6955,,\\n326,1,1,male,75,0,0,17,13563,+,+\\n327,0,3,female,78,0,0,34,624,,\\n328,1,2,male,75,0,0,28,1300,+,\\n329,1,3,male,74,1,1,36,2053,,\\n330,1,1,male,72,0,1,11,5798,+,+\\n331,1,3,male,,2,0,36,2325,,-\\n332,0,1,female,76,0,0,11,2850,+,\\n333,0,1,female,75,0,1,17,15346,+,\\n334,0,3,female,72,2,0,34,1800,,\\n335,1,1,male,,1,0,17,13365,,\\n336,0,3,female,,0,0,34,790,,\\n337,0,1,female,74,1,0,11,6660,+,\\n338,1,1,male,75,0,0,16,13450,+,+\\n339,1,3,female,76,0,0,75,805,,\\n340,0,1,female,76,0,0,11,3550,T,\\n341,1,2,female,70,1,1,23,2600,+,\\n342,1,1,male,73,3,2,19,26300,+ + +,\\n343,0,2,female,74,0,0,24,1300,,\\n344,0,2,female,73,0,0,24,1300,,\\n345,0,2,female,75,0,0,22,1300,,\\n346,1,2,male,73,0,0,24,1300,+,\\n347,1,2,male,75,0,0,31,1300,,\\n348,1,3,male,,1,0,38,1610,,\\n349,1,3,female,70,1,1,37,1590,,\\n350,0,3,female,75,0,0,31,866,,\\n351,0,3,female,73,0,0,72,923,,\\n352,0,1,female,,0,0,11,3500,+,\\n353,0,3,female,72,1,1,26,723,,+\\n354,0,3,female,73,1,0,34,1780,,\\n355,0,3,female,,0,0,26,723,,+\\n356,0,3,female,74,0,0,34,950,,\\n357,1,1,male,73,0,1,11,5500,+,\\n358,0,2,male,75,0,0,23,1300,,\\n359,1,3,male,,0,0,33,788,,-\\n360,1,3,male,,0,0,33,788,,-\\n361,0,3,female,75,1,4,34,2790,,\\n362,0,2,female,74,1,0,21,2772,,+\\n363,0,3,male,76,0,1,26,1445,,+\\n364,0,3,female,74,0,0,31,705,,\\n365,0,3,female,,1,0,37,1550,,-\\n366,0,3,female,74,0,0,70,725,,\\n367,1,1,male,78,1,0,11,7525,+,+\\n368,1,3,male,,0,0,26,723,,+\\n369,1,3,male,,0,0,14,775,,-\\n370,1,1,male,73,0,0,17,6930,+,+\\n371,1,1,female,73,1,0,11,5544,+,+\\n372,0,3,female,72,1,0,31,650,,\\n373,0,3,female,72,0,0,32,805,,\\n374,0,1,female,73,0,0,17,13563,,+\\n375,0,3,male,70,3,1,34,2108,,\\n376,1,1,male,,1,0,17,8217,,+\\n377,1,3,male,73,0,0,70,725,,\\n378,0,1,female,73,0,2,11,21150,+,+\\n379,0,3,female,73,0,0,26,401,,+\\n380,0,3,female,72,0,0,34,778,,\\n381,1,1,male,75,0,0,17,22753,,+\\n382,1,3,male,70,0,2,26,1574,,+\\n383,0,3,female,74,0,0,31,793,,\\n384,1,1,male,74,1,0,11,5200,,\\n385,0,3,female,,0,0,34,790,,\\n386,0,2,female,72,0,0,14,7350,,\\n387,0,3,female,70,5,2,21,4690,,\\n388,1,2,male,75,0,0,27,1300,,\\n389,0,3,female,,0,0,36,773,,-\\n390,1,2,male,72,0,0,17,1200,,+\\n391,1,1,female,75,1,2,11,12000,+ +,\\n392,1,3,female,73,0,0,35,780,,\\n393,0,3,female,74,2,0,31,793,,\\n394,1,1,male,73,1,0,35,11328,+,+\\n395,1,3,male,73,0,2,95,1670,+,\\n396,0,3,female,73,0,0,35,780,,\\n397,0,3,male,74,0,0,35,785,,\\n398,0,2,female,76,0,0,28,2600,,\\n399,0,2,female,73,0,0,24,1050,,\\n400,1,2,male,74,0,0,24,1265,,\\n401,1,3,female,75,0,0,31,793,,\\n402,0,3,female,73,0,0,34,805,,\\n403,0,3,male,73,1,0,41,983,,\\n404,0,3,female,74,1,0,31,1585,,\\n405,0,3,male,73,0,0,31,866,,\\n406,0,2,female,74,1,0,28,2100,,\\n407,0,3,female,76,0,0,34,775,,\\n408,1,2,female,70,1,1,29,1875,,\\n409,0,3,female,73,0,0,31,778,,\\n410,0,3,male,,3,1,41,2547,,\\n411,0,3,female,,0,0,34,790,,\\n412,0,3,female,,0,0,39,686,,-\\n413,1,1,male,74,1,0,19,9000,+,-\\n414,0,2,female,,0,0,23,0,,\\n415,1,3,female,76,0,0,31,793,,\\n416,0,3,male,,0,0,34,805,,\\n417,1,2,male,74,1,1,28,3250,,\\n418,1,2,male,72,0,2,25,1300,,\\n419,0,2,female,74,0,0,28,1300,,\\n420,0,3,male,71,0,2,34,2415,,\\n421,0,3,female,,0,0,34,790,,+\\n422,0,3,female,73,0,0,13,773,,-\\n423,0,3,female,74,0,0,31,788,,\\n424,0,3,male,74,1,1,34,1440,,\\n425,0,3,female,72,1,1,37,2021,,\\n426,0,3,female,,0,0,34,725,,\\n427,1,2,male,74,1,0,20,2600,,\\n428,1,2,male,72,0,0,25,2600,,\\n429,0,3,female,,0,0,36,775,,-\\n430,1,3,female,74,0,0,39,805,+,\\n431,1,1,female,74,0,0,11,2655,+,\\n432,1,3,male,,1,0,37,1610,,\\n433,1,2,male,75,1,0,30,2600,,\\n434,0,3,female,72,0,0,31,713,,\\n435,0,1,female,76,1,0,13,5590,+,\\n436,1,1,male,72,1,2,11,12000,+ +,\\n437,0,3,male,73,2,2,66,3438,,\\n438,1,2,male,73,2,3,29,1875,,\\n439,0,1,female,78,1,4,19,26300,+ + +,\\n440,0,2,female,74,0,0,18,1050,,\\n441,1,2,male,76,1,1,13,2625,,\\n442,0,3,female,73,0,0,34,950,,\\n443,0,3,female,73,1,0,34,778,,\\n444,1,2,male,74,0,0,23,1300,,\\n445,1,3,female,,0,0,65,811,,\\n446,1,1,female,71,0,2,33,8186,+,\\n447,1,2,male,72,0,1,25,1950,,\\n448,1,1,female,74,0,0,11,2655,,\\n449,1,3,male,71,2,1,26,1926,,+\\n450,1,1,female,77,0,0,11,3050,+,\\n451,0,2,female,75,1,2,34,2775,,\\n452,0,3,female,,1,0,65,1997,,\\n453,0,1,female,74,0,0,11,2775,+,+\\n454,1,1,female,76,1,0,17,8910,+,+\\n455,0,3,female,,0,0,28,805,,\\n456,1,3,female,74,0,0,34,790,,+\\n457,0,1,female,78,0,0,13,2655,+,\\n458,1,1,male,,1,0,17,5186,+,\\n459,1,2,male,76,0,0,13,1050,,\\n460,0,3,female,,0,0,37,775,,-\\n461,1,1,female,76,0,0,19,2655,+,\\n462,0,3,female,74,0,0,36,805,,\\n463,0,1,female,76,0,0,11,3850,+,\\n464,0,2,female,76,0,0,23,1300,,\\n465,0,3,female,,0,0,28,805,,\\n466,0,3,female,75,0,0,31,705,,\\n467,0,2,female,,0,0,23,0,,\\n468,0,1,female,77,0,0,11,2655,,\\n469,0,3,female,,0,0,36,773,,-\\n470,1,3,male,#\\xd0\\x97\\xd0\\x9d\\xd0\\x90\\xd0\\xa7!,2,1,26,1926,,+\\n471,0,3,female,,0,0,32,725,,\\n472,0,3,female,75,0,0,31,866,,\\n473,1,2,male,74,1,2,34,2775,,\\n474,1,2,male,73,0,0,54,1379,+,+\\n475,0,3,male,73,0,0,75,984,,\\n476,0,1,female,,0,0,11,5200,+,\\n477,0,2,female,74,1,0,31,2100,,\\n478,0,3,female,74,1,0,34,705,,\\n479,0,3,female,73,0,0,35,752,,\\n480,1,3,male,70,0,1,31,1229,,\\n481,0,3,female,71,5,2,21,4690,,\\n482,0,2,female,,0,0,23,0,,\\n483,0,3,female,76,0,0,35,805,,\\n484,1,3,male,78,0,0,41,959,,\\n485,1,1,female,73,1,0,11,9108,+,+\\n486,0,3,male,,3,1,41,2547,,\\n487,1,1,male,74,1,0,19,9000,+,\\n488,0,1,female,77,0,0,11,2970,+,+\\n489,0,3,female,74,0,0,18,805,,\\n490,1,3,female,71,1,1,37,1590,,\\n491,0,3,female,,1,0,65,1997,,\\n492,0,3,female,73,0,0,31,725,,\\n493,0,1,female,77,0,0,11,3050,+,\\n494,0,1,female,79,0,0,17,4950,,+\\n495,0,3,female,73,0,0,45,805,,\\n496,0,3,female,,0,0,26,1446,,+\\n497,1,1,male,77,1,0,36,7827,+,+\\n498,0,3,female,,0,0,62,1510,,\\n499,0,1,male,73,1,2,11,15155,+ +,\\n500,0,3,female,73,0,0,35,780,,\\n501,0,3,female,72,0,0,31,866,,\\n502,0,3,male,73,0,0,36,775,,-\\n503,0,3,male,,0,0,33,763,,-\\n504,0,3,male,75,0,0,41,959,,\\n505,1,1,male,72,0,0,11,8650,+,\\n506,0,1,female,72,1,0,17,10890,+,+\\n507,1,2,male,74,0,2,26,2600,,\\n508,1,1,female,,0,0,11,2655,,\\n509,0,3,female,74,0,0,40,2253,,\\n510,1,3,female,73,0,0,16,5650,,\\n511,1,3,female,74,0,0,38,775,,-\\n512,0,3,female,,0,0,31,805,,\\n513,1,1,female,75,0,0,17,2629,+,\\n514,1,1,male,77,1,0,17,5940,,+\\n515,0,3,female,73,0,0,34,750,,\\n516,0,1,female,76,0,0,36,3402,+,\\n517,1,2,male,74,0,0,34,1050,+,\\n518,0,3,female,,0,0,37,2415,,-\\n519,1,2,male,75,1,0,22,2600,,\\n520,0,3,female,74,0,0,34,790,,\\n521,1,1,male,74,0,0,12,9350,+,\\n522,0,3,female,73,0,0,34,790,,\\n523,0,3,female,,0,0,26,723,,+\\n524,1,1,male,76,0,1,11,5798,+,+\\n525,0,3,female,,0,0,27,723,,+\\n526,0,3,female,75,0,0,36,775,,-\\n527,1,2,male,76,0,0,14,1050,,\\n528,0,1,female,,0,0,17,22178,+,\\n529,0,3,female,75,0,0,31,793,,\\n530,0,2,female,73,2,1,29,1150,,\\n531,1,2,male,70,1,1,26,2600,,\\n532,0,3,female,,0,0,26,723,,+\\n533,0,3,female,72,1,1,26,723,,+\\n534,1,3,male,,0,2,26,2236,,+\\n535,0,3,male,74,0,0,31,866,,\\n536,1,2,male,71,0,2,13,2625,,\\n537,0,1,female,76,0,0,11,2655,+,\\n538,1,1,male,74,0,0,17,10643,,+\\n539,0,3,female,,0,0,36,1450,,\\n540,1,1,male,73,0,2,13,4950,+,+\\n541,1,1,male,75,0,2,57,7100,+,\\n542,0,3,male,71,4,2,34,3128,,\\n543,0,3,male,71,4,2,34,3128,,\\n544,1,2,female,74,1,0,29,2600,,\\n545,0,1,female,76,1,0,17,10643,+,+\\n546,0,1,female,78,0,0,69,2600,,\\n547,1,2,male,72,1,0,29,2600,,\\n548,1,2,female,,0,0,21,1386,,+\\n549,0,3,female,74,1,1,36,2053,,\\n550,1,2,female,71,1,1,33,3675,,\\n551,1,1,female,72,0,2,17,11088,+,+\\n552,0,2,female,73,0,0,24,2600,,\\n553,0,3,female,,0,0,33,783,,-\\n554,1,3,female,73,0,0,26,723,,+\\n555,1,3,male,73,0,0,34,778,,\\n556,0,1,female,78,0,0,11,2655,,\\n557,1,1,male,76,1,0,11,3960,+,+\\n558,0,1,female,,0,0,17,22753,,+\\n559,1,1,male,75,1,1,11,7965,+,\\n560,1,3,male,75,1,0,34,1740,,\\n561,0,3,female,,0,0,37,775,,-\\n562,0,3,female,75,0,0,34,790,,\\n563,0,2,female,74,0,0,21,1350,,\\n564,0,3,female,,0,0,39,805,,\\n565,0,3,male,,0,0,39,805,,\\n566,0,3,female,73,2,0,48,2415,,\\n567,0,3,female,72,0,0,34,790,,\\n568,0,3,male,74,0,4,34,2108,,\\n569,0,3,female,,0,0,26,723,,+\\n570,1,3,female,74,0,0,35,785,,\\n571,1,2,female,78,0,0,75,1050,,\\n572,1,1,male,77,2,0,11,5148,+,\\n573,1,1,female,75,0,0,17,2639,+,\\n574,1,3,male,,0,0,14,775,,-\\n575,0,3,female,72,0,0,20,805,,\\n576,0,3,female,72,0,0,35,1450,,\\n577,1,2,male,74,0,0,24,1300,,\\n578,1,1,male,75,1,0,13,5590,+,\\n579,0,3,male,,1,0,26,1446,,+\\n580,1,3,female,74,0,0,31,793,,\\n581,1,2,male,73,1,1,23,3000,,\\n582,1,1,male,75,1,1,17,11088,+,+\\n583,0,2,female,77,0,0,28,2600,,\\n584,0,1,female,75,0,0,13,4013,+,+\\n585,0,3,female,,0,0,34,871,,+\\n586,1,1,male,72,0,2,11,7965,+,\\n587,0,2,female,76,0,0,23,1500,,\\n588,1,1,female,78,1,1,13,7920,+,+\\n589,0,3,female,73,0,0,14,805,,\\n590,0,3,female,,0,0,32,805,,\\n591,0,3,female,74,0,0,31,713,,\\n592,1,1,male,77,1,0,36,7827,+,+\\n593,0,3,female,76,0,0,39,725,,\\n594,0,3,male,,0,2,36,775,,-\\n595,0,2,female,75,1,0,29,2600,,\\n596,0,3,female,75,1,1,34,2415,,\\n597,1,2,male,,0,0,24,3300,,\\n598,0,3,female,76,0,0,LINE,0,,\\n599,0,3,female,,0,0,26,723,,+\\n600,1,1,female,76,1,0,17,5693,+,+\\n601,1,2,male,73,2,1,24,2700,,\\n602,0,3,female,,0,0,34,790,,\\n603,0,1,female,,0,0,11,4240,,\\n604,0,3,female,76,0,0,36,805,,\\n605,1,1,female,74,0,0,11,2655,,+\\n606,0,3,female,75,1,0,34,1555,,\\n607,0,3,female,74,0,0,34,790,,\\n608,1,1,female,73,0,0,11,3050,,\\n609,1,2,male,73,1,2,21,4158,,+\\n610,1,1,male,75,0,0,17,15346,+,\\n611,0,3,male,75,1,5,34,3128,,\\n612,0,3,female,,0,0,31,705,,\\n613,1,3,male,,1,0,36,1550,,-\\n614,0,3,female,,0,0,37,775,,-\\n615,0,3,female,74,0,0,36,805,,\\n616,1,2,male,73,1,2,22,6500,,\\n617,0,3,female,74,1,1,34,1440,,\\n618,0,3,male,73,1,0,33,1610,,\\n619,1,2,male,71,2,1,23,3900,+,\\n620,0,2,female,73,0,0,31,1050,,\\n621,0,3,female,73,1,0,26,1445,,+\\n622,1,1,female,75,1,0,11,5255,+,\\n623,1,3,female,73,1,1,26,1574,,+\\n624,0,3,female,73,0,0,35,785,,\\n625,0,3,female,73,0,0,54,1610,,\\n626,0,1,female,78,0,0,36,3232,+,\\n627,0,2,female,77,0,0,21,1235,,-\\n628,1,1,male,73,0,0,13,7796,+,\\n629,0,3,female,73,0,0,34,790,,\\n630,0,3,female,,0,0,33,773,,-\\n631,1,1,female,80,0,0,27,3000,+,\\n632,0,3,female,76,0,0,34,705,,\\n633,1,1,female,74,0,0,13,3050,+,+\\n634,0,1,female,,0,0,11,0,,\\n635,0,3,male,71,3,2,34,2790,,\\n636,1,2,male,74,0,0,23,1300,,\\n637,0,3,female,74,0,0,31,793,,\\n638,0,2,female,74,1,1,31,2625,,\\n639,0,3,male,75,0,5,31,3969,,\\n640,0,3,female,,1,0,37,1610,,\\n641,0,3,female,73,0,0,35,785,,\\n642,1,1,male,73,0,0,17,6930,+,+\\n643,0,3,male,70,3,2,34,2790,,\\n644,1,3,female,,0,0,16,5650,,\\n645,1,3,male,,2,1,26,1926,,+\\n646,1,1,female,76,1,0,17,7673,+,+\\n647,0,3,female,72,0,0,34,790,,\\n648,1,1,female,77,0,0,13,3550,+,+\\n649,0,3,female,,0,0,75,755,,\\n650,1,3,male,73,0,0,23,755,,\\n651,0,3,female,,0,0,34,790,,\\n652,1,2,male,72,0,1,23,2300,,\\n653,0,3,female,73,0,0,84,843,,\\n654,1,3,male,,0,0,33,783,,-\\n655,0,3,male,72,0,0,36,675,,-\\n656,0,2,female,73,2,0,14,7350,,\\n657,0,3,female,,0,0,34,790,,\\n658,0,3,male,74,1,1,36,1550,,-\\n659,0,2,female,73,0,0,29,1300,,\\n660,0,1,female,77,0,2,35,11328,+,+\\n661,1,1,female,76,2,0,17,13365,,\\n662,0,3,female,75,0,0,26,723,,+\\n663,0,1,female,76,0,0,57,2559,+,\\n664,0,3,female,75,0,0,34,750,,\\n665,1,3,female,73,1,0,31,793,,\\n666,0,2,female,74,2,0,14,7350,,\\n667,0,2,female,73,0,0,23,1300,,\\n668,0,3,female,,0,0,31,778,,\\n669,0,3,female,75,0,0,35,805,,\\n670,1,1,male,,1,0,19,5200,+,\\n671,1,2,male,75,1,1,29,3900,,\\n672,0,1,female,74,1,0,12,5200,+,\\n673,0,2,female,79,0,0,24,1050,,\\n674,1,2,female,74,0,0,24,1300,,\\n675,0,2,female,,0,0,23,0,,\\n676,0,3,female,72,0,0,34,778,,\\n677,0,3,female,73,0,0,34,805,,\\n678,1,3,male,72,0,0,41,984,,\\n679,0,3,male,75,1,6,21,4690,,\\n680,1,1,female,75,0,1,17,51233,+ + +,+\\n681,0,3,male,,0,0,33,814,,-\\n682,1,1,female,73,0,0,17,7673,+,+\\n683,0,3,female,73,0,0,65,923,,\\n684,0,3,female,72,5,2,21,4690,,\\n685,0,2,female,78,1,1,29,3900,,\\n686,0,2,female,73,1,2,21,4158,,+\\n687,0,3,female,72,4,1,31,3969,,\\n688,0,3,female,72,0,0,34,1017,,\\n689,0,3,female,72,0,0,35,780,,\\n690,1,1,male,72,0,1,24,21134,+,\\n691,1,1,female,74,1,0,17,5700,+,\\n692,1,3,male,71,0,1,34,1342,,+\\n693,1,3,female,,0,0,16,5650,,\\n694,0,3,female,73,0,0,26,723,,+\\n695,0,1,female,78,0,0,11,2655,,\\n696,0,2,female,77,0,0,24,1350,,\\n697,0,3,female,76,0,0,36,805,,\\n698,1,3,male,,0,0,35,773,,-\\n699,0,1,female,76,1,1,17,11088,+,+\\n700,0,3,female,75,0,0,34,765,+ +,\\n701,1,1,male,72,1,0,17,22753,+ +,+\\n702,1,1,female,74,0,0,17,2629,+,\\n703,0,3,male,72,0,1,26,1445,,+\\n704,0,3,female,73,0,0,36,774,,-\\n705,0,3,female,73,1,0,35,785,,\\n706,0,2,female,75,0,0,25,2600,,\\n707,1,2,male,76,0,0,22,1350,,\\n708,1,1,female,75,0,0,17,2629,+,\\n709,1,1,male,73,0,0,11,15155,,\\n710,1,3,female,,1,1,26,1525,,+\\n711,1,1,male,73,0,0,17,4950,+,+\\n712,0,1,female,,0,0,11,2655,+,\\n713,1,1,female,76,1,0,19,5200,+,\\n714,0,3,female,74,0,0,75,948,,\\n715,0,2,female,77,0,0,25,1300,,\\n716,0,3,female,72,0,0,34,765,+ +,\\n717,1,1,male,75,0,0,17,22753,+,+\\n718,1,2,male,73,0,0,34,1050,+,\\n719,0,3,female,,0,0,36,1550,,-\\n720,0,3,female,74,0,0,34,778,,\\n721,1,2,male,71,0,1,24,3300,,\\n722,0,3,female,72,1,0,35,705,,\\n723,0,2,female,74,0,0,12,1300,,\\n724,0,2,female,76,0,0,25,1300,,\\n725,1,1,female,73,1,0,11,5310,+,\\n726,0,3,female,73,0,0,31,866,,\\n727,1,2,male,74,3,0,31,2100,,\\n728,1,3,male,,0,0,36,774,,-\\n729,0,2,female,73,1,0,23,2600,,\\n730,0,3,male,73,1,0,31,793,,\\n731,1,1,male,74,0,0,24,21134,+,\\n732,0,3,female,71,0,0,26,1879,,+\\n733,0,2,female,,0,0,23,0,,\\n734,0,2,female,73,0,0,28,1300,,\\n735,0,2,female,73,0,0,23,1300,,\\n736,0,3,female,74,0,0,54,1610,,\\n737,0,3,male,76,1,3,66,3438,,\\n738,1,1,female,74,0,0,17,51233,+,+\\n739,0,3,female,,0,0,34,790,,\\n740,0,3,female,,0,0,34,790,,\\n741,1,1,female,,0,0,16,3000,+,\\n742,0,1,female,75,1,0,19,7885,+,\\n743,1,1,male,73,2,2,17,26238,+ + + +,+\\n744,0,3,female,73,1,0,37,1610,,\\n745,1,3,female,74,0,0,31,793,,\\n746,0,1,female,79,1,1,57,7100,+,\\n747,0,3,female,72,1,1,26,2025,,\\n748,1,2,male,74,0,0,25,1300,,\\n749,0,1,female,72,1,0,11,5310,+,\\n750,0,3,female,74,0,0,33,775,,-\\n751,1,2,male,71,1,1,29,2300,,\\n752,1,3,female,71,0,1,39,1248,+,\\n753,0,3,female,74,0,0,34,950,,\\n754,0,3,female,73,0,0,34,790,,\\n755,1,2,male,76,1,2,22,6500,,\\n756,1,2,female,,1,1,25,1450,,\\n757,0,3,female,74,0,0,35,780,,\\n758,0,2,female,72,0,0,29,1150,,\\n759,0,3,female,74,0,0,36,805,,\\n760,1,1,male,74,0,0,11,8650,+,\\n761,0,3,female,,0,0,35,1450,,\\n762,0,3,female,75,0,0,31,713,,\\n763,1,3,female,73,0,0,26,723,,+\\n764,1,1,male,75,1,2,11,12000,+ +,\\n765,0,3,female,72,0,0,34,778,,\\n766,1,1,male,76,1,0,13,7796,+,\\n767,0,1,female,,0,0,11,3960,,+\\n768,0,3,male,74,0,0,36,775,,-\\n769,0,3,female,,1,0,37,2415,,-\\n770,0,3,female,74,0,0,84,836,,\\n771,0,3,female,73,0,0,34,950,,\\n772,0,3,female,76,0,0,35,785,,\\n773,0,2,male,77,0,0,S.O./P.P. 3,1050,+,\\n774,0,3,female,,0,0,26,723,,+\\n775,1,2,male,77,1,3,29,2300,,\\n776,0,3,female,72,0,0,34,775,,\\n777,0,3,female,,0,0,38,775,+,-\\n778,1,3,male,71,0,0,36,1248,,\\n779,0,3,female,,0,0,36,774,,-\\n780,1,1,male,75,0,1,24,21134,+,\\n781,1,3,male,72,0,0,26,723,,+\\n782,1,1,male,72,1,0,17,5700,+,\\n783,0,1,female,74,0,0,11,3000,+,\\n784,0,3,female,,1,2,66,2345,,\\n785,0,3,female,73,0,0,31,705,,\\n786,0,3,female,73,0,0,37,725,,\\n787,1,3,male,72,0,0,31,750,,\\n788,0,3,female,71,4,1,38,2913,,-\\n789,1,3,female,70,1,2,23,2058,,\\n790,0,1,female,76,0,0,17,7920,+ +,+\\n791,0,3,female,,0,0,12,775,,-\\n792,0,2,female,72,0,0,23,2600,,\\n793,0,3,male,,8,2,23,6955,,\\n794,0,1,female,,0,0,17,3070,,+\\n795,0,3,female,73,0,0,34,790,,\\n796,0,2,female,75,0,0,28,1300,,\\n797,1,1,male,76,0,0,17,2593,+,\\n798,1,3,male,74,0,0,34,868,,\\n799,0,3,female,74,0,0,26,723,,+\\n800,0,3,male,74,1,1,34,2415,,\\n801,0,2,female,74,0,0,25,1300,,\\n802,1,2,male,74,1,1,31,2625,,\\n803,1,1,female,71,1,2,11,12000,+ +,\\n804,1,3,female,,0,1,26,852,,+\\n805,1,3,female,73,0,0,34,698,,\\n806,0,3,female,74,0,0,34,778,,\\n807,0,1,female,75,0,0,11,0,+,\\n808,0,3,male,72,0,0,34,778,,\\n809,0,2,female,75,0,0,24,1300,,\\n810,1,1,male,74,1,0,11,5310,+,\\n811,0,3,female,73,0,0,34,789,,\\n812,0,3,female,75,0,0,48,2415,,\\n813,0,2,female,74,0,0,28,1050,,\\n814,0,3,male,71,4,2,34,3128,,\\n815,0,3,female,74,0,0,36,805,,\\n816,0,1,female,,0,0,11,0,+,\\n817,0,3,male,73,0,0,31,793,,\\n818,0,2,female,74,1,1,20,3700,,+\\n819,0,3,female,75,0,0,70,645,,\\n820,0,3,female,71,3,2,34,2790,,\\n821,1,1,male,77,1,1,12,9350,+,\\n822,1,3,female,73,0,0,31,866,,\\n823,0,1,female,75,0,0,19,0,,\\n824,1,3,male,73,0,1,39,1248,+,\\n825,0,3,female,70,4,1,31,3969,,\\n826,0,3,female,,0,0,36,695,,-\\n827,0,3,female,,0,0,16,5650,,\\n828,1,2,female,70,0,2,20,3700,,+\\n829,1,3,female,,0,0,36,775,,-\\n830,1,1,male,78,0,0,11,8000,+,\\n831,1,3,male,72,1,0,26,1445,,+\\n832,1,2,female,,1,1,29,1875,,\\n833,0,3,female,,0,0,26,723,,+\\n834,0,3,female,73,0,0,34,785,,\\n835,0,3,female,72,0,0,22,830,,\\n836,1,1,male,75,1,1,17,8316,+,+\\n837,0,3,female,73,0,0,31,866,,\\n838,0,3,female,,0,0,39,805,,\\n839,1,3,female,74,0,0,16,5650,,\\n840,1,1,female,,0,0,11,2970,+,+\\n841,0,3,female,73,0,0,31,793,,\\n842,0,2,female,72,0,0,S.O./P.P. 3,1050,,\\n843,1,1,male,74,0,0,11,3100,,+\\n844,0,3,female,74,0,0,26,644,,+\\n845,0,3,female,72,0,0,31,866,,\\n846,0,3,female,75,0,0,55,755,,\\n847,0,3,female,,8,2,23,6955,,\\n848,0,3,female,74,0,0,34,790,,+\\n849,0,2,female,74,0,1,24,3300,,\\n850,1,1,male,,1,0,17,8910,+,+\\n851,0,3,female,71,4,2,34,3128,,\\n852,0,3,female,79,0,0,34,778,,\\n853,0,3,male,71,1,1,26,1525,,+\\n854,1,1,male,72,0,1,17,3940,+,\\n855,0,2,male,76,1,0,24,2600,,\\n856,1,3,male,72,0,1,39,935,,\\n857,1,1,male,76,1,1,36,16487,,\\n'}"
            ]
          },
          "metadata": {
            "tags": []
          },
          "execution_count": 1
        }
      ]
    },
    {
      "cell_type": "code",
      "metadata": {
        "id": "zFMCWaCiAqv5",
        "colab": {
          "base_uri": "https://localhost:8080/"
        },
        "outputId": "3688c9bb-6c07-4c35-bfe2-b1b8791f27c6"
      },
      "source": [
        "!ls"
      ],
      "execution_count": null,
      "outputs": [
        {
          "output_type": "stream",
          "text": [
            "sample_data  test_longevity.csv  train_longevity.csv\n"
          ],
          "name": "stdout"
        }
      ]
    },
    {
      "cell_type": "markdown",
      "metadata": {
        "id": "nIOcZFPbUmUK"
      },
      "source": [
        "# Проход по практической части [методички](https://alexbmstu.github.io/2020)"
      ]
    },
    {
      "cell_type": "markdown",
      "metadata": {
        "id": "sysqKd-LCILi"
      },
      "source": [
        "## Импорт библиотек"
      ]
    },
    {
      "cell_type": "code",
      "metadata": {
        "id": "483ZDCJIBPaT"
      },
      "source": [
        " # data analysis and wrangling\n",
        "import pandas as pd\n",
        "import numpy as np\n",
        "import random as rnd\n",
        "\n",
        " # visualization\n",
        "import seaborn as sns\n",
        "import matplotlib.pyplot as plt\n",
        "%matplotlib inline"
      ],
      "execution_count": null,
      "outputs": []
    },
    {
      "cell_type": "markdown",
      "metadata": {
        "id": "EK8nBp9RCKmo"
      },
      "source": [
        "## Посмотрим на данные"
      ]
    },
    {
      "cell_type": "code",
      "metadata": {
        "id": "J4MyM8LpB7QO"
      },
      "source": [
        "train_df = pd.read_csv('train_longevity.csv')\n",
        "test_df = pd.read_csv('test_longevity.csv')\n",
        "combine = [train_df, test_df]"
      ],
      "execution_count": null,
      "outputs": []
    },
    {
      "cell_type": "code",
      "metadata": {
        "id": "RLfpCZfFCEkX",
        "colab": {
          "base_uri": "https://localhost:8080/"
        },
        "outputId": "0e533b0a-38af-4fe3-c567-dcd3a615285f"
      },
      "source": [
        "print(train_df.columns.values)\n",
        "['Id' 'Longevity' 'Education' 'Sex' 'Age' 'Pet' 'Children' 'Region' 'Activity' 'MedExam' 'Sport']"
      ],
      "execution_count": null,
      "outputs": [
        {
          "output_type": "stream",
          "text": [
            "['Id' 'Longevity' 'Education' 'Sex' 'Age' 'Pet' 'Children' 'Region'\n",
            " 'Activity' 'MedExam' 'Sport']\n"
          ],
          "name": "stdout"
        },
        {
          "output_type": "execute_result",
          "data": {
            "text/plain": [
              "['IdLongevityEducationSexAgePetChildrenRegionActivityMedExamSport']"
            ]
          },
          "metadata": {
            "tags": []
          },
          "execution_count": 8
        }
      ]
    },
    {
      "cell_type": "code",
      "metadata": {
        "id": "RYL_ZZz5CHQc",
        "colab": {
          "base_uri": "https://localhost:8080/"
        },
        "outputId": "f3eb2383-4bf8-45c5-ebb3-291a33157ecc"
      },
      "source": [
        "print(test_df.columns.values)\n",
        "['Id' 'Education' 'Sex' 'Age' 'Activity' 'Sport' 'IsAlone' 'Age*Education']"
      ],
      "execution_count": null,
      "outputs": [
        {
          "output_type": "stream",
          "text": [
            "['Id' 'Education' 'Sex' 'Age' 'Pet' 'Children' 'Region' 'Activity'\n",
            " 'MedExam' 'Sport' 'Longevity']\n"
          ],
          "name": "stdout"
        },
        {
          "output_type": "execute_result",
          "data": {
            "text/plain": [
              "['IdEducationSexAgeActivitySportIsAloneAge*Education']"
            ]
          },
          "metadata": {
            "tags": []
          },
          "execution_count": 9
        }
      ]
    },
    {
      "cell_type": "code",
      "metadata": {
        "id": "T-TuZQmPCau9",
        "colab": {
          "base_uri": "https://localhost:8080/"
        },
        "outputId": "eb794116-06f7-4a0f-a4c2-ea5687593b76"
      },
      "source": [
        "train_df.shape"
      ],
      "execution_count": null,
      "outputs": [
        {
          "output_type": "execute_result",
          "data": {
            "text/plain": [
              "(857, 11)"
            ]
          },
          "metadata": {
            "tags": []
          },
          "execution_count": 10
        }
      ]
    },
    {
      "cell_type": "code",
      "metadata": {
        "id": "SMnFTigoGXIQ",
        "colab": {
          "base_uri": "https://localhost:8080/"
        },
        "outputId": "93615066-3aca-4e92-b09c-34930a447f94"
      },
      "source": [
        "train_df.info()"
      ],
      "execution_count": null,
      "outputs": [
        {
          "output_type": "stream",
          "text": [
            "<class 'pandas.core.frame.DataFrame'>\n",
            "RangeIndex: 857 entries, 0 to 856\n",
            "Data columns (total 11 columns):\n",
            " #   Column     Non-Null Count  Dtype \n",
            "---  ------     --------------  ----- \n",
            " 0   Id         857 non-null    int64 \n",
            " 1   Longevity  857 non-null    int64 \n",
            " 2   Education  857 non-null    int64 \n",
            " 3   Sex        857 non-null    object\n",
            " 4   Age        680 non-null    object\n",
            " 5   Pet        857 non-null    int64 \n",
            " 6   Children   857 non-null    int64 \n",
            " 7   Region     857 non-null    object\n",
            " 8   Activity   857 non-null    int64 \n",
            " 9   MedExam    196 non-null    object\n",
            " 10  Sport      236 non-null    object\n",
            "dtypes: int64(6), object(5)\n",
            "memory usage: 73.8+ KB\n"
          ],
          "name": "stdout"
        }
      ]
    },
    {
      "cell_type": "code",
      "metadata": {
        "id": "0lb-DemSGYxd",
        "colab": {
          "base_uri": "https://localhost:8080/",
          "height": 136
        },
        "outputId": "04aa82db-e178-47fe-e44a-46c275445f4e"
      },
      "source": [
        "train_df.head(3) "
      ],
      "execution_count": null,
      "outputs": [
        {
          "output_type": "execute_result",
          "data": {
            "text/html": [
              "<div>\n",
              "<style scoped>\n",
              "    .dataframe tbody tr th:only-of-type {\n",
              "        vertical-align: middle;\n",
              "    }\n",
              "\n",
              "    .dataframe tbody tr th {\n",
              "        vertical-align: top;\n",
              "    }\n",
              "\n",
              "    .dataframe thead th {\n",
              "        text-align: right;\n",
              "    }\n",
              "</style>\n",
              "<table border=\"1\" class=\"dataframe\">\n",
              "  <thead>\n",
              "    <tr style=\"text-align: right;\">\n",
              "      <th></th>\n",
              "      <th>Id</th>\n",
              "      <th>Longevity</th>\n",
              "      <th>Education</th>\n",
              "      <th>Sex</th>\n",
              "      <th>Age</th>\n",
              "      <th>Pet</th>\n",
              "      <th>Children</th>\n",
              "      <th>Region</th>\n",
              "      <th>Activity</th>\n",
              "      <th>MedExam</th>\n",
              "      <th>Sport</th>\n",
              "    </tr>\n",
              "  </thead>\n",
              "  <tbody>\n",
              "    <tr>\n",
              "      <th>0</th>\n",
              "      <td>1</td>\n",
              "      <td>0</td>\n",
              "      <td>3</td>\n",
              "      <td>female</td>\n",
              "      <td>73</td>\n",
              "      <td>1</td>\n",
              "      <td>0</td>\n",
              "      <td>21</td>\n",
              "      <td>725</td>\n",
              "      <td>NaN</td>\n",
              "      <td>NaN</td>\n",
              "    </tr>\n",
              "    <tr>\n",
              "      <th>1</th>\n",
              "      <td>2</td>\n",
              "      <td>1</td>\n",
              "      <td>1</td>\n",
              "      <td>male</td>\n",
              "      <td>75</td>\n",
              "      <td>1</td>\n",
              "      <td>0</td>\n",
              "      <td>17</td>\n",
              "      <td>7128</td>\n",
              "      <td>+</td>\n",
              "      <td>+</td>\n",
              "    </tr>\n",
              "    <tr>\n",
              "      <th>2</th>\n",
              "      <td>3</td>\n",
              "      <td>1</td>\n",
              "      <td>3</td>\n",
              "      <td>male</td>\n",
              "      <td>73</td>\n",
              "      <td>0</td>\n",
              "      <td>0</td>\n",
              "      <td>31</td>\n",
              "      <td>793</td>\n",
              "      <td>NaN</td>\n",
              "      <td>NaN</td>\n",
              "    </tr>\n",
              "  </tbody>\n",
              "</table>\n",
              "</div>"
            ],
            "text/plain": [
              "   Id  Longevity  Education     Sex  ... Region  Activity  MedExam Sport\n",
              "0   1          0          3  female  ...     21       725      NaN   NaN\n",
              "1   2          1          1    male  ...     17      7128        +     +\n",
              "2   3          1          3    male  ...     31       793      NaN   NaN\n",
              "\n",
              "[3 rows x 11 columns]"
            ]
          },
          "metadata": {
            "tags": []
          },
          "execution_count": 12
        }
      ]
    },
    {
      "cell_type": "code",
      "metadata": {
        "id": "3teylYkBGbbG",
        "colab": {
          "base_uri": "https://localhost:8080/",
          "height": 284
        },
        "outputId": "57c9100e-bd73-4ea8-c8bb-c25af66df268"
      },
      "source": [
        "train_df.describe()"
      ],
      "execution_count": null,
      "outputs": [
        {
          "output_type": "execute_result",
          "data": {
            "text/html": [
              "<div>\n",
              "<style scoped>\n",
              "    .dataframe tbody tr th:only-of-type {\n",
              "        vertical-align: middle;\n",
              "    }\n",
              "\n",
              "    .dataframe tbody tr th {\n",
              "        vertical-align: top;\n",
              "    }\n",
              "\n",
              "    .dataframe thead th {\n",
              "        text-align: right;\n",
              "    }\n",
              "</style>\n",
              "<table border=\"1\" class=\"dataframe\">\n",
              "  <thead>\n",
              "    <tr style=\"text-align: right;\">\n",
              "      <th></th>\n",
              "      <th>Id</th>\n",
              "      <th>Longevity</th>\n",
              "      <th>Education</th>\n",
              "      <th>Pet</th>\n",
              "      <th>Children</th>\n",
              "      <th>Activity</th>\n",
              "    </tr>\n",
              "  </thead>\n",
              "  <tbody>\n",
              "    <tr>\n",
              "      <th>count</th>\n",
              "      <td>857.000000</td>\n",
              "      <td>857.000000</td>\n",
              "      <td>857.000000</td>\n",
              "      <td>857.000000</td>\n",
              "      <td>857.000000</td>\n",
              "      <td>857.000000</td>\n",
              "    </tr>\n",
              "    <tr>\n",
              "      <th>mean</th>\n",
              "      <td>429.000000</td>\n",
              "      <td>0.383897</td>\n",
              "      <td>2.309218</td>\n",
              "      <td>0.525088</td>\n",
              "      <td>0.378063</td>\n",
              "      <td>3267.183197</td>\n",
              "    </tr>\n",
              "    <tr>\n",
              "      <th>std</th>\n",
              "      <td>247.538886</td>\n",
              "      <td>0.486617</td>\n",
              "      <td>0.836560</td>\n",
              "      <td>1.089302</td>\n",
              "      <td>0.793893</td>\n",
              "      <td>5048.489704</td>\n",
              "    </tr>\n",
              "    <tr>\n",
              "      <th>min</th>\n",
              "      <td>1.000000</td>\n",
              "      <td>0.000000</td>\n",
              "      <td>1.000000</td>\n",
              "      <td>0.000000</td>\n",
              "      <td>0.000000</td>\n",
              "      <td>0.000000</td>\n",
              "    </tr>\n",
              "    <tr>\n",
              "      <th>25%</th>\n",
              "      <td>215.000000</td>\n",
              "      <td>0.000000</td>\n",
              "      <td>2.000000</td>\n",
              "      <td>0.000000</td>\n",
              "      <td>0.000000</td>\n",
              "      <td>793.000000</td>\n",
              "    </tr>\n",
              "    <tr>\n",
              "      <th>50%</th>\n",
              "      <td>429.000000</td>\n",
              "      <td>0.000000</td>\n",
              "      <td>3.000000</td>\n",
              "      <td>0.000000</td>\n",
              "      <td>0.000000</td>\n",
              "      <td>1446.000000</td>\n",
              "    </tr>\n",
              "    <tr>\n",
              "      <th>75%</th>\n",
              "      <td>643.000000</td>\n",
              "      <td>1.000000</td>\n",
              "      <td>3.000000</td>\n",
              "      <td>1.000000</td>\n",
              "      <td>0.000000</td>\n",
              "      <td>3128.000000</td>\n",
              "    </tr>\n",
              "    <tr>\n",
              "      <th>max</th>\n",
              "      <td>857.000000</td>\n",
              "      <td>1.000000</td>\n",
              "      <td>3.000000</td>\n",
              "      <td>8.000000</td>\n",
              "      <td>6.000000</td>\n",
              "      <td>51233.000000</td>\n",
              "    </tr>\n",
              "  </tbody>\n",
              "</table>\n",
              "</div>"
            ],
            "text/plain": [
              "               Id   Longevity   Education         Pet    Children      Activity\n",
              "count  857.000000  857.000000  857.000000  857.000000  857.000000    857.000000\n",
              "mean   429.000000    0.383897    2.309218    0.525088    0.378063   3267.183197\n",
              "std    247.538886    0.486617    0.836560    1.089302    0.793893   5048.489704\n",
              "min      1.000000    0.000000    1.000000    0.000000    0.000000      0.000000\n",
              "25%    215.000000    0.000000    2.000000    0.000000    0.000000    793.000000\n",
              "50%    429.000000    0.000000    3.000000    0.000000    0.000000   1446.000000\n",
              "75%    643.000000    1.000000    3.000000    1.000000    0.000000   3128.000000\n",
              "max    857.000000    1.000000    3.000000    8.000000    6.000000  51233.000000"
            ]
          },
          "metadata": {
            "tags": []
          },
          "execution_count": 13
        }
      ]
    },
    {
      "cell_type": "code",
      "metadata": {
        "id": "AW4hc96FGh5H",
        "colab": {
          "base_uri": "https://localhost:8080/"
        },
        "outputId": "c6c22a67-196d-4d82-f157-c650c2321811"
      },
      "source": [
        "train_df.nunique()"
      ],
      "execution_count": null,
      "outputs": [
        {
          "output_type": "execute_result",
          "data": {
            "text/plain": [
              "Id           857\n",
              "Longevity      2\n",
              "Education      3\n",
              "Sex            2\n",
              "Age           12\n",
              "Pet            7\n",
              "Children       7\n",
              "Region        51\n",
              "Activity     229\n",
              "MedExam        5\n",
              "Sport          2\n",
              "dtype: int64"
            ]
          },
          "metadata": {
            "tags": []
          },
          "execution_count": 14
        }
      ]
    },
    {
      "cell_type": "markdown",
      "metadata": {
        "id": "RVLWkfdXNSw7"
      },
      "source": [
        "## Описание задачи и данных\n"
      ]
    },
    {
      "cell_type": "markdown",
      "metadata": {
        "id": "DkgU4kGxPM9N"
      },
      "source": [
        "В нашем хакатоне мы будем использовать задачу анализа факторов активного долголетия. К долголетним будем относить пожилых людей, доживших до 90 лет и сохранивших физическую и социальную активность. Представленные в датасетах данные носят иммитационный характер, однако на реальных данных. Данные представляют информацию о пожилых людях в возрасте от 70 до 80 лет, для которых известен класс активного долголетия (зависимый параметр Longevity) в будущем (будет ли достигнут вораст 90 лет).\n",
        "\n",
        "\n",
        "---\n",
        "\n",
        "\n",
        "В датасетах приведена следующая информация о пожилых людях (атрибуты объекта):\n",
        "\n",
        "Longevity - Класс активного долголетия: 1 - человек доживет до 90 лет; 0 - нет\n",
        "\n",
        "Id - Идентификатор пожилого человека;\n",
        "\n",
        "Education - Образование: 1 - высшее; 2 - среднее; 3 без образования;\n",
        "\n",
        "Sex - Пол;\n",
        "\n",
        "Age - Возраст;\n",
        "\n",
        "Pet - Пожилой человек ухаживает за домашними животными: указано количество;\n",
        "\n",
        "Children - Пожилой человек проживают с детьми/внуками/близкими родственниками: указано количество проживающих совместно в пожилым человеком;\n",
        "\n",
        "Region - Регион проживания;\n",
        "\n",
        "Activity - Уровень физической активности (количество шагов в день): данные получены от специального приложения;\n",
        "\n",
        "MedExam - Посещение поликлиники (за послений год): кодирование посещений на основе заполненной медицинской карточки;\n",
        "\n",
        "Sport - Физические упражнения: '+' пожилой человек занимается спортом (ходьба, бег, плаванье); '-' не занимается."
      ]
    },
    {
      "cell_type": "code",
      "metadata": {
        "id": "3NLavxLkGk8Y",
        "colab": {
          "base_uri": "https://localhost:8080/"
        },
        "outputId": "fcb9540c-695e-4d71-e1e9-22bab1f5bc4f"
      },
      "source": [
        "feature_names = train_df.columns.tolist() \n",
        "for column in feature_names: \n",
        "    print (column) \n",
        "    print (train_df[column].value_counts(dropna=False))"
      ],
      "execution_count": null,
      "outputs": [
        {
          "output_type": "stream",
          "text": [
            "Id\n",
            "857    1\n",
            "294    1\n",
            "292    1\n",
            "291    1\n",
            "290    1\n",
            "      ..\n",
            "568    1\n",
            "567    1\n",
            "566    1\n",
            "565    1\n",
            "1      1\n",
            "Name: Id, Length: 857, dtype: int64\n",
            "Longevity\n",
            "0    528\n",
            "1    329\n",
            "Name: Longevity, dtype: int64\n",
            "Education\n",
            "3    473\n",
            "1    208\n",
            "2    176\n",
            "Name: Education, dtype: int64\n",
            "Sex\n",
            "female    557\n",
            "male      300\n",
            "Name: Sex, dtype: int64\n",
            "Age\n",
            "NaN       177\n",
            "73        162\n",
            "74        154\n",
            "72         93\n",
            "75         90\n",
            "76         63\n",
            "71         37\n",
            "77         30\n",
            "70         24\n",
            "78         19\n",
            "79          6\n",
            "80          1\n",
            "#ЗНАЧ!      1\n",
            "Name: Age, dtype: int64\n",
            "Pet\n",
            "0    582\n",
            "1    203\n",
            "2     27\n",
            "4     18\n",
            "3     16\n",
            "8      6\n",
            "5      5\n",
            "Name: Pet, dtype: int64\n",
            "Children\n",
            "0    652\n",
            "1    114\n",
            "2     78\n",
            "5      4\n",
            "4      4\n",
            "3      4\n",
            "6      1\n",
            "Name: Children, dtype: int64\n",
            "Region\n",
            "34             131\n",
            "11              85\n",
            "17              74\n",
            "31              69\n",
            "26              60\n",
            "36              46\n",
            "23              43\n",
            "24              32\n",
            "35              29\n",
            "37              26\n",
            "33              24\n",
            "21              23\n",
            "29              18\n",
            "13              17\n",
            "19              16\n",
            "25              14\n",
            "39              13\n",
            "28              13\n",
            "14              13\n",
            "16              10\n",
            "41               9\n",
            "75               9\n",
            "38               9\n",
            "22               9\n",
            "66               6\n",
            "12               5\n",
            "LINE             4\n",
            "20               4\n",
            "27               4\n",
            "65               4\n",
            "32               4\n",
            "54               4\n",
            "57               4\n",
            "70               3\n",
            "84               2\n",
            "45               2\n",
            "S.O./P.P. 3      2\n",
            "95               2\n",
            "18               2\n",
            "48               2\n",
            "40               1\n",
            "72               1\n",
            "15               1\n",
            "69               1\n",
            "10               1\n",
            "55               1\n",
            "92               1\n",
            "30               1\n",
            "62               1\n",
            "85               1\n",
            "43               1\n",
            "Name: Region, dtype: int64\n",
            "Activity\n",
            "805     43\n",
            "1300    39\n",
            "790     34\n",
            "775     33\n",
            "2600    30\n",
            "        ..\n",
            "1740     1\n",
            "714      1\n",
            "3850     1\n",
            "5544     1\n",
            "763      1\n",
            "Name: Activity, Length: 229, dtype: int64\n",
            "MedExam\n",
            "NaN        661\n",
            "+          172\n",
            "+ +         16\n",
            "+ + +        5\n",
            "+ + + +      2\n",
            "T            1\n",
            "Name: MedExam, dtype: int64\n",
            "Sport\n",
            "NaN    621\n",
            "+      161\n",
            "-       75\n",
            "Name: Sport, dtype: int64\n"
          ],
          "name": "stdout"
        }
      ]
    },
    {
      "cell_type": "code",
      "metadata": {
        "id": "5u1vAC4IO5cM",
        "colab": {
          "base_uri": "https://localhost:8080/"
        },
        "outputId": "0aef7adb-7d65-4b66-fd4c-7d079e1dc406"
      },
      "source": [
        "train_df.info()\n",
        "print('_'*40)\n",
        "test_df.info()"
      ],
      "execution_count": null,
      "outputs": [
        {
          "output_type": "stream",
          "text": [
            "<class 'pandas.core.frame.DataFrame'>\n",
            "RangeIndex: 857 entries, 0 to 856\n",
            "Data columns (total 11 columns):\n",
            " #   Column     Non-Null Count  Dtype \n",
            "---  ------     --------------  ----- \n",
            " 0   Id         857 non-null    int64 \n",
            " 1   Longevity  857 non-null    int64 \n",
            " 2   Education  857 non-null    int64 \n",
            " 3   Sex        857 non-null    object\n",
            " 4   Age        680 non-null    object\n",
            " 5   Pet        857 non-null    int64 \n",
            " 6   Children   857 non-null    int64 \n",
            " 7   Region     857 non-null    object\n",
            " 8   Activity   857 non-null    int64 \n",
            " 9   MedExam    196 non-null    object\n",
            " 10  Sport      236 non-null    object\n",
            "dtypes: int64(6), object(5)\n",
            "memory usage: 73.8+ KB\n",
            "________________________________________\n",
            "<class 'pandas.core.frame.DataFrame'>\n",
            "RangeIndex: 452 entries, 0 to 451\n",
            "Data columns (total 11 columns):\n",
            " #   Column     Non-Null Count  Dtype  \n",
            "---  ------     --------------  -----  \n",
            " 0   Id         452 non-null    int64  \n",
            " 1   Education  452 non-null    int64  \n",
            " 2   Sex        452 non-null    object \n",
            " 3   Age        359 non-null    object \n",
            " 4   Pet        452 non-null    int64  \n",
            " 5   Children   452 non-null    int64  \n",
            " 6   Region     450 non-null    float64\n",
            " 7   Activity   452 non-null    int64  \n",
            " 8   MedExam    99 non-null     object \n",
            " 9   Sport      157 non-null    object \n",
            " 10  Longevity  452 non-null    int64  \n",
            "dtypes: float64(1), int64(6), object(4)\n",
            "memory usage: 39.0+ KB\n"
          ],
          "name": "stdout"
        }
      ]
    },
    {
      "cell_type": "markdown",
      "metadata": {
        "id": "zYlO0e0wTJLU"
      },
      "source": [
        "Анализ данных по сводным таблицам (pivot tables)"
      ]
    },
    {
      "cell_type": "code",
      "metadata": {
        "id": "EWpWt3k5Park",
        "colab": {
          "base_uri": "https://localhost:8080/",
          "height": 136
        },
        "outputId": "d471a38f-eafc-48ab-fa86-32dbd0232f6e"
      },
      "source": [
        "train_df[['Education', 'Longevity']].groupby(['Education'], as_index=False).mean().sort_values(by='Longevity', ascending=False)"
      ],
      "execution_count": null,
      "outputs": [
        {
          "output_type": "execute_result",
          "data": {
            "text/html": [
              "<div>\n",
              "<style scoped>\n",
              "    .dataframe tbody tr th:only-of-type {\n",
              "        vertical-align: middle;\n",
              "    }\n",
              "\n",
              "    .dataframe tbody tr th {\n",
              "        vertical-align: top;\n",
              "    }\n",
              "\n",
              "    .dataframe thead th {\n",
              "        text-align: right;\n",
              "    }\n",
              "</style>\n",
              "<table border=\"1\" class=\"dataframe\">\n",
              "  <thead>\n",
              "    <tr style=\"text-align: right;\">\n",
              "      <th></th>\n",
              "      <th>Education</th>\n",
              "      <th>Longevity</th>\n",
              "    </tr>\n",
              "  </thead>\n",
              "  <tbody>\n",
              "    <tr>\n",
              "      <th>0</th>\n",
              "      <td>1</td>\n",
              "      <td>0.625000</td>\n",
              "    </tr>\n",
              "    <tr>\n",
              "      <th>1</th>\n",
              "      <td>2</td>\n",
              "      <td>0.471591</td>\n",
              "    </tr>\n",
              "    <tr>\n",
              "      <th>2</th>\n",
              "      <td>3</td>\n",
              "      <td>0.245243</td>\n",
              "    </tr>\n",
              "  </tbody>\n",
              "</table>\n",
              "</div>"
            ],
            "text/plain": [
              "   Education  Longevity\n",
              "0          1   0.625000\n",
              "1          2   0.471591\n",
              "2          3   0.245243"
            ]
          },
          "metadata": {
            "tags": []
          },
          "execution_count": 17
        }
      ]
    },
    {
      "cell_type": "code",
      "metadata": {
        "id": "noQS54gQTIJI",
        "colab": {
          "base_uri": "https://localhost:8080/",
          "height": 106
        },
        "outputId": "3944d9f9-8997-4f72-fab1-dd0abab2bb68"
      },
      "source": [
        "train_df[['Sex', 'Longevity']].groupby(['Sex'], as_index=False).mean().sort_values(by='Longevity', ascending=False)"
      ],
      "execution_count": null,
      "outputs": [
        {
          "output_type": "execute_result",
          "data": {
            "text/html": [
              "<div>\n",
              "<style scoped>\n",
              "    .dataframe tbody tr th:only-of-type {\n",
              "        vertical-align: middle;\n",
              "    }\n",
              "\n",
              "    .dataframe tbody tr th {\n",
              "        vertical-align: top;\n",
              "    }\n",
              "\n",
              "    .dataframe thead th {\n",
              "        text-align: right;\n",
              "    }\n",
              "</style>\n",
              "<table border=\"1\" class=\"dataframe\">\n",
              "  <thead>\n",
              "    <tr style=\"text-align: right;\">\n",
              "      <th></th>\n",
              "      <th>Sex</th>\n",
              "      <th>Longevity</th>\n",
              "    </tr>\n",
              "  </thead>\n",
              "  <tbody>\n",
              "    <tr>\n",
              "      <th>1</th>\n",
              "      <td>male</td>\n",
              "      <td>0.743333</td>\n",
              "    </tr>\n",
              "    <tr>\n",
              "      <th>0</th>\n",
              "      <td>female</td>\n",
              "      <td>0.190305</td>\n",
              "    </tr>\n",
              "  </tbody>\n",
              "</table>\n",
              "</div>"
            ],
            "text/plain": [
              "      Sex  Longevity\n",
              "1    male   0.743333\n",
              "0  female   0.190305"
            ]
          },
          "metadata": {
            "tags": []
          },
          "execution_count": 18
        }
      ]
    },
    {
      "cell_type": "code",
      "metadata": {
        "id": "IHRJb379TUS-",
        "colab": {
          "base_uri": "https://localhost:8080/",
          "height": 254
        },
        "outputId": "04258a1b-72ac-4002-d347-3d90ad50012c"
      },
      "source": [
        "train_df[['Pet', 'Longevity']].groupby(['Pet'], as_index=False).mean().sort_values(by='Longevity', ascending=False)"
      ],
      "execution_count": null,
      "outputs": [
        {
          "output_type": "execute_result",
          "data": {
            "text/html": [
              "<div>\n",
              "<style scoped>\n",
              "    .dataframe tbody tr th:only-of-type {\n",
              "        vertical-align: middle;\n",
              "    }\n",
              "\n",
              "    .dataframe tbody tr th {\n",
              "        vertical-align: top;\n",
              "    }\n",
              "\n",
              "    .dataframe thead th {\n",
              "        text-align: right;\n",
              "    }\n",
              "</style>\n",
              "<table border=\"1\" class=\"dataframe\">\n",
              "  <thead>\n",
              "    <tr style=\"text-align: right;\">\n",
              "      <th></th>\n",
              "      <th>Pet</th>\n",
              "      <th>Longevity</th>\n",
              "    </tr>\n",
              "  </thead>\n",
              "  <tbody>\n",
              "    <tr>\n",
              "      <th>1</th>\n",
              "      <td>1</td>\n",
              "      <td>0.532020</td>\n",
              "    </tr>\n",
              "    <tr>\n",
              "      <th>2</th>\n",
              "      <td>2</td>\n",
              "      <td>0.481481</td>\n",
              "    </tr>\n",
              "    <tr>\n",
              "      <th>0</th>\n",
              "      <td>0</td>\n",
              "      <td>0.345361</td>\n",
              "    </tr>\n",
              "    <tr>\n",
              "      <th>3</th>\n",
              "      <td>3</td>\n",
              "      <td>0.250000</td>\n",
              "    </tr>\n",
              "    <tr>\n",
              "      <th>4</th>\n",
              "      <td>4</td>\n",
              "      <td>0.166667</td>\n",
              "    </tr>\n",
              "    <tr>\n",
              "      <th>5</th>\n",
              "      <td>5</td>\n",
              "      <td>0.000000</td>\n",
              "    </tr>\n",
              "    <tr>\n",
              "      <th>6</th>\n",
              "      <td>8</td>\n",
              "      <td>0.000000</td>\n",
              "    </tr>\n",
              "  </tbody>\n",
              "</table>\n",
              "</div>"
            ],
            "text/plain": [
              "   Pet  Longevity\n",
              "1    1   0.532020\n",
              "2    2   0.481481\n",
              "0    0   0.345361\n",
              "3    3   0.250000\n",
              "4    4   0.166667\n",
              "5    5   0.000000\n",
              "6    8   0.000000"
            ]
          },
          "metadata": {
            "tags": []
          },
          "execution_count": 19
        }
      ]
    },
    {
      "cell_type": "code",
      "metadata": {
        "id": "3jvwZvnGTaur",
        "colab": {
          "base_uri": "https://localhost:8080/",
          "height": 254
        },
        "outputId": "921d95cf-158d-4bd3-f7b0-b5edfb1d4c4c"
      },
      "source": [
        "train_df[['Children', 'Longevity']].groupby(['Children'], as_index=False).mean().sort_values(by='Longevity', ascending=False)"
      ],
      "execution_count": null,
      "outputs": [
        {
          "output_type": "execute_result",
          "data": {
            "text/html": [
              "<div>\n",
              "<style scoped>\n",
              "    .dataframe tbody tr th:only-of-type {\n",
              "        vertical-align: middle;\n",
              "    }\n",
              "\n",
              "    .dataframe tbody tr th {\n",
              "        vertical-align: top;\n",
              "    }\n",
              "\n",
              "    .dataframe thead th {\n",
              "        text-align: right;\n",
              "    }\n",
              "</style>\n",
              "<table border=\"1\" class=\"dataframe\">\n",
              "  <thead>\n",
              "    <tr style=\"text-align: right;\">\n",
              "      <th></th>\n",
              "      <th>Children</th>\n",
              "      <th>Longevity</th>\n",
              "    </tr>\n",
              "  </thead>\n",
              "  <tbody>\n",
              "    <tr>\n",
              "      <th>1</th>\n",
              "      <td>1</td>\n",
              "      <td>0.535088</td>\n",
              "    </tr>\n",
              "    <tr>\n",
              "      <th>2</th>\n",
              "      <td>2</td>\n",
              "      <td>0.512821</td>\n",
              "    </tr>\n",
              "    <tr>\n",
              "      <th>3</th>\n",
              "      <td>3</td>\n",
              "      <td>0.500000</td>\n",
              "    </tr>\n",
              "    <tr>\n",
              "      <th>0</th>\n",
              "      <td>0</td>\n",
              "      <td>0.345092</td>\n",
              "    </tr>\n",
              "    <tr>\n",
              "      <th>5</th>\n",
              "      <td>5</td>\n",
              "      <td>0.250000</td>\n",
              "    </tr>\n",
              "    <tr>\n",
              "      <th>4</th>\n",
              "      <td>4</td>\n",
              "      <td>0.000000</td>\n",
              "    </tr>\n",
              "    <tr>\n",
              "      <th>6</th>\n",
              "      <td>6</td>\n",
              "      <td>0.000000</td>\n",
              "    </tr>\n",
              "  </tbody>\n",
              "</table>\n",
              "</div>"
            ],
            "text/plain": [
              "   Children  Longevity\n",
              "1         1   0.535088\n",
              "2         2   0.512821\n",
              "3         3   0.500000\n",
              "0         0   0.345092\n",
              "5         5   0.250000\n",
              "4         4   0.000000\n",
              "6         6   0.000000"
            ]
          },
          "metadata": {
            "tags": []
          },
          "execution_count": 20
        }
      ]
    },
    {
      "cell_type": "markdown",
      "metadata": {
        "id": "1s729iQ3UQE_"
      },
      "source": [
        "Анализ данных путем визуализации"
      ]
    },
    {
      "cell_type": "code",
      "metadata": {
        "id": "Q3S-f-DFhG_o"
      },
      "source": [
        "# Заменим не числовые значения на средний возраст \n",
        "# (В методе есть другое решение, я его не увидел)\n",
        "train_df['Age'] = pd.to_numeric(train_df['Age'], errors='coerce')\n",
        "train_df=train_df.fillna(int(train_df['Age'].mean(skipna=True)))\n",
        "\n",
        "test_df['Age'] = pd.to_numeric(test_df['Age'], errors='coerce')\n",
        "test_df=train_df.fillna(int(test_df['Age'].mean(skipna=True)))"
      ],
      "execution_count": null,
      "outputs": []
    },
    {
      "cell_type": "code",
      "metadata": {
        "id": "CWsXmED1Tjhw",
        "colab": {
          "base_uri": "https://localhost:8080/",
          "height": 242
        },
        "outputId": "7a17d862-26fa-4f01-f5c7-51eb44bc0488"
      },
      "source": [
        "g = sns.FacetGrid(train_df, col='Longevity')\n",
        "g.map(plt.hist, 'Age', bins=20)"
      ],
      "execution_count": null,
      "outputs": [
        {
          "output_type": "execute_result",
          "data": {
            "text/plain": [
              "<seaborn.axisgrid.FacetGrid at 0x7f0683ec30f0>"
            ]
          },
          "metadata": {
            "tags": []
          },
          "execution_count": 23
        },
        {
          "output_type": "display_data",
          "data": {
            "image/png": "[encoded data removed]",
            "text/plain": [
              "<Figure size 432x216 with 2 Axes>"
            ]
          },
          "metadata": {
            "tags": [],
            "needs_background": "light"
          }
        }
      ]
    },
    {
      "cell_type": "markdown",
      "metadata": {
        "id": "GtADUTz9hfSe"
      },
      "source": [
        "Корреляция категориальных и числовых признаков"
      ]
    },
    {
      "cell_type": "code",
      "metadata": {
        "id": "etYt-kZrhf-d",
        "colab": {
          "base_uri": "https://localhost:8080/",
          "height": 535
        },
        "outputId": "45a63aff-6cb4-4829-dca0-149e7fafcab5"
      },
      "source": [
        "grid = sns.FacetGrid(train_df, row='Sport', col='Longevity', height=2.2, aspect=1.6)\n",
        "grid.map(sns.barplot, 'Sex', 'Activity', alpha=.5, ci=None)\n",
        "grid.add_legend()"
      ],
      "execution_count": null,
      "outputs": [
        {
          "output_type": "stream",
          "text": [
            "/usr/local/lib/python3.6/dist-packages/seaborn/axisgrid.py:645: UserWarning: Using the barplot function without specifying `order` is likely to produce an incorrect plot.\n",
            "  warnings.warn(warning)\n"
          ],
          "name": "stderr"
        },
        {
          "output_type": "execute_result",
          "data": {
            "text/plain": [
              "<seaborn.axisgrid.FacetGrid at 0x7f0683dd2588>"
            ]
          },
          "metadata": {
            "tags": []
          },
          "execution_count": 24
        },
        {
          "output_type": "display_data",
          "data": {
            "image/png": "[encoded data removed]",
            "text/plain": [
              "<Figure size 514.88x475.2 with 6 Axes>"
            ]
          },
          "metadata": {
            "tags": [],
            "needs_background": "light"
          }
        }
      ]
    },
    {
      "cell_type": "markdown",
      "metadata": {
        "id": "QKLrs1ZFU-IZ"
      },
      "source": [
        "# Задание"
      ]
    },
    {
      "cell_type": "markdown",
      "metadata": {
        "id": "diFNnDQMVFP9"
      },
      "source": [
        "1.   Признак Age должен быть дополнен и фильтрован для обработки алгоритмами.\n",
        "2.   Признак MedExam может быть отброшен, поскольку является крайне неполным или содержит много нулевых значений как в обучающем, так и в тестовом наборе данных.\n",
        "3.   Необходимо дополнить функцию Sport, поскольку она также может соотноситься с долголетием.\n",
        "4.   Признак Region может быть исключен из нашего анализа, так как содержит большое количество дубликатов (22%) и может отсутствовать корреляция между ним и целевым признаком.\n",
        "5.   Пизнак Id может быть удален из набора обучающих данных, поскольку он не способствует целевому признаку Longevity.\n",
        "6.   Cоздать новый признак под названием Family (Семья на основе детей и домашних животных), чтобы получить общее количество членов семьи.\n",
        "7.   Задать новый признак IsAlone, проживающих одиноко без домашних животных и родственников.\n",
        "8.   Cоздать новый признак для возрастных групп (Age,Education), указывающий на социальный статус пожилого человека. Это превращает непрерывный числовой признак в порядковый категориальный признак.\n",
        "9.   Cоздать новый признак диапазонов возрасного равновесия на основе признака Age, т.к. это поможет разделить пожилых людей на группы условно равновесного состояния (смертность повышается в определенные периоды времени между 70 и 80 годами, и в другие моменты резко снижается) для следующих интервалов: { (...,70](70,72],(72,74],(74,76],(76,78],(80,..)}\n",
        "\n",
        "\n",
        "\n",
        "---\n",
        "\n"
      ]
    },
    {
      "cell_type": "markdown",
      "metadata": {
        "id": "tVap_fgph73l"
      },
      "source": [
        "1. Выполнено ранее в [этой](https://colab.research.google.com/drive/1I0-UQ8_FSPYrERv1EvydVXNo7-gZsSen#scrollTo=Q3S-f-DFhG_o&line=2&uniqifier=1)  ячейке"
      ]
    },
    {
      "cell_type": "markdown",
      "metadata": {
        "id": "09IzhV9-jl0_"
      },
      "source": [
        "2. Удалим столбец MedExam"
      ]
    },
    {
      "cell_type": "code",
      "metadata": {
        "id": "2viDxodQjcbZ"
      },
      "source": [
        "train_df.drop('MedExam', axis = 1, inplace = True)"
      ],
      "execution_count": null,
      "outputs": []
    },
    {
      "cell_type": "code",
      "metadata": {
        "id": "42oZLGxIFOGh"
      },
      "source": [
        "test_df.drop('MedExam', axis = 1, inplace = True)"
      ],
      "execution_count": null,
      "outputs": []
    },
    {
      "cell_type": "markdown",
      "metadata": {
        "id": "gY09FxCQm6kW"
      },
      "source": [
        "3. Дополним признак Sport"
      ]
    },
    {
      "cell_type": "code",
      "metadata": {
        "id": "MM3oKO7rl0xF"
      },
      "source": [
        "train_df['Sport'] = train_df['Sport'].map( {'+': 1, '-': 0})"
      ],
      "execution_count": null,
      "outputs": []
    },
    {
      "cell_type": "code",
      "metadata": {
        "id": "fFGuGy8smEfw"
      },
      "source": [
        "train_df.fillna(0, inplace=True)"
      ],
      "execution_count": null,
      "outputs": []
    },
    {
      "cell_type": "code",
      "metadata": {
        "id": "iW-Gwrr5FRkU"
      },
      "source": [
        "test_df['Sport'] = test_df['Sport'].map( {'+': 1, '-': 0})\n",
        "test_df.fillna(0, inplace=True)"
      ],
      "execution_count": null,
      "outputs": []
    },
    {
      "cell_type": "markdown",
      "metadata": {
        "id": "dgmltQzTnjTM"
      },
      "source": [
        "4. Исключим Region из train_df"
      ]
    },
    {
      "cell_type": "code",
      "metadata": {
        "id": "X5moGg-dmR_r"
      },
      "source": [
        "train_df.drop('Region', axis = 1, inplace = True)"
      ],
      "execution_count": null,
      "outputs": []
    },
    {
      "cell_type": "code",
      "metadata": {
        "id": "b6jfl3gQFWge"
      },
      "source": [
        "test_df.drop('Region', axis = 1, inplace = True)"
      ],
      "execution_count": null,
      "outputs": []
    },
    {
      "cell_type": "markdown",
      "metadata": {
        "id": "ran_UkkRnp1k"
      },
      "source": [
        "5. Исключим Id из train_df"
      ]
    },
    {
      "cell_type": "code",
      "metadata": {
        "id": "kzZ1aTxknmVN"
      },
      "source": [
        "train_df.drop('Id', axis = 1, inplace = True)"
      ],
      "execution_count": null,
      "outputs": []
    },
    {
      "cell_type": "code",
      "metadata": {
        "id": "QdXqym8sFZOm"
      },
      "source": [
        "test_df.drop('Id', axis = 1, inplace = True)"
      ],
      "execution_count": null,
      "outputs": []
    },
    {
      "cell_type": "markdown",
      "metadata": {
        "id": "TrZ8a3wFnv-u"
      },
      "source": [
        "6. Добавим признак Family (сумма детей и домашних животных)"
      ]
    },
    {
      "cell_type": "code",
      "metadata": {
        "id": "4UY62wzwnvba"
      },
      "source": [
        "family = train_df['Children'] + train_df['Pet']"
      ],
      "execution_count": null,
      "outputs": []
    },
    {
      "cell_type": "code",
      "metadata": {
        "id": "JxdAE0H2oVvS"
      },
      "source": [
        "train_df['Family'] = family"
      ],
      "execution_count": null,
      "outputs": []
    },
    {
      "cell_type": "code",
      "metadata": {
        "id": "AtFbb8dqoWz3",
        "colab": {
          "base_uri": "https://localhost:8080/",
          "height": 136
        },
        "outputId": "0eb84c73-09b3-4463-ebf9-be8e5922e951"
      },
      "source": [
        "train_df.head(3)"
      ],
      "execution_count": null,
      "outputs": [
        {
          "output_type": "execute_result",
          "data": {
            "text/html": [
              "<div>\n",
              "<style scoped>\n",
              "    .dataframe tbody tr th:only-of-type {\n",
              "        vertical-align: middle;\n",
              "    }\n",
              "\n",
              "    .dataframe tbody tr th {\n",
              "        vertical-align: top;\n",
              "    }\n",
              "\n",
              "    .dataframe thead th {\n",
              "        text-align: right;\n",
              "    }\n",
              "</style>\n",
              "<table border=\"1\" class=\"dataframe\">\n",
              "  <thead>\n",
              "    <tr style=\"text-align: right;\">\n",
              "      <th></th>\n",
              "      <th>Longevity</th>\n",
              "      <th>Education</th>\n",
              "      <th>Sex</th>\n",
              "      <th>Age</th>\n",
              "      <th>Pet</th>\n",
              "      <th>Children</th>\n",
              "      <th>Activity</th>\n",
              "      <th>Sport</th>\n",
              "      <th>Family</th>\n",
              "    </tr>\n",
              "  </thead>\n",
              "  <tbody>\n",
              "    <tr>\n",
              "      <th>0</th>\n",
              "      <td>0</td>\n",
              "      <td>3</td>\n",
              "      <td>female</td>\n",
              "      <td>73.0</td>\n",
              "      <td>1</td>\n",
              "      <td>0</td>\n",
              "      <td>725</td>\n",
              "      <td>0.0</td>\n",
              "      <td>1</td>\n",
              "    </tr>\n",
              "    <tr>\n",
              "      <th>1</th>\n",
              "      <td>1</td>\n",
              "      <td>1</td>\n",
              "      <td>male</td>\n",
              "      <td>75.0</td>\n",
              "      <td>1</td>\n",
              "      <td>0</td>\n",
              "      <td>7128</td>\n",
              "      <td>1.0</td>\n",
              "      <td>1</td>\n",
              "    </tr>\n",
              "    <tr>\n",
              "      <th>2</th>\n",
              "      <td>1</td>\n",
              "      <td>3</td>\n",
              "      <td>male</td>\n",
              "      <td>73.0</td>\n",
              "      <td>0</td>\n",
              "      <td>0</td>\n",
              "      <td>793</td>\n",
              "      <td>0.0</td>\n",
              "      <td>0</td>\n",
              "    </tr>\n",
              "  </tbody>\n",
              "</table>\n",
              "</div>"
            ],
            "text/plain": [
              "   Longevity  Education     Sex   Age  Pet  Children  Activity  Sport  Family\n",
              "0          0          3  female  73.0    1         0       725    0.0       1\n",
              "1          1          1    male  75.0    1         0      7128    1.0       1\n",
              "2          1          3    male  73.0    0         0       793    0.0       0"
            ]
          },
          "metadata": {
            "tags": []
          },
          "execution_count": 17
        }
      ]
    },
    {
      "cell_type": "code",
      "metadata": {
        "id": "U4idu37qFfR0"
      },
      "source": [
        "family_test = test_df['Children'] + test_df['Pet']\n",
        "test_df['Family'] = family_test"
      ],
      "execution_count": null,
      "outputs": []
    },
    {
      "cell_type": "markdown",
      "metadata": {
        "id": "ZdiBfTghok6r"
      },
      "source": [
        "7. Добавим признак IsAlone"
      ]
    },
    {
      "cell_type": "code",
      "metadata": {
        "id": "CRe4W5T8oiLr"
      },
      "source": [
        "isAlone = train_df['Family'].map({0: 1}).fillna(0)"
      ],
      "execution_count": null,
      "outputs": []
    },
    {
      "cell_type": "code",
      "metadata": {
        "id": "Fx1uWquho-WT"
      },
      "source": [
        "train_df['IsAlone'] = isAlone"
      ],
      "execution_count": null,
      "outputs": []
    },
    {
      "cell_type": "code",
      "metadata": {
        "id": "wcZdPX_Lo_P4",
        "colab": {
          "base_uri": "https://localhost:8080/",
          "height": 136
        },
        "outputId": "494a5edc-3ba6-4d16-a670-0f107e44ea36"
      },
      "source": [
        "train_df.head(3)"
      ],
      "execution_count": null,
      "outputs": [
        {
          "output_type": "execute_result",
          "data": {
            "text/html": [
              "<div>\n",
              "<style scoped>\n",
              "    .dataframe tbody tr th:only-of-type {\n",
              "        vertical-align: middle;\n",
              "    }\n",
              "\n",
              "    .dataframe tbody tr th {\n",
              "        vertical-align: top;\n",
              "    }\n",
              "\n",
              "    .dataframe thead th {\n",
              "        text-align: right;\n",
              "    }\n",
              "</style>\n",
              "<table border=\"1\" class=\"dataframe\">\n",
              "  <thead>\n",
              "    <tr style=\"text-align: right;\">\n",
              "      <th></th>\n",
              "      <th>Longevity</th>\n",
              "      <th>Education</th>\n",
              "      <th>Sex</th>\n",
              "      <th>Age</th>\n",
              "      <th>Pet</th>\n",
              "      <th>Children</th>\n",
              "      <th>Activity</th>\n",
              "      <th>Sport</th>\n",
              "      <th>Family</th>\n",
              "      <th>IsAlone</th>\n",
              "    </tr>\n",
              "  </thead>\n",
              "  <tbody>\n",
              "    <tr>\n",
              "      <th>0</th>\n",
              "      <td>0</td>\n",
              "      <td>3</td>\n",
              "      <td>female</td>\n",
              "      <td>73.0</td>\n",
              "      <td>1</td>\n",
              "      <td>0</td>\n",
              "      <td>725</td>\n",
              "      <td>0.0</td>\n",
              "      <td>1</td>\n",
              "      <td>0.0</td>\n",
              "    </tr>\n",
              "    <tr>\n",
              "      <th>1</th>\n",
              "      <td>1</td>\n",
              "      <td>1</td>\n",
              "      <td>male</td>\n",
              "      <td>75.0</td>\n",
              "      <td>1</td>\n",
              "      <td>0</td>\n",
              "      <td>7128</td>\n",
              "      <td>1.0</td>\n",
              "      <td>1</td>\n",
              "      <td>0.0</td>\n",
              "    </tr>\n",
              "    <tr>\n",
              "      <th>2</th>\n",
              "      <td>1</td>\n",
              "      <td>3</td>\n",
              "      <td>male</td>\n",
              "      <td>73.0</td>\n",
              "      <td>0</td>\n",
              "      <td>0</td>\n",
              "      <td>793</td>\n",
              "      <td>0.0</td>\n",
              "      <td>0</td>\n",
              "      <td>1.0</td>\n",
              "    </tr>\n",
              "  </tbody>\n",
              "</table>\n",
              "</div>"
            ],
            "text/plain": [
              "   Longevity  Education     Sex   Age  ...  Activity  Sport  Family  IsAlone\n",
              "0          0          3  female  73.0  ...       725    0.0       1      0.0\n",
              "1          1          1    male  75.0  ...      7128    1.0       1      0.0\n",
              "2          1          3    male  73.0  ...       793    0.0       0      1.0\n",
              "\n",
              "[3 rows x 10 columns]"
            ]
          },
          "metadata": {
            "tags": []
          },
          "execution_count": 21
        }
      ]
    },
    {
      "cell_type": "code",
      "metadata": {
        "id": "Cj0gO8DFFpwP"
      },
      "source": [
        "isAlone_test = test_df['Family'].map({0: 1}).fillna(0)\n",
        "test_df['IsAlone'] = isAlone_test"
      ],
      "execution_count": null,
      "outputs": []
    },
    {
      "cell_type": "markdown",
      "metadata": {
        "id": "QWdWBUm5p-ep"
      },
      "source": [
        "8. Добавим порядковый категориальный признак SocStatus для возрастных групп на основе Age и Education\n",
        "\n",
        "У образования три категории: 1, 2 и 3\n",
        "\n",
        "Пусть SocStatus = Age * Education, не нормализуя возраст, поскольку разница социального статуса между 73-х и 74-хлетним не велика"
      ]
    },
    {
      "cell_type": "code",
      "metadata": {
        "id": "-IEoWYAkpy4Z"
      },
      "source": [
        "socStatus = train_df['Age']*train_df['Education']"
      ],
      "execution_count": null,
      "outputs": []
    },
    {
      "cell_type": "code",
      "metadata": {
        "id": "wXD3ZX73BAvs"
      },
      "source": [
        "train_df['SocStatus'] = socStatus"
      ],
      "execution_count": null,
      "outputs": []
    },
    {
      "cell_type": "code",
      "metadata": {
        "id": "SF-HTb11AWTp"
      },
      "source": [
        "dic = {range(70, 100): 0, range(100, 130): 1, range(130, 160): 2, range(160, 190): 3, range(190, 220): 4, range(220, 250): 5}\n",
        "socStatus = train_df['SocStatus'].apply(lambda x: next((v for k, v in dic.items() if x in k), 0))"
      ],
      "execution_count": null,
      "outputs": []
    },
    {
      "cell_type": "code",
      "metadata": {
        "id": "Vwzpx0m6rkoI"
      },
      "source": [
        "train_df['SocStatus'] = socStatus"
      ],
      "execution_count": null,
      "outputs": []
    },
    {
      "cell_type": "code",
      "metadata": {
        "id": "nemzdRXtrliw",
        "colab": {
          "base_uri": "https://localhost:8080/",
          "height": 136
        },
        "outputId": "e8e29ce1-a178-40a6-919e-3f8d79d87d34"
      },
      "source": [
        "train_df.head(3)"
      ],
      "execution_count": null,
      "outputs": [
        {
          "output_type": "execute_result",
          "data": {
            "text/html": [
              "<div>\n",
              "<style scoped>\n",
              "    .dataframe tbody tr th:only-of-type {\n",
              "        vertical-align: middle;\n",
              "    }\n",
              "\n",
              "    .dataframe tbody tr th {\n",
              "        vertical-align: top;\n",
              "    }\n",
              "\n",
              "    .dataframe thead th {\n",
              "        text-align: right;\n",
              "    }\n",
              "</style>\n",
              "<table border=\"1\" class=\"dataframe\">\n",
              "  <thead>\n",
              "    <tr style=\"text-align: right;\">\n",
              "      <th></th>\n",
              "      <th>Longevity</th>\n",
              "      <th>Education</th>\n",
              "      <th>Sex</th>\n",
              "      <th>Age</th>\n",
              "      <th>Pet</th>\n",
              "      <th>Children</th>\n",
              "      <th>Activity</th>\n",
              "      <th>Sport</th>\n",
              "      <th>Family</th>\n",
              "      <th>IsAlone</th>\n",
              "      <th>SocStatus</th>\n",
              "    </tr>\n",
              "  </thead>\n",
              "  <tbody>\n",
              "    <tr>\n",
              "      <th>0</th>\n",
              "      <td>0</td>\n",
              "      <td>3</td>\n",
              "      <td>female</td>\n",
              "      <td>73.0</td>\n",
              "      <td>1</td>\n",
              "      <td>0</td>\n",
              "      <td>725</td>\n",
              "      <td>0.0</td>\n",
              "      <td>1</td>\n",
              "      <td>0.0</td>\n",
              "      <td>4</td>\n",
              "    </tr>\n",
              "    <tr>\n",
              "      <th>1</th>\n",
              "      <td>1</td>\n",
              "      <td>1</td>\n",
              "      <td>male</td>\n",
              "      <td>75.0</td>\n",
              "      <td>1</td>\n",
              "      <td>0</td>\n",
              "      <td>7128</td>\n",
              "      <td>1.0</td>\n",
              "      <td>1</td>\n",
              "      <td>0.0</td>\n",
              "      <td>0</td>\n",
              "    </tr>\n",
              "    <tr>\n",
              "      <th>2</th>\n",
              "      <td>1</td>\n",
              "      <td>3</td>\n",
              "      <td>male</td>\n",
              "      <td>73.0</td>\n",
              "      <td>0</td>\n",
              "      <td>0</td>\n",
              "      <td>793</td>\n",
              "      <td>0.0</td>\n",
              "      <td>0</td>\n",
              "      <td>1.0</td>\n",
              "      <td>4</td>\n",
              "    </tr>\n",
              "  </tbody>\n",
              "</table>\n",
              "</div>"
            ],
            "text/plain": [
              "   Longevity  Education     Sex   Age  ...  Sport  Family  IsAlone  SocStatus\n",
              "0          0          3  female  73.0  ...    0.0       1      0.0          4\n",
              "1          1          1    male  75.0  ...    1.0       1      0.0          0\n",
              "2          1          3    male  73.0  ...    0.0       0      1.0          4\n",
              "\n",
              "[3 rows x 11 columns]"
            ]
          },
          "metadata": {
            "tags": []
          },
          "execution_count": 29
        }
      ]
    },
    {
      "cell_type": "code",
      "metadata": {
        "id": "JAeG6wn3F0tY"
      },
      "source": [
        "socStatus_test = test_df['Age']*test_df['Education']\n",
        "test_df['SocStatus'] = socStatus_test\n",
        "socStatus_test = test_df['SocStatus'].apply(lambda x: next((v for k, v in dic.items() if x in k), 0))\n",
        "test_df['SocStatus'] = socStatus_test"
      ],
      "execution_count": null,
      "outputs": []
    },
    {
      "cell_type": "markdown",
      "metadata": {
        "id": "CfwDHsrmtWAF"
      },
      "source": [
        "9. Добавим признак диапазонов возрастного равновесия AgeD на основе признака Age"
      ]
    },
    {
      "cell_type": "code",
      "metadata": {
        "id": "QPsVY-7Std0A"
      },
      "source": [
        "dic = {range(70, 72): 0, range(72, 74): 1, range(74, 76): 2, range(76, 78): 3, range(78, 80): 4}\n",
        "\n",
        "ageD = train_df['Age'].apply(lambda x: next((v for k, v in dic.items() if x in k), 0))\n",
        "\n",
        "train_df['AgeD'] = ageD"
      ],
      "execution_count": null,
      "outputs": []
    },
    {
      "cell_type": "code",
      "metadata": {
        "id": "2kKUC33tC5BP",
        "colab": {
          "base_uri": "https://localhost:8080/",
          "height": 136
        },
        "outputId": "0f13ee8c-ab6e-4ed7-ba3d-dee1373ebaf2"
      },
      "source": [
        "train_df.head(3)"
      ],
      "execution_count": null,
      "outputs": [
        {
          "output_type": "execute_result",
          "data": {
            "text/html": [
              "<div>\n",
              "<style scoped>\n",
              "    .dataframe tbody tr th:only-of-type {\n",
              "        vertical-align: middle;\n",
              "    }\n",
              "\n",
              "    .dataframe tbody tr th {\n",
              "        vertical-align: top;\n",
              "    }\n",
              "\n",
              "    .dataframe thead th {\n",
              "        text-align: right;\n",
              "    }\n",
              "</style>\n",
              "<table border=\"1\" class=\"dataframe\">\n",
              "  <thead>\n",
              "    <tr style=\"text-align: right;\">\n",
              "      <th></th>\n",
              "      <th>Longevity</th>\n",
              "      <th>Education</th>\n",
              "      <th>Sex</th>\n",
              "      <th>Age</th>\n",
              "      <th>Pet</th>\n",
              "      <th>Children</th>\n",
              "      <th>Activity</th>\n",
              "      <th>Sport</th>\n",
              "      <th>Family</th>\n",
              "      <th>IsAlone</th>\n",
              "      <th>SocStatus</th>\n",
              "      <th>AgeD</th>\n",
              "    </tr>\n",
              "  </thead>\n",
              "  <tbody>\n",
              "    <tr>\n",
              "      <th>0</th>\n",
              "      <td>0</td>\n",
              "      <td>3</td>\n",
              "      <td>female</td>\n",
              "      <td>73.0</td>\n",
              "      <td>1</td>\n",
              "      <td>0</td>\n",
              "      <td>725</td>\n",
              "      <td>0.0</td>\n",
              "      <td>1</td>\n",
              "      <td>0.0</td>\n",
              "      <td>4</td>\n",
              "      <td>1</td>\n",
              "    </tr>\n",
              "    <tr>\n",
              "      <th>1</th>\n",
              "      <td>1</td>\n",
              "      <td>1</td>\n",
              "      <td>male</td>\n",
              "      <td>75.0</td>\n",
              "      <td>1</td>\n",
              "      <td>0</td>\n",
              "      <td>7128</td>\n",
              "      <td>1.0</td>\n",
              "      <td>1</td>\n",
              "      <td>0.0</td>\n",
              "      <td>0</td>\n",
              "      <td>2</td>\n",
              "    </tr>\n",
              "    <tr>\n",
              "      <th>2</th>\n",
              "      <td>1</td>\n",
              "      <td>3</td>\n",
              "      <td>male</td>\n",
              "      <td>73.0</td>\n",
              "      <td>0</td>\n",
              "      <td>0</td>\n",
              "      <td>793</td>\n",
              "      <td>0.0</td>\n",
              "      <td>0</td>\n",
              "      <td>1.0</td>\n",
              "      <td>4</td>\n",
              "      <td>1</td>\n",
              "    </tr>\n",
              "  </tbody>\n",
              "</table>\n",
              "</div>"
            ],
            "text/plain": [
              "   Longevity  Education     Sex   Age  ...  Family  IsAlone  SocStatus  AgeD\n",
              "0          0          3  female  73.0  ...       1      0.0          4     1\n",
              "1          1          1    male  75.0  ...       1      0.0          0     2\n",
              "2          1          3    male  73.0  ...       0      1.0          4     1\n",
              "\n",
              "[3 rows x 12 columns]"
            ]
          },
          "metadata": {
            "tags": []
          },
          "execution_count": 32
        }
      ]
    },
    {
      "cell_type": "code",
      "metadata": {
        "id": "Fhh2nocCF7WJ"
      },
      "source": [
        "ageD_test = test_df['Age'].apply(lambda x: next((v for k, v in dic.items() if x in k), 0))\n",
        "\n",
        "test_df['AgeD'] = ageD_test"
      ],
      "execution_count": null,
      "outputs": []
    },
    {
      "cell_type": "code",
      "metadata": {
        "id": "DqUJ-8axBPAS"
      },
      "source": [
        ""
      ],
      "execution_count": null,
      "outputs": []
    }
  ]
}