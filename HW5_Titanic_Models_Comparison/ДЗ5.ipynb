{
  "nbformat": 4,
  "nbformat_minor": 0,
  "metadata": {
    "colab": {
      "name": "ДЗ5.ipynb",
      "provenance": [],
      "authorship_tag": "ABX9TyNWoKegbzQD4eXzkEDQ0bYF",
      "include_colab_link": true
    },
    "kernelspec": {
      "name": "python3",
      "display_name": "Python 3"
    }
  },
  "cells": [
    {
      "cell_type": "markdown",
      "metadata": {
        "id": "view-in-github",
        "colab_type": "text"
      },
      "source": [
        "<a href=\"https://colab.research.google.com/github/ruslanTankist/ml_works/blob/main/HW5_Titanic_Models_Comparison/%D0%94%D0%975.ipynb\" target=\"_parent\"><img src=\"https://colab.research.google.com/assets/colab-badge.svg\" alt=\"Open In Colab\"/></a>"
      ]
    },
    {
      "cell_type": "markdown",
      "metadata": {
        "id": "VoXxAq8fa0Xl"
      },
      "source": [
        "Вам необходимо взять ту предобработку данных, которую вы делали для Титаника, отделить 15% test data и обучить на полученных данных модели kNN, логистическую регрессию, SVM, дерево решений, RandomForest, XGBoost, LightGBM и CatBoost (хоть CatBoost и создан не для бинарной классификации). Модели можно и нужно стараться улучшить, используя гиперпараметры модели, регуляризацию итп. Полученные результаты вы сравниваете, используя знания из 5й лекции (оценка моделей). \n",
        "\n",
        "Результат работы - визуализация сравнения метрик между моделями."
      ]
    },
    {
      "cell_type": "code",
      "metadata": {
        "id": "KO_XGcOFauFp",
        "colab": {
          "resources": {
            "http://localhost:8080/nbextensions/google.colab/files.js": {
              "data": "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",
              "ok": true,
              "headers": [
                [
                  "content-type",
                  "application/javascript"
                ]
              ],
              "status": 200,
              "status_text": ""
            }
          },
          "base_uri": "https://localhost:8080/",
          "height": 274
        },
        "outputId": "0603c13d-53ab-4f4d-b984-f3234b6dae12"
      },
      "source": [
        "from google.colab import files\n",
        "# files.upload() #kaggle.json\n",
        "\n",
        "!pip install -q kaggle\n",
        "!mkdir -p ~/.kaggle\n",
        "!cp kaggle.json ~/.kaggle/\n",
        "!ls ~/.kaggle\n",
        "!chmod 600 /root/.kaggle/kaggle.json\n",
        "\n",
        "!kaggle competitions download -c titanic\n",
        "\n",
        "!ls"
      ],
      "execution_count": null,
      "outputs": [
        {
          "output_type": "display_data",
          "data": {
            "text/html": [
              "\n",
              "     <input type=\"file\" id=\"files-b188a932-3f04-4bbe-b5fe-330f789738a5\" name=\"files[]\" multiple disabled\n",
              "        style=\"border:none\" />\n",
              "     <output id=\"result-b188a932-3f04-4bbe-b5fe-330f789738a5\">\n",
              "      Upload widget is only available when the cell has been executed in the\n",
              "      current browser session. Please rerun this cell to enable.\n",
              "      </output>\n",
              "      <script src=\"/nbextensions/google.colab/files.js\"></script> "
            ],
            "text/plain": [
              "<IPython.core.display.HTML object>"
            ]
          },
          "metadata": {
            "tags": []
          }
        },
        {
          "output_type": "stream",
          "text": [
            "Saving kaggle.json to kaggle.json\n",
            "kaggle.json\n",
            "Warning: Looks like you're using an outdated API Version, please consider updating (server 1.5.9 / client 1.5.4)\n",
            "Downloading train.csv to /content\n",
            "  0% 0.00/59.8k [00:00<?, ?B/s]\n",
            "100% 59.8k/59.8k [00:00<00:00, 21.4MB/s]\n",
            "Downloading gender_submission.csv to /content\n",
            "  0% 0.00/3.18k [00:00<?, ?B/s]\n",
            "100% 3.18k/3.18k [00:00<00:00, 2.82MB/s]\n",
            "Downloading test.csv to /content\n",
            "  0% 0.00/28.0k [00:00<?, ?B/s]\n",
            "100% 28.0k/28.0k [00:00<00:00, 28.5MB/s]\n",
            "gender_submission.csv  kaggle.json  sample_data  test.csv  train.csv\n"
          ],
          "name": "stdout"
        }
      ]
    },
    {
      "cell_type": "code",
      "metadata": {
        "id": "5qlGbx1jbCh6",
        "colab": {
          "base_uri": "https://localhost:8080/",
          "height": 252
        },
        "outputId": "a83fc675-6798-48e2-a20e-36647398846d"
      },
      "source": [
        "import numpy as np\n",
        "import pandas as pd\n",
        "import sklearn.metrics as metrics\n",
        "import matplotlib.pyplot as plt\n",
        "from sklearn import preprocessing\n",
        "from sklearn.neighbors import KNeighborsClassifier\n",
        "from sklearn.linear_model import LogisticRegression\n",
        "from sklearn import svm\n",
        "from sklearn.tree import DecisionTreeClassifier\n",
        "from sklearn.ensemble import RandomForestClassifier\n",
        "import xgboost\n",
        "import lightgbm as lgb\n",
        "\n",
        "!pip install catboost\n",
        "from catboost import CatBoostClassifier"
      ],
      "execution_count": null,
      "outputs": [
        {
          "output_type": "stream",
          "text": [
            "Requirement already satisfied: catboost in /usr/local/lib/python3.6/dist-packages (0.24.2)\n",
            "Requirement already satisfied: pandas>=0.24.0 in /usr/local/lib/python3.6/dist-packages (from catboost) (1.1.3)\n",
            "Requirement already satisfied: plotly in /usr/local/lib/python3.6/dist-packages (from catboost) (4.4.1)\n",
            "Requirement already satisfied: scipy in /usr/local/lib/python3.6/dist-packages (from catboost) (1.4.1)\n",
            "Requirement already satisfied: matplotlib in /usr/local/lib/python3.6/dist-packages (from catboost) (3.2.2)\n",
            "Requirement already satisfied: six in /usr/local/lib/python3.6/dist-packages (from catboost) (1.15.0)\n",
            "Requirement already satisfied: numpy>=1.16.0 in /usr/local/lib/python3.6/dist-packages (from catboost) (1.18.5)\n",
            "Requirement already satisfied: graphviz in /usr/local/lib/python3.6/dist-packages (from catboost) (0.10.1)\n",
            "Requirement already satisfied: pytz>=2017.2 in /usr/local/lib/python3.6/dist-packages (from pandas>=0.24.0->catboost) (2018.9)\n",
            "Requirement already satisfied: python-dateutil>=2.7.3 in /usr/local/lib/python3.6/dist-packages (from pandas>=0.24.0->catboost) (2.8.1)\n",
            "Requirement already satisfied: retrying>=1.3.3 in /usr/local/lib/python3.6/dist-packages (from plotly->catboost) (1.3.3)\n",
            "Requirement already satisfied: kiwisolver>=1.0.1 in /usr/local/lib/python3.6/dist-packages (from matplotlib->catboost) (1.2.0)\n",
            "Requirement already satisfied: pyparsing!=2.0.4,!=2.1.2,!=2.1.6,>=2.0.1 in /usr/local/lib/python3.6/dist-packages (from matplotlib->catboost) (2.4.7)\n",
            "Requirement already satisfied: cycler>=0.10 in /usr/local/lib/python3.6/dist-packages (from matplotlib->catboost) (0.10.0)\n"
          ],
          "name": "stdout"
        }
      ]
    },
    {
      "cell_type": "code",
      "metadata": {
        "id": "tML3sllPbT9i"
      },
      "source": [
        "df = pd.read_csv(\"train.csv\")\n",
        "df.fillna(method='backfill', inplace=True)\n",
        "le = preprocessing.LabelEncoder()\n",
        "df['Sex'] = list(map(lambda x: str(x), df['Sex']))\n",
        "df['Sex'] = le.fit_transform(df['Sex'])\n",
        "df['Embarked'] = list(map(lambda x: str(x), df['Embarked']))\n",
        "df['Embarked'] = le.fit_transform(df['Embarked'])"
      ],
      "execution_count": null,
      "outputs": []
    },
    {
      "cell_type": "code",
      "metadata": {
        "id": "TFb2-zwibcNd"
      },
      "source": [
        "X_train = df.iloc[0:757, [2, 4, 5, 6, 7, 9, 11]]\n",
        "y_train = df.iloc[0:757, 1]\n",
        "X_test = df.iloc[757:891, [2, 4, 5, 6, 7, 9, 11]]\n",
        "y_test = df.iloc[757:891, 1]"
      ],
      "execution_count": null,
      "outputs": []
    },
    {
      "cell_type": "markdown",
      "metadata": {
        "id": "LT6vix0qc4r8"
      },
      "source": [
        "# kNN"
      ]
    },
    {
      "cell_type": "code",
      "metadata": {
        "id": "OHbQJ1j2bxQx",
        "colab": {
          "base_uri": "https://localhost:8080/",
          "height": 34
        },
        "outputId": "95a53a60-f83f-4f28-c941-21fd0b5cd43a"
      },
      "source": [
        "model_kNN = KNeighborsClassifier(n_neighbors=3)\n",
        "model_kNN.fit(X_train, y_train)\n",
        "pred_kNN = model_kNN.predict(X_test)\n",
        "np.unique([y_test == pred_kNN], return_counts = True)"
      ],
      "execution_count": null,
      "outputs": [
        {
          "output_type": "execute_result",
          "data": {
            "text/plain": [
              "(array([False,  True]), array([ 28, 106]))"
            ]
          },
          "metadata": {
            "tags": []
          },
          "execution_count": 23
        }
      ]
    },
    {
      "cell_type": "code",
      "metadata": {
        "id": "ykp9K6lncl-D",
        "colab": {
          "base_uri": "https://localhost:8080/",
          "height": 34
        },
        "outputId": "a888a91d-cd32-49d5-afb5-8d27714339fe"
      },
      "source": [
        "106/(106+28)"
      ],
      "execution_count": null,
      "outputs": [
        {
          "output_type": "execute_result",
          "data": {
            "text/plain": [
              "0.7910447761194029"
            ]
          },
          "metadata": {
            "tags": []
          },
          "execution_count": 10
        }
      ]
    },
    {
      "cell_type": "markdown",
      "metadata": {
        "id": "c7rPyhOHdASU"
      },
      "source": [
        "# LogisticRegression"
      ]
    },
    {
      "cell_type": "code",
      "metadata": {
        "id": "gK3gRPuqc9A9",
        "colab": {
          "base_uri": "https://localhost:8080/",
          "height": 34
        },
        "outputId": "d0305117-e77e-4af0-8596-e2a28351cb92"
      },
      "source": [
        "model_LR = LogisticRegression()\n",
        "model_LR.fit(X_train, y_train)\n",
        "pred_LR = model_LR.predict(X_test)\n",
        "np.unique([y_test == pred_LR], return_counts = True)"
      ],
      "execution_count": null,
      "outputs": [
        {
          "output_type": "execute_result",
          "data": {
            "text/plain": [
              "(array([False,  True]), array([ 23, 111]))"
            ]
          },
          "metadata": {
            "tags": []
          },
          "execution_count": 26
        }
      ]
    },
    {
      "cell_type": "code",
      "metadata": {
        "id": "qnJl14zeePiC",
        "colab": {
          "base_uri": "https://localhost:8080/",
          "height": 34
        },
        "outputId": "9573dafa-38ef-4207-92ee-2cf8e95e8d24"
      },
      "source": [
        "111/(111+23)"
      ],
      "execution_count": null,
      "outputs": [
        {
          "output_type": "execute_result",
          "data": {
            "text/plain": [
              "0.8283582089552238"
            ]
          },
          "metadata": {
            "tags": []
          },
          "execution_count": 27
        }
      ]
    },
    {
      "cell_type": "markdown",
      "metadata": {
        "id": "hdKTfWKFeZBe"
      },
      "source": [
        "# SVM"
      ]
    },
    {
      "cell_type": "code",
      "metadata": {
        "id": "LwcnqD1reYGf",
        "colab": {
          "base_uri": "https://localhost:8080/",
          "height": 34
        },
        "outputId": "3dc70aa4-eca4-48fd-edca-48bf6057329c"
      },
      "source": [
        "model_svc = svm.SVC()\n",
        "model_svc.fit(X_train, y_train)\n",
        "pred_svc = model_svc.predict(X_test)\n",
        "np.unique([y_test == pred_svc], return_counts = True)"
      ],
      "execution_count": null,
      "outputs": [
        {
          "output_type": "execute_result",
          "data": {
            "text/plain": [
              "(array([False,  True]), array([38, 96]))"
            ]
          },
          "metadata": {
            "tags": []
          },
          "execution_count": 32
        }
      ]
    },
    {
      "cell_type": "code",
      "metadata": {
        "id": "MYaodzhOf-5g",
        "colab": {
          "base_uri": "https://localhost:8080/",
          "height": 34
        },
        "outputId": "8000854a-b7a5-44da-836c-bdd95da4748e"
      },
      "source": [
        "96/(38+96)"
      ],
      "execution_count": null,
      "outputs": [
        {
          "output_type": "execute_result",
          "data": {
            "text/plain": [
              "0.7164179104477612"
            ]
          },
          "metadata": {
            "tags": []
          },
          "execution_count": 33
        }
      ]
    },
    {
      "cell_type": "markdown",
      "metadata": {
        "id": "VRuvDgfnecgO"
      },
      "source": [
        "# Дерево решений"
      ]
    },
    {
      "cell_type": "code",
      "metadata": {
        "id": "VhSj8nQQehSg",
        "colab": {
          "base_uri": "https://localhost:8080/",
          "height": 34
        },
        "outputId": "a3bc947c-5dab-4e98-998f-39f3e97af981"
      },
      "source": [
        "model_DT = DecisionTreeClassifier(random_state=0)\n",
        "model_DT.fit(X_train, y_train)\n",
        "pred_DT = model_DT.predict(X_test)\n",
        "np.unique([y_test == pred_DT], return_counts = True)"
      ],
      "execution_count": null,
      "outputs": [
        {
          "output_type": "execute_result",
          "data": {
            "text/plain": [
              "(array([False,  True]), array([ 25, 109]))"
            ]
          },
          "metadata": {
            "tags": []
          },
          "execution_count": 36
        }
      ]
    },
    {
      "cell_type": "code",
      "metadata": {
        "id": "KIFq3UnnggXA",
        "colab": {
          "base_uri": "https://localhost:8080/",
          "height": 34
        },
        "outputId": "0b185eb6-37af-4fc3-a36b-7f0591d1918b"
      },
      "source": [
        "109/(25+109)"
      ],
      "execution_count": null,
      "outputs": [
        {
          "output_type": "execute_result",
          "data": {
            "text/plain": [
              "0.8134328358208955"
            ]
          },
          "metadata": {
            "tags": []
          },
          "execution_count": 37
        }
      ]
    },
    {
      "cell_type": "markdown",
      "metadata": {
        "id": "E3t1G0iyehuM"
      },
      "source": [
        "# RandomForest"
      ]
    },
    {
      "cell_type": "code",
      "metadata": {
        "id": "l08plc8Nemnx",
        "colab": {
          "base_uri": "https://localhost:8080/",
          "height": 34
        },
        "outputId": "658c665c-9e24-401d-9d4e-8ac94457570a"
      },
      "source": [
        "model_RF = RandomForestClassifier(max_depth=1, random_state=0)\n",
        "model_RF.fit(X_train, y_train)\n",
        "pred_RF = model_RF.predict(X_test)\n",
        "np.unique([y_test == pred_DT], return_counts = True)"
      ],
      "execution_count": null,
      "outputs": [
        {
          "output_type": "execute_result",
          "data": {
            "text/plain": [
              "(array([False,  True]), array([ 25, 109]))"
            ]
          },
          "metadata": {
            "tags": []
          },
          "execution_count": 47
        }
      ]
    },
    {
      "cell_type": "code",
      "metadata": {
        "id": "__bu9e0XhSGf",
        "colab": {
          "base_uri": "https://localhost:8080/",
          "height": 34
        },
        "outputId": "612dd3c4-d68d-4f10-ad4e-119b69347028"
      },
      "source": [
        "109/(25+109)"
      ],
      "execution_count": null,
      "outputs": [
        {
          "output_type": "execute_result",
          "data": {
            "text/plain": [
              "0.8134328358208955"
            ]
          },
          "metadata": {
            "tags": []
          },
          "execution_count": 48
        }
      ]
    },
    {
      "cell_type": "markdown",
      "metadata": {
        "id": "eNqyaGOBenSo"
      },
      "source": [
        "# XGBoost"
      ]
    },
    {
      "cell_type": "code",
      "metadata": {
        "id": "o5bN2PEmeqGn",
        "colab": {
          "base_uri": "https://localhost:8080/",
          "height": 34
        },
        "outputId": "471ef9ab-6995-421a-8091-fd8f952e8416"
      },
      "source": [
        "model_XGB = xgboost.XGBClassifier()\n",
        "model_XGB.fit(X_train, y_train)\n",
        "pred_XGB = model_XGB.predict(X_test)\n",
        "np.unique([y_test == pred_XGB], return_counts = True)"
      ],
      "execution_count": null,
      "outputs": [
        {
          "output_type": "execute_result",
          "data": {
            "text/plain": [
              "(array([False,  True]), array([ 23, 111]))"
            ]
          },
          "metadata": {
            "tags": []
          },
          "execution_count": 50
        }
      ]
    },
    {
      "cell_type": "code",
      "metadata": {
        "id": "eOlc0nBfhuwg",
        "colab": {
          "base_uri": "https://localhost:8080/",
          "height": 34
        },
        "outputId": "318da77c-b885-45f5-e442-4f97636ff598"
      },
      "source": [
        "111/(111+23)"
      ],
      "execution_count": null,
      "outputs": [
        {
          "output_type": "execute_result",
          "data": {
            "text/plain": [
              "0.8283582089552238"
            ]
          },
          "metadata": {
            "tags": []
          },
          "execution_count": 51
        }
      ]
    },
    {
      "cell_type": "markdown",
      "metadata": {
        "id": "E9pOWvOqeqoN"
      },
      "source": [
        "# LightGBM"
      ]
    },
    {
      "cell_type": "code",
      "metadata": {
        "id": "UzcXZcfGetp8",
        "colab": {
          "base_uri": "https://localhost:8080/",
          "height": 34
        },
        "outputId": "18a55ae3-1938-4002-bffc-c87b58a801f9"
      },
      "source": [
        "model_lgb = lgb.LGBMClassifier()\n",
        "model_lgb.fit(X_train, y_train)\n",
        "pred_lgb = model_lgb.predict(X_test)\n",
        "np.unique([y_test == pred_lgb], return_counts = True)"
      ],
      "execution_count": null,
      "outputs": [
        {
          "output_type": "execute_result",
          "data": {
            "text/plain": [
              "(array([False,  True]), array([ 19, 115]))"
            ]
          },
          "metadata": {
            "tags": []
          },
          "execution_count": 53
        }
      ]
    },
    {
      "cell_type": "code",
      "metadata": {
        "id": "V2h0XSPPi6td",
        "colab": {
          "base_uri": "https://localhost:8080/",
          "height": 34
        },
        "outputId": "973458f2-4605-4c5c-f26c-90fc23e1228b"
      },
      "source": [
        "115/(115+19)"
      ],
      "execution_count": null,
      "outputs": [
        {
          "output_type": "execute_result",
          "data": {
            "text/plain": [
              "0.8582089552238806"
            ]
          },
          "metadata": {
            "tags": []
          },
          "execution_count": 54
        }
      ]
    },
    {
      "cell_type": "markdown",
      "metadata": {
        "id": "ln5MR_SIeuHG"
      },
      "source": [
        "# CatBoost"
      ]
    },
    {
      "cell_type": "code",
      "metadata": {
        "id": "v3kB2Eq0ev6D",
        "colab": {
          "base_uri": "https://localhost:8080/",
          "height": 1000
        },
        "outputId": "63737acb-de68-4cff-c88c-f2cf918157c3"
      },
      "source": [
        "model_CB = CatBoostClassifier()\n",
        "model_CB.fit(X_train, y_train)\n",
        "pred_CB = model_CB.predict(X_test)\n",
        "np.unique([y_test == pred_CB], return_counts = True)"
      ],
      "execution_count": null,
      "outputs": [
        {
          "output_type": "stream",
          "text": [
            "Learning rate set to 0.009148\n",
            "0:\tlearn: 0.6871508\ttotal: 50.1ms\tremaining: 50s\n",
            "1:\tlearn: 0.6817451\ttotal: 51.3ms\tremaining: 25.6s\n",
            "2:\tlearn: 0.6764821\ttotal: 52.5ms\tremaining: 17.4s\n",
            "3:\tlearn: 0.6706673\ttotal: 54ms\tremaining: 13.4s\n",
            "4:\tlearn: 0.6657672\ttotal: 55ms\tremaining: 10.9s\n",
            "5:\tlearn: 0.6607376\ttotal: 56.3ms\tremaining: 9.32s\n",
            "6:\tlearn: 0.6563557\ttotal: 57.6ms\tremaining: 8.17s\n",
            "7:\tlearn: 0.6534562\ttotal: 58.4ms\tremaining: 7.24s\n",
            "8:\tlearn: 0.6488438\ttotal: 59.4ms\tremaining: 6.54s\n",
            "9:\tlearn: 0.6435713\ttotal: 60.8ms\tremaining: 6.02s\n",
            "10:\tlearn: 0.6385956\ttotal: 62.1ms\tremaining: 5.58s\n",
            "11:\tlearn: 0.6336734\ttotal: 63.4ms\tremaining: 5.22s\n",
            "12:\tlearn: 0.6289203\ttotal: 64.7ms\tremaining: 4.91s\n",
            "13:\tlearn: 0.6240977\ttotal: 66ms\tremaining: 4.65s\n",
            "14:\tlearn: 0.6198135\ttotal: 67.1ms\tremaining: 4.41s\n",
            "15:\tlearn: 0.6165178\ttotal: 68.1ms\tremaining: 4.19s\n",
            "16:\tlearn: 0.6124575\ttotal: 69.7ms\tremaining: 4.03s\n",
            "17:\tlearn: 0.6084682\ttotal: 70.9ms\tremaining: 3.87s\n",
            "18:\tlearn: 0.6043853\ttotal: 72.4ms\tremaining: 3.74s\n",
            "19:\tlearn: 0.6021929\ttotal: 73.2ms\tremaining: 3.58s\n",
            "20:\tlearn: 0.5986263\ttotal: 74.4ms\tremaining: 3.47s\n",
            "21:\tlearn: 0.5949577\ttotal: 75.6ms\tremaining: 3.36s\n",
            "22:\tlearn: 0.5908552\ttotal: 76.8ms\tremaining: 3.26s\n",
            "23:\tlearn: 0.5874423\ttotal: 78ms\tremaining: 3.17s\n",
            "24:\tlearn: 0.5839735\ttotal: 79.3ms\tremaining: 3.09s\n",
            "25:\tlearn: 0.5819457\ttotal: 80ms\tremaining: 3s\n",
            "26:\tlearn: 0.5781845\ttotal: 81.3ms\tremaining: 2.93s\n",
            "27:\tlearn: 0.5749770\ttotal: 82.5ms\tremaining: 2.86s\n",
            "28:\tlearn: 0.5714032\ttotal: 83.8ms\tremaining: 2.81s\n",
            "29:\tlearn: 0.5679369\ttotal: 85.1ms\tremaining: 2.75s\n",
            "30:\tlearn: 0.5657895\ttotal: 86.1ms\tremaining: 2.69s\n",
            "31:\tlearn: 0.5624338\ttotal: 87.3ms\tremaining: 2.64s\n",
            "32:\tlearn: 0.5592930\ttotal: 88.6ms\tremaining: 2.6s\n",
            "33:\tlearn: 0.5562101\ttotal: 89.9ms\tremaining: 2.55s\n",
            "34:\tlearn: 0.5535554\ttotal: 91.1ms\tremaining: 2.51s\n",
            "35:\tlearn: 0.5503789\ttotal: 92.4ms\tremaining: 2.47s\n",
            "36:\tlearn: 0.5477667\ttotal: 93.4ms\tremaining: 2.43s\n",
            "37:\tlearn: 0.5449181\ttotal: 94.6ms\tremaining: 2.4s\n",
            "38:\tlearn: 0.5426798\ttotal: 95.5ms\tremaining: 2.35s\n",
            "39:\tlearn: 0.5412970\ttotal: 96.2ms\tremaining: 2.31s\n",
            "40:\tlearn: 0.5393623\ttotal: 97.1ms\tremaining: 2.27s\n",
            "41:\tlearn: 0.5364557\ttotal: 98.3ms\tremaining: 2.24s\n",
            "42:\tlearn: 0.5342255\ttotal: 99.2ms\tremaining: 2.21s\n",
            "43:\tlearn: 0.5316496\ttotal: 101ms\tremaining: 2.18s\n",
            "44:\tlearn: 0.5295558\ttotal: 102ms\tremaining: 2.16s\n",
            "45:\tlearn: 0.5277473\ttotal: 103ms\tremaining: 2.13s\n",
            "46:\tlearn: 0.5251907\ttotal: 104ms\tremaining: 2.11s\n",
            "47:\tlearn: 0.5232571\ttotal: 105ms\tremaining: 2.08s\n",
            "48:\tlearn: 0.5216042\ttotal: 106ms\tremaining: 2.05s\n",
            "49:\tlearn: 0.5191791\ttotal: 107ms\tremaining: 2.03s\n",
            "50:\tlearn: 0.5169221\ttotal: 108ms\tremaining: 2.01s\n",
            "51:\tlearn: 0.5143712\ttotal: 109ms\tremaining: 2s\n",
            "52:\tlearn: 0.5122348\ttotal: 111ms\tremaining: 1.98s\n",
            "53:\tlearn: 0.5102690\ttotal: 112ms\tremaining: 1.96s\n",
            "54:\tlearn: 0.5080958\ttotal: 113ms\tremaining: 1.94s\n",
            "55:\tlearn: 0.5060984\ttotal: 114ms\tremaining: 1.93s\n",
            "56:\tlearn: 0.5043609\ttotal: 115ms\tremaining: 1.91s\n",
            "57:\tlearn: 0.5027413\ttotal: 117ms\tremaining: 1.89s\n",
            "58:\tlearn: 0.5005845\ttotal: 118ms\tremaining: 1.88s\n",
            "59:\tlearn: 0.4984945\ttotal: 119ms\tremaining: 1.87s\n",
            "60:\tlearn: 0.4972273\ttotal: 120ms\tremaining: 1.85s\n",
            "61:\tlearn: 0.4952970\ttotal: 121ms\tremaining: 1.83s\n",
            "62:\tlearn: 0.4939275\ttotal: 122ms\tremaining: 1.81s\n",
            "63:\tlearn: 0.4919142\ttotal: 123ms\tremaining: 1.8s\n",
            "64:\tlearn: 0.4906489\ttotal: 124ms\tremaining: 1.79s\n",
            "65:\tlearn: 0.4893879\ttotal: 125ms\tremaining: 1.77s\n",
            "66:\tlearn: 0.4879870\ttotal: 126ms\tremaining: 1.76s\n",
            "67:\tlearn: 0.4872561\ttotal: 127ms\tremaining: 1.74s\n",
            "68:\tlearn: 0.4865395\ttotal: 127ms\tremaining: 1.72s\n",
            "69:\tlearn: 0.4851586\ttotal: 129ms\tremaining: 1.71s\n",
            "70:\tlearn: 0.4837424\ttotal: 130ms\tremaining: 1.7s\n",
            "71:\tlearn: 0.4830035\ttotal: 131ms\tremaining: 1.68s\n",
            "72:\tlearn: 0.4818867\ttotal: 131ms\tremaining: 1.67s\n",
            "73:\tlearn: 0.4801362\ttotal: 132ms\tremaining: 1.66s\n",
            "74:\tlearn: 0.4786248\ttotal: 133ms\tremaining: 1.65s\n",
            "75:\tlearn: 0.4769726\ttotal: 135ms\tremaining: 1.64s\n",
            "76:\tlearn: 0.4757238\ttotal: 136ms\tremaining: 1.63s\n",
            "77:\tlearn: 0.4747246\ttotal: 137ms\tremaining: 1.61s\n",
            "78:\tlearn: 0.4732421\ttotal: 138ms\tremaining: 1.61s\n",
            "79:\tlearn: 0.4726824\ttotal: 138ms\tremaining: 1.59s\n",
            "80:\tlearn: 0.4714417\ttotal: 140ms\tremaining: 1.58s\n",
            "81:\tlearn: 0.4699274\ttotal: 141ms\tremaining: 1.57s\n",
            "82:\tlearn: 0.4687805\ttotal: 142ms\tremaining: 1.57s\n",
            "83:\tlearn: 0.4673931\ttotal: 143ms\tremaining: 1.56s\n",
            "84:\tlearn: 0.4658088\ttotal: 144ms\tremaining: 1.55s\n",
            "85:\tlearn: 0.4644410\ttotal: 146ms\tremaining: 1.55s\n",
            "86:\tlearn: 0.4634765\ttotal: 147ms\tremaining: 1.54s\n",
            "87:\tlearn: 0.4620525\ttotal: 148ms\tremaining: 1.53s\n",
            "88:\tlearn: 0.4612398\ttotal: 149ms\tremaining: 1.52s\n",
            "89:\tlearn: 0.4603034\ttotal: 150ms\tremaining: 1.52s\n",
            "90:\tlearn: 0.4591493\ttotal: 151ms\tremaining: 1.51s\n",
            "91:\tlearn: 0.4580645\ttotal: 153ms\tremaining: 1.51s\n",
            "92:\tlearn: 0.4575620\ttotal: 153ms\tremaining: 1.5s\n",
            "93:\tlearn: 0.4563439\ttotal: 155ms\tremaining: 1.49s\n",
            "94:\tlearn: 0.4550558\ttotal: 156ms\tremaining: 1.49s\n",
            "95:\tlearn: 0.4541718\ttotal: 157ms\tremaining: 1.48s\n",
            "96:\tlearn: 0.4534616\ttotal: 159ms\tremaining: 1.48s\n",
            "97:\tlearn: 0.4518945\ttotal: 160ms\tremaining: 1.47s\n",
            "98:\tlearn: 0.4510142\ttotal: 161ms\tremaining: 1.46s\n",
            "99:\tlearn: 0.4506094\ttotal: 162ms\tremaining: 1.45s\n",
            "100:\tlearn: 0.4496041\ttotal: 163ms\tremaining: 1.45s\n",
            "101:\tlearn: 0.4489901\ttotal: 164ms\tremaining: 1.44s\n",
            "102:\tlearn: 0.4479879\ttotal: 165ms\tremaining: 1.44s\n",
            "103:\tlearn: 0.4474243\ttotal: 166ms\tremaining: 1.43s\n",
            "104:\tlearn: 0.4463240\ttotal: 167ms\tremaining: 1.43s\n",
            "105:\tlearn: 0.4458513\ttotal: 168ms\tremaining: 1.42s\n",
            "106:\tlearn: 0.4448010\ttotal: 169ms\tremaining: 1.41s\n",
            "107:\tlearn: 0.4436871\ttotal: 171ms\tremaining: 1.41s\n",
            "108:\tlearn: 0.4429070\ttotal: 172ms\tremaining: 1.41s\n",
            "109:\tlearn: 0.4421021\ttotal: 173ms\tremaining: 1.4s\n",
            "110:\tlearn: 0.4410572\ttotal: 174ms\tremaining: 1.4s\n",
            "111:\tlearn: 0.4401507\ttotal: 176ms\tremaining: 1.39s\n",
            "112:\tlearn: 0.4391424\ttotal: 177ms\tremaining: 1.39s\n",
            "113:\tlearn: 0.4383001\ttotal: 178ms\tremaining: 1.39s\n",
            "114:\tlearn: 0.4378573\ttotal: 179ms\tremaining: 1.38s\n",
            "115:\tlearn: 0.4367464\ttotal: 180ms\tremaining: 1.37s\n",
            "116:\tlearn: 0.4356572\ttotal: 182ms\tremaining: 1.37s\n",
            "117:\tlearn: 0.4345773\ttotal: 183ms\tremaining: 1.37s\n",
            "118:\tlearn: 0.4339917\ttotal: 184ms\tremaining: 1.36s\n",
            "119:\tlearn: 0.4334024\ttotal: 186ms\tremaining: 1.36s\n",
            "120:\tlearn: 0.4326697\ttotal: 187ms\tremaining: 1.36s\n",
            "121:\tlearn: 0.4319916\ttotal: 190ms\tremaining: 1.37s\n",
            "122:\tlearn: 0.4315739\ttotal: 191ms\tremaining: 1.36s\n",
            "123:\tlearn: 0.4306224\ttotal: 192ms\tremaining: 1.36s\n",
            "124:\tlearn: 0.4301454\ttotal: 194ms\tremaining: 1.35s\n",
            "125:\tlearn: 0.4292303\ttotal: 195ms\tremaining: 1.35s\n",
            "126:\tlearn: 0.4286838\ttotal: 196ms\tremaining: 1.35s\n",
            "127:\tlearn: 0.4280436\ttotal: 197ms\tremaining: 1.34s\n",
            "128:\tlearn: 0.4274863\ttotal: 199ms\tremaining: 1.34s\n",
            "129:\tlearn: 0.4268312\ttotal: 200ms\tremaining: 1.34s\n",
            "130:\tlearn: 0.4262314\ttotal: 201ms\tremaining: 1.33s\n",
            "131:\tlearn: 0.4254681\ttotal: 202ms\tremaining: 1.33s\n",
            "132:\tlearn: 0.4248167\ttotal: 204ms\tremaining: 1.33s\n",
            "133:\tlearn: 0.4246124\ttotal: 205ms\tremaining: 1.32s\n",
            "134:\tlearn: 0.4239400\ttotal: 206ms\tremaining: 1.32s\n",
            "135:\tlearn: 0.4236808\ttotal: 207ms\tremaining: 1.31s\n",
            "136:\tlearn: 0.4231083\ttotal: 208ms\tremaining: 1.31s\n",
            "137:\tlearn: 0.4227054\ttotal: 209ms\tremaining: 1.3s\n",
            "138:\tlearn: 0.4223454\ttotal: 210ms\tremaining: 1.3s\n",
            "139:\tlearn: 0.4221904\ttotal: 211ms\tremaining: 1.29s\n",
            "140:\tlearn: 0.4214508\ttotal: 212ms\tremaining: 1.29s\n",
            "141:\tlearn: 0.4207386\ttotal: 213ms\tremaining: 1.29s\n",
            "142:\tlearn: 0.4201978\ttotal: 215ms\tremaining: 1.28s\n",
            "143:\tlearn: 0.4199022\ttotal: 215ms\tremaining: 1.28s\n",
            "144:\tlearn: 0.4190898\ttotal: 216ms\tremaining: 1.28s\n",
            "145:\tlearn: 0.4182767\ttotal: 218ms\tremaining: 1.27s\n",
            "146:\tlearn: 0.4180011\ttotal: 218ms\tremaining: 1.27s\n",
            "147:\tlearn: 0.4175356\ttotal: 220ms\tremaining: 1.26s\n",
            "148:\tlearn: 0.4171790\ttotal: 221ms\tremaining: 1.26s\n",
            "149:\tlearn: 0.4168355\ttotal: 222ms\tremaining: 1.26s\n",
            "150:\tlearn: 0.4165073\ttotal: 223ms\tremaining: 1.25s\n",
            "151:\tlearn: 0.4158238\ttotal: 224ms\tremaining: 1.25s\n",
            "152:\tlearn: 0.4151899\ttotal: 225ms\tremaining: 1.25s\n",
            "153:\tlearn: 0.4146054\ttotal: 226ms\tremaining: 1.24s\n",
            "154:\tlearn: 0.4140702\ttotal: 228ms\tremaining: 1.24s\n",
            "155:\tlearn: 0.4133382\ttotal: 229ms\tremaining: 1.24s\n",
            "156:\tlearn: 0.4127967\ttotal: 230ms\tremaining: 1.24s\n",
            "157:\tlearn: 0.4125388\ttotal: 231ms\tremaining: 1.23s\n",
            "158:\tlearn: 0.4122117\ttotal: 232ms\tremaining: 1.23s\n",
            "159:\tlearn: 0.4116058\ttotal: 234ms\tremaining: 1.23s\n",
            "160:\tlearn: 0.4112885\ttotal: 235ms\tremaining: 1.22s\n",
            "161:\tlearn: 0.4106770\ttotal: 236ms\tremaining: 1.22s\n",
            "162:\tlearn: 0.4102992\ttotal: 238ms\tremaining: 1.22s\n",
            "163:\tlearn: 0.4096383\ttotal: 239ms\tremaining: 1.22s\n",
            "164:\tlearn: 0.4092341\ttotal: 240ms\tremaining: 1.22s\n",
            "165:\tlearn: 0.4086824\ttotal: 241ms\tremaining: 1.21s\n",
            "166:\tlearn: 0.4082766\ttotal: 243ms\tremaining: 1.21s\n",
            "167:\tlearn: 0.4078632\ttotal: 244ms\tremaining: 1.21s\n",
            "168:\tlearn: 0.4074281\ttotal: 245ms\tremaining: 1.2s\n",
            "169:\tlearn: 0.4069713\ttotal: 246ms\tremaining: 1.2s\n",
            "170:\tlearn: 0.4064895\ttotal: 247ms\tremaining: 1.2s\n",
            "171:\tlearn: 0.4061921\ttotal: 249ms\tremaining: 1.2s\n",
            "172:\tlearn: 0.4056498\ttotal: 250ms\tremaining: 1.2s\n",
            "173:\tlearn: 0.4051815\ttotal: 251ms\tremaining: 1.19s\n",
            "174:\tlearn: 0.4050885\ttotal: 252ms\tremaining: 1.19s\n",
            "175:\tlearn: 0.4045700\ttotal: 254ms\tremaining: 1.19s\n",
            "176:\tlearn: 0.4041242\ttotal: 255ms\tremaining: 1.19s\n",
            "177:\tlearn: 0.4038565\ttotal: 256ms\tremaining: 1.18s\n",
            "178:\tlearn: 0.4033980\ttotal: 258ms\tremaining: 1.18s\n",
            "179:\tlearn: 0.4029016\ttotal: 259ms\tremaining: 1.18s\n",
            "180:\tlearn: 0.4027785\ttotal: 260ms\tremaining: 1.18s\n",
            "181:\tlearn: 0.4021391\ttotal: 261ms\tremaining: 1.17s\n",
            "182:\tlearn: 0.4017700\ttotal: 263ms\tremaining: 1.17s\n",
            "183:\tlearn: 0.4013281\ttotal: 264ms\tremaining: 1.17s\n",
            "184:\tlearn: 0.4011969\ttotal: 265ms\tremaining: 1.17s\n",
            "185:\tlearn: 0.4007358\ttotal: 266ms\tremaining: 1.17s\n",
            "186:\tlearn: 0.4005323\ttotal: 267ms\tremaining: 1.16s\n",
            "187:\tlearn: 0.4001012\ttotal: 269ms\tremaining: 1.16s\n",
            "188:\tlearn: 0.3998451\ttotal: 270ms\tremaining: 1.16s\n",
            "189:\tlearn: 0.3998006\ttotal: 271ms\tremaining: 1.15s\n",
            "190:\tlearn: 0.3996242\ttotal: 272ms\tremaining: 1.15s\n",
            "191:\tlearn: 0.3993094\ttotal: 273ms\tremaining: 1.15s\n",
            "192:\tlearn: 0.3988107\ttotal: 275ms\tremaining: 1.15s\n",
            "193:\tlearn: 0.3986986\ttotal: 276ms\tremaining: 1.14s\n",
            "194:\tlearn: 0.3984578\ttotal: 277ms\tremaining: 1.14s\n",
            "195:\tlearn: 0.3983629\ttotal: 278ms\tremaining: 1.14s\n",
            "196:\tlearn: 0.3979286\ttotal: 279ms\tremaining: 1.14s\n",
            "197:\tlearn: 0.3978245\ttotal: 280ms\tremaining: 1.13s\n",
            "198:\tlearn: 0.3974503\ttotal: 281ms\tremaining: 1.13s\n",
            "199:\tlearn: 0.3971654\ttotal: 282ms\tremaining: 1.13s\n",
            "200:\tlearn: 0.3966811\ttotal: 284ms\tremaining: 1.13s\n",
            "201:\tlearn: 0.3962580\ttotal: 285ms\tremaining: 1.13s\n",
            "202:\tlearn: 0.3959538\ttotal: 286ms\tremaining: 1.12s\n",
            "203:\tlearn: 0.3955335\ttotal: 287ms\tremaining: 1.12s\n",
            "204:\tlearn: 0.3952021\ttotal: 289ms\tremaining: 1.12s\n",
            "205:\tlearn: 0.3947269\ttotal: 290ms\tremaining: 1.12s\n",
            "206:\tlearn: 0.3942932\ttotal: 291ms\tremaining: 1.12s\n",
            "207:\tlearn: 0.3939897\ttotal: 293ms\tremaining: 1.11s\n",
            "208:\tlearn: 0.3935514\ttotal: 294ms\tremaining: 1.11s\n",
            "209:\tlearn: 0.3932934\ttotal: 295ms\tremaining: 1.11s\n",
            "210:\tlearn: 0.3932534\ttotal: 296ms\tremaining: 1.1s\n",
            "211:\tlearn: 0.3928727\ttotal: 297ms\tremaining: 1.1s\n",
            "212:\tlearn: 0.3925932\ttotal: 298ms\tremaining: 1.1s\n",
            "213:\tlearn: 0.3922899\ttotal: 299ms\tremaining: 1.1s\n",
            "214:\tlearn: 0.3920072\ttotal: 301ms\tremaining: 1.1s\n",
            "215:\tlearn: 0.3915673\ttotal: 302ms\tremaining: 1.09s\n",
            "216:\tlearn: 0.3913285\ttotal: 303ms\tremaining: 1.09s\n",
            "217:\tlearn: 0.3910591\ttotal: 304ms\tremaining: 1.09s\n",
            "218:\tlearn: 0.3907169\ttotal: 306ms\tremaining: 1.09s\n",
            "219:\tlearn: 0.3904038\ttotal: 307ms\tremaining: 1.09s\n",
            "220:\tlearn: 0.3902233\ttotal: 308ms\tremaining: 1.09s\n",
            "221:\tlearn: 0.3898302\ttotal: 310ms\tremaining: 1.08s\n",
            "222:\tlearn: 0.3895550\ttotal: 311ms\tremaining: 1.08s\n",
            "223:\tlearn: 0.3894287\ttotal: 312ms\tremaining: 1.08s\n",
            "224:\tlearn: 0.3892310\ttotal: 313ms\tremaining: 1.08s\n",
            "225:\tlearn: 0.3889314\ttotal: 314ms\tremaining: 1.07s\n",
            "226:\tlearn: 0.3885820\ttotal: 315ms\tremaining: 1.07s\n",
            "227:\tlearn: 0.3883316\ttotal: 317ms\tremaining: 1.07s\n",
            "228:\tlearn: 0.3880592\ttotal: 318ms\tremaining: 1.07s\n",
            "229:\tlearn: 0.3877191\ttotal: 319ms\tremaining: 1.07s\n",
            "230:\tlearn: 0.3874530\ttotal: 320ms\tremaining: 1.06s\n",
            "231:\tlearn: 0.3872283\ttotal: 322ms\tremaining: 1.06s\n",
            "232:\tlearn: 0.3870426\ttotal: 323ms\tremaining: 1.06s\n",
            "233:\tlearn: 0.3867938\ttotal: 324ms\tremaining: 1.06s\n",
            "234:\tlearn: 0.3864064\ttotal: 325ms\tremaining: 1.06s\n",
            "235:\tlearn: 0.3862656\ttotal: 326ms\tremaining: 1.06s\n",
            "236:\tlearn: 0.3860051\ttotal: 328ms\tremaining: 1.05s\n",
            "237:\tlearn: 0.3856487\ttotal: 329ms\tremaining: 1.05s\n",
            "238:\tlearn: 0.3853970\ttotal: 330ms\tremaining: 1.05s\n",
            "239:\tlearn: 0.3849514\ttotal: 332ms\tremaining: 1.05s\n",
            "240:\tlearn: 0.3847865\ttotal: 333ms\tremaining: 1.05s\n",
            "241:\tlearn: 0.3845394\ttotal: 334ms\tremaining: 1.05s\n",
            "242:\tlearn: 0.3842556\ttotal: 335ms\tremaining: 1.04s\n",
            "243:\tlearn: 0.3841529\ttotal: 336ms\tremaining: 1.04s\n",
            "244:\tlearn: 0.3840081\ttotal: 337ms\tremaining: 1.04s\n",
            "245:\tlearn: 0.3837279\ttotal: 338ms\tremaining: 1.04s\n",
            "246:\tlearn: 0.3835627\ttotal: 340ms\tremaining: 1.03s\n",
            "247:\tlearn: 0.3833141\ttotal: 341ms\tremaining: 1.03s\n",
            "248:\tlearn: 0.3830989\ttotal: 342ms\tremaining: 1.03s\n",
            "249:\tlearn: 0.3829292\ttotal: 343ms\tremaining: 1.03s\n",
            "250:\tlearn: 0.3827313\ttotal: 344ms\tremaining: 1.03s\n",
            "251:\tlearn: 0.3824627\ttotal: 346ms\tremaining: 1.03s\n",
            "252:\tlearn: 0.3820965\ttotal: 347ms\tremaining: 1.02s\n",
            "253:\tlearn: 0.3818225\ttotal: 348ms\tremaining: 1.02s\n",
            "254:\tlearn: 0.3816566\ttotal: 349ms\tremaining: 1.02s\n",
            "255:\tlearn: 0.3814081\ttotal: 351ms\tremaining: 1.02s\n",
            "256:\tlearn: 0.3813807\ttotal: 351ms\tremaining: 1.01s\n",
            "257:\tlearn: 0.3812599\ttotal: 352ms\tremaining: 1.01s\n",
            "258:\tlearn: 0.3810557\ttotal: 354ms\tremaining: 1.01s\n",
            "259:\tlearn: 0.3807354\ttotal: 355ms\tremaining: 1.01s\n",
            "260:\tlearn: 0.3805992\ttotal: 356ms\tremaining: 1.01s\n",
            "261:\tlearn: 0.3804625\ttotal: 357ms\tremaining: 1s\n",
            "262:\tlearn: 0.3801870\ttotal: 358ms\tremaining: 1s\n",
            "263:\tlearn: 0.3799449\ttotal: 360ms\tremaining: 1s\n",
            "264:\tlearn: 0.3798130\ttotal: 361ms\tremaining: 1s\n",
            "265:\tlearn: 0.3797878\ttotal: 362ms\tremaining: 998ms\n",
            "266:\tlearn: 0.3795494\ttotal: 363ms\tremaining: 996ms\n",
            "267:\tlearn: 0.3792203\ttotal: 364ms\tremaining: 995ms\n",
            "268:\tlearn: 0.3790237\ttotal: 365ms\tremaining: 993ms\n",
            "269:\tlearn: 0.3788887\ttotal: 366ms\tremaining: 991ms\n",
            "270:\tlearn: 0.3787149\ttotal: 368ms\tremaining: 989ms\n",
            "271:\tlearn: 0.3785916\ttotal: 369ms\tremaining: 987ms\n",
            "272:\tlearn: 0.3783007\ttotal: 370ms\tremaining: 986ms\n",
            "273:\tlearn: 0.3781807\ttotal: 372ms\tremaining: 986ms\n",
            "274:\tlearn: 0.3778855\ttotal: 374ms\tremaining: 985ms\n",
            "275:\tlearn: 0.3776363\ttotal: 375ms\tremaining: 984ms\n",
            "276:\tlearn: 0.3772092\ttotal: 377ms\tremaining: 983ms\n",
            "277:\tlearn: 0.3769582\ttotal: 378ms\tremaining: 982ms\n",
            "278:\tlearn: 0.3767836\ttotal: 380ms\tremaining: 983ms\n",
            "279:\tlearn: 0.3764598\ttotal: 382ms\tremaining: 981ms\n",
            "280:\tlearn: 0.3763846\ttotal: 382ms\tremaining: 979ms\n",
            "281:\tlearn: 0.3761983\ttotal: 384ms\tremaining: 977ms\n",
            "282:\tlearn: 0.3760723\ttotal: 385ms\tremaining: 975ms\n",
            "283:\tlearn: 0.3757182\ttotal: 386ms\tremaining: 974ms\n",
            "284:\tlearn: 0.3756888\ttotal: 387ms\tremaining: 971ms\n",
            "285:\tlearn: 0.3752907\ttotal: 388ms\tremaining: 970ms\n",
            "286:\tlearn: 0.3750468\ttotal: 390ms\tremaining: 968ms\n",
            "287:\tlearn: 0.3749477\ttotal: 391ms\tremaining: 966ms\n",
            "288:\tlearn: 0.3747919\ttotal: 392ms\tremaining: 964ms\n",
            "289:\tlearn: 0.3745973\ttotal: 393ms\tremaining: 963ms\n",
            "290:\tlearn: 0.3742640\ttotal: 394ms\tremaining: 961ms\n",
            "291:\tlearn: 0.3741355\ttotal: 396ms\tremaining: 959ms\n",
            "292:\tlearn: 0.3738519\ttotal: 397ms\tremaining: 957ms\n",
            "293:\tlearn: 0.3738422\ttotal: 397ms\tremaining: 954ms\n",
            "294:\tlearn: 0.3735676\ttotal: 399ms\tremaining: 953ms\n",
            "295:\tlearn: 0.3733700\ttotal: 400ms\tremaining: 950ms\n",
            "296:\tlearn: 0.3731420\ttotal: 400ms\tremaining: 948ms\n",
            "297:\tlearn: 0.3730177\ttotal: 402ms\tremaining: 946ms\n",
            "298:\tlearn: 0.3729415\ttotal: 403ms\tremaining: 944ms\n",
            "299:\tlearn: 0.3726798\ttotal: 404ms\tremaining: 942ms\n",
            "300:\tlearn: 0.3725696\ttotal: 405ms\tremaining: 940ms\n",
            "301:\tlearn: 0.3724515\ttotal: 406ms\tremaining: 938ms\n",
            "302:\tlearn: 0.3722500\ttotal: 407ms\tremaining: 937ms\n",
            "303:\tlearn: 0.3719401\ttotal: 409ms\tremaining: 936ms\n",
            "304:\tlearn: 0.3719106\ttotal: 410ms\tremaining: 933ms\n",
            "305:\tlearn: 0.3717498\ttotal: 411ms\tremaining: 932ms\n",
            "306:\tlearn: 0.3715495\ttotal: 412ms\tremaining: 931ms\n",
            "307:\tlearn: 0.3714443\ttotal: 414ms\tremaining: 929ms\n",
            "308:\tlearn: 0.3714165\ttotal: 415ms\tremaining: 927ms\n",
            "309:\tlearn: 0.3712550\ttotal: 416ms\tremaining: 926ms\n",
            "310:\tlearn: 0.3711016\ttotal: 417ms\tremaining: 924ms\n",
            "311:\tlearn: 0.3708100\ttotal: 418ms\tremaining: 923ms\n",
            "312:\tlearn: 0.3705962\ttotal: 420ms\tremaining: 921ms\n",
            "313:\tlearn: 0.3703515\ttotal: 421ms\tremaining: 919ms\n",
            "314:\tlearn: 0.3700146\ttotal: 422ms\tremaining: 918ms\n",
            "315:\tlearn: 0.3698113\ttotal: 424ms\tremaining: 917ms\n",
            "316:\tlearn: 0.3697122\ttotal: 425ms\tremaining: 915ms\n",
            "317:\tlearn: 0.3696167\ttotal: 426ms\tremaining: 914ms\n",
            "318:\tlearn: 0.3694417\ttotal: 427ms\tremaining: 912ms\n",
            "319:\tlearn: 0.3693155\ttotal: 428ms\tremaining: 911ms\n",
            "320:\tlearn: 0.3690976\ttotal: 430ms\tremaining: 909ms\n",
            "321:\tlearn: 0.3689011\ttotal: 431ms\tremaining: 907ms\n",
            "322:\tlearn: 0.3687680\ttotal: 432ms\tremaining: 906ms\n",
            "323:\tlearn: 0.3685343\ttotal: 433ms\tremaining: 904ms\n",
            "324:\tlearn: 0.3684118\ttotal: 435ms\tremaining: 903ms\n",
            "325:\tlearn: 0.3683669\ttotal: 436ms\tremaining: 901ms\n",
            "326:\tlearn: 0.3681546\ttotal: 437ms\tremaining: 899ms\n",
            "327:\tlearn: 0.3679223\ttotal: 438ms\tremaining: 898ms\n",
            "328:\tlearn: 0.3676373\ttotal: 439ms\tremaining: 896ms\n",
            "329:\tlearn: 0.3674531\ttotal: 441ms\tremaining: 895ms\n",
            "330:\tlearn: 0.3673186\ttotal: 442ms\tremaining: 893ms\n",
            "331:\tlearn: 0.3670564\ttotal: 443ms\tremaining: 892ms\n",
            "332:\tlearn: 0.3670205\ttotal: 444ms\tremaining: 889ms\n",
            "333:\tlearn: 0.3668952\ttotal: 445ms\tremaining: 888ms\n",
            "334:\tlearn: 0.3667187\ttotal: 446ms\tremaining: 886ms\n",
            "335:\tlearn: 0.3665464\ttotal: 448ms\tremaining: 885ms\n",
            "336:\tlearn: 0.3662994\ttotal: 449ms\tremaining: 883ms\n",
            "337:\tlearn: 0.3661961\ttotal: 450ms\tremaining: 882ms\n",
            "338:\tlearn: 0.3661283\ttotal: 451ms\tremaining: 880ms\n",
            "339:\tlearn: 0.3659483\ttotal: 452ms\tremaining: 878ms\n",
            "340:\tlearn: 0.3659061\ttotal: 454ms\tremaining: 877ms\n",
            "341:\tlearn: 0.3655687\ttotal: 455ms\tremaining: 875ms\n",
            "342:\tlearn: 0.3654399\ttotal: 456ms\tremaining: 873ms\n",
            "343:\tlearn: 0.3652181\ttotal: 457ms\tremaining: 872ms\n",
            "344:\tlearn: 0.3651013\ttotal: 458ms\tremaining: 870ms\n",
            "345:\tlearn: 0.3650247\ttotal: 460ms\tremaining: 869ms\n",
            "346:\tlearn: 0.3649679\ttotal: 461ms\tremaining: 867ms\n",
            "347:\tlearn: 0.3646305\ttotal: 462ms\tremaining: 865ms\n",
            "348:\tlearn: 0.3644181\ttotal: 463ms\tremaining: 864ms\n",
            "349:\tlearn: 0.3642126\ttotal: 464ms\tremaining: 862ms\n",
            "350:\tlearn: 0.3640762\ttotal: 466ms\tremaining: 861ms\n",
            "351:\tlearn: 0.3638887\ttotal: 467ms\tremaining: 859ms\n",
            "352:\tlearn: 0.3636427\ttotal: 468ms\tremaining: 858ms\n",
            "353:\tlearn: 0.3635721\ttotal: 469ms\tremaining: 856ms\n",
            "354:\tlearn: 0.3633368\ttotal: 470ms\tremaining: 855ms\n",
            "355:\tlearn: 0.3632027\ttotal: 472ms\tremaining: 853ms\n",
            "356:\tlearn: 0.3630637\ttotal: 473ms\tremaining: 852ms\n",
            "357:\tlearn: 0.3628569\ttotal: 474ms\tremaining: 850ms\n",
            "358:\tlearn: 0.3626614\ttotal: 475ms\tremaining: 849ms\n",
            "359:\tlearn: 0.3625241\ttotal: 477ms\tremaining: 847ms\n",
            "360:\tlearn: 0.3624809\ttotal: 478ms\tremaining: 845ms\n",
            "361:\tlearn: 0.3624422\ttotal: 479ms\tremaining: 844ms\n",
            "362:\tlearn: 0.3622242\ttotal: 480ms\tremaining: 842ms\n",
            "363:\tlearn: 0.3622191\ttotal: 481ms\tremaining: 840ms\n",
            "364:\tlearn: 0.3620435\ttotal: 482ms\tremaining: 838ms\n",
            "365:\tlearn: 0.3618606\ttotal: 483ms\tremaining: 837ms\n",
            "366:\tlearn: 0.3616247\ttotal: 484ms\tremaining: 835ms\n",
            "367:\tlearn: 0.3615752\ttotal: 486ms\tremaining: 834ms\n",
            "368:\tlearn: 0.3613868\ttotal: 487ms\tremaining: 832ms\n",
            "369:\tlearn: 0.3612890\ttotal: 488ms\tremaining: 831ms\n",
            "370:\tlearn: 0.3612787\ttotal: 489ms\tremaining: 828ms\n",
            "371:\tlearn: 0.3612605\ttotal: 490ms\tremaining: 826ms\n",
            "372:\tlearn: 0.3611303\ttotal: 491ms\tremaining: 825ms\n",
            "373:\tlearn: 0.3610041\ttotal: 492ms\tremaining: 824ms\n",
            "374:\tlearn: 0.3609275\ttotal: 493ms\tremaining: 822ms\n",
            "375:\tlearn: 0.3606207\ttotal: 495ms\tremaining: 821ms\n",
            "376:\tlearn: 0.3605054\ttotal: 496ms\tremaining: 819ms\n",
            "377:\tlearn: 0.3602091\ttotal: 497ms\tremaining: 818ms\n",
            "378:\tlearn: 0.3601321\ttotal: 498ms\tremaining: 816ms\n",
            "379:\tlearn: 0.3600622\ttotal: 499ms\tremaining: 815ms\n",
            "380:\tlearn: 0.3600530\ttotal: 500ms\tremaining: 813ms\n",
            "381:\tlearn: 0.3599048\ttotal: 501ms\tremaining: 811ms\n",
            "382:\tlearn: 0.3598678\ttotal: 502ms\tremaining: 809ms\n",
            "383:\tlearn: 0.3597741\ttotal: 503ms\tremaining: 807ms\n",
            "384:\tlearn: 0.3597307\ttotal: 504ms\tremaining: 806ms\n",
            "385:\tlearn: 0.3594848\ttotal: 506ms\tremaining: 804ms\n",
            "386:\tlearn: 0.3593827\ttotal: 507ms\tremaining: 803ms\n",
            "387:\tlearn: 0.3591998\ttotal: 508ms\tremaining: 801ms\n",
            "388:\tlearn: 0.3589404\ttotal: 509ms\tremaining: 800ms\n",
            "389:\tlearn: 0.3587548\ttotal: 511ms\tremaining: 799ms\n",
            "390:\tlearn: 0.3586189\ttotal: 512ms\tremaining: 797ms\n",
            "391:\tlearn: 0.3585308\ttotal: 513ms\tremaining: 796ms\n",
            "392:\tlearn: 0.3584950\ttotal: 514ms\tremaining: 794ms\n",
            "393:\tlearn: 0.3582921\ttotal: 515ms\tremaining: 792ms\n",
            "394:\tlearn: 0.3581476\ttotal: 523ms\tremaining: 801ms\n",
            "395:\tlearn: 0.3580853\ttotal: 525ms\tremaining: 800ms\n",
            "396:\tlearn: 0.3579043\ttotal: 526ms\tremaining: 799ms\n",
            "397:\tlearn: 0.3577631\ttotal: 528ms\tremaining: 799ms\n",
            "398:\tlearn: 0.3577469\ttotal: 529ms\tremaining: 797ms\n",
            "399:\tlearn: 0.3574469\ttotal: 530ms\tremaining: 796ms\n",
            "400:\tlearn: 0.3574449\ttotal: 531ms\tremaining: 793ms\n",
            "401:\tlearn: 0.3573296\ttotal: 532ms\tremaining: 792ms\n",
            "402:\tlearn: 0.3572240\ttotal: 534ms\tremaining: 791ms\n",
            "403:\tlearn: 0.3571552\ttotal: 535ms\tremaining: 789ms\n",
            "404:\tlearn: 0.3571198\ttotal: 536ms\tremaining: 787ms\n",
            "405:\tlearn: 0.3569624\ttotal: 537ms\tremaining: 786ms\n",
            "406:\tlearn: 0.3568370\ttotal: 538ms\tremaining: 784ms\n",
            "407:\tlearn: 0.3567325\ttotal: 539ms\tremaining: 783ms\n",
            "408:\tlearn: 0.3566929\ttotal: 540ms\tremaining: 780ms\n",
            "409:\tlearn: 0.3565482\ttotal: 541ms\tremaining: 779ms\n",
            "410:\tlearn: 0.3562836\ttotal: 542ms\tremaining: 777ms\n",
            "411:\tlearn: 0.3561177\ttotal: 544ms\tremaining: 776ms\n",
            "412:\tlearn: 0.3559583\ttotal: 545ms\tremaining: 775ms\n",
            "413:\tlearn: 0.3558717\ttotal: 546ms\tremaining: 773ms\n",
            "414:\tlearn: 0.3556857\ttotal: 547ms\tremaining: 772ms\n",
            "415:\tlearn: 0.3555933\ttotal: 549ms\tremaining: 770ms\n",
            "416:\tlearn: 0.3554733\ttotal: 550ms\tremaining: 769ms\n",
            "417:\tlearn: 0.3551921\ttotal: 551ms\tremaining: 767ms\n",
            "418:\tlearn: 0.3550652\ttotal: 552ms\tremaining: 766ms\n",
            "419:\tlearn: 0.3550578\ttotal: 554ms\tremaining: 766ms\n",
            "420:\tlearn: 0.3550419\ttotal: 555ms\tremaining: 764ms\n",
            "421:\tlearn: 0.3549433\ttotal: 558ms\tremaining: 764ms\n",
            "422:\tlearn: 0.3546286\ttotal: 559ms\tremaining: 762ms\n",
            "423:\tlearn: 0.3543348\ttotal: 560ms\tremaining: 761ms\n",
            "424:\tlearn: 0.3541612\ttotal: 561ms\tremaining: 760ms\n",
            "425:\tlearn: 0.3541208\ttotal: 562ms\tremaining: 758ms\n",
            "426:\tlearn: 0.3539733\ttotal: 564ms\tremaining: 756ms\n",
            "427:\tlearn: 0.3538862\ttotal: 565ms\tremaining: 755ms\n",
            "428:\tlearn: 0.3538210\ttotal: 566ms\tremaining: 753ms\n",
            "429:\tlearn: 0.3535771\ttotal: 567ms\tremaining: 752ms\n",
            "430:\tlearn: 0.3534928\ttotal: 569ms\tremaining: 751ms\n",
            "431:\tlearn: 0.3533769\ttotal: 570ms\tremaining: 749ms\n",
            "432:\tlearn: 0.3531984\ttotal: 571ms\tremaining: 748ms\n",
            "433:\tlearn: 0.3530282\ttotal: 573ms\tremaining: 747ms\n",
            "434:\tlearn: 0.3529565\ttotal: 574ms\tremaining: 745ms\n",
            "435:\tlearn: 0.3528345\ttotal: 575ms\tremaining: 744ms\n",
            "436:\tlearn: 0.3527325\ttotal: 576ms\tremaining: 742ms\n",
            "437:\tlearn: 0.3526251\ttotal: 577ms\tremaining: 741ms\n",
            "438:\tlearn: 0.3525084\ttotal: 579ms\tremaining: 740ms\n",
            "439:\tlearn: 0.3524412\ttotal: 580ms\tremaining: 739ms\n",
            "440:\tlearn: 0.3523247\ttotal: 582ms\tremaining: 737ms\n",
            "441:\tlearn: 0.3522303\ttotal: 583ms\tremaining: 736ms\n",
            "442:\tlearn: 0.3521870\ttotal: 584ms\tremaining: 734ms\n",
            "443:\tlearn: 0.3521766\ttotal: 585ms\tremaining: 732ms\n",
            "444:\tlearn: 0.3519770\ttotal: 586ms\tremaining: 731ms\n",
            "445:\tlearn: 0.3518926\ttotal: 588ms\tremaining: 730ms\n",
            "446:\tlearn: 0.3517385\ttotal: 589ms\tremaining: 729ms\n",
            "447:\tlearn: 0.3516229\ttotal: 590ms\tremaining: 727ms\n",
            "448:\tlearn: 0.3515291\ttotal: 591ms\tremaining: 726ms\n",
            "449:\tlearn: 0.3513831\ttotal: 593ms\tremaining: 724ms\n",
            "450:\tlearn: 0.3512971\ttotal: 594ms\tremaining: 723ms\n",
            "451:\tlearn: 0.3510961\ttotal: 595ms\tremaining: 722ms\n",
            "452:\tlearn: 0.3509021\ttotal: 597ms\tremaining: 720ms\n",
            "453:\tlearn: 0.3507779\ttotal: 598ms\tremaining: 719ms\n",
            "454:\tlearn: 0.3506578\ttotal: 599ms\tremaining: 718ms\n",
            "455:\tlearn: 0.3505232\ttotal: 601ms\tremaining: 716ms\n",
            "456:\tlearn: 0.3504597\ttotal: 601ms\tremaining: 715ms\n",
            "457:\tlearn: 0.3503821\ttotal: 603ms\tremaining: 713ms\n",
            "458:\tlearn: 0.3503760\ttotal: 604ms\tremaining: 711ms\n",
            "459:\tlearn: 0.3503672\ttotal: 604ms\tremaining: 710ms\n",
            "460:\tlearn: 0.3503040\ttotal: 606ms\tremaining: 708ms\n",
            "461:\tlearn: 0.3501064\ttotal: 607ms\tremaining: 707ms\n",
            "462:\tlearn: 0.3500161\ttotal: 608ms\tremaining: 706ms\n",
            "463:\tlearn: 0.3497452\ttotal: 610ms\tremaining: 705ms\n",
            "464:\tlearn: 0.3494285\ttotal: 611ms\tremaining: 703ms\n",
            "465:\tlearn: 0.3492262\ttotal: 612ms\tremaining: 702ms\n",
            "466:\tlearn: 0.3491335\ttotal: 614ms\tremaining: 700ms\n",
            "467:\tlearn: 0.3489779\ttotal: 615ms\tremaining: 699ms\n",
            "468:\tlearn: 0.3489456\ttotal: 616ms\tremaining: 698ms\n",
            "469:\tlearn: 0.3488663\ttotal: 617ms\tremaining: 696ms\n",
            "470:\tlearn: 0.3487199\ttotal: 619ms\tremaining: 695ms\n",
            "471:\tlearn: 0.3485721\ttotal: 620ms\tremaining: 694ms\n",
            "472:\tlearn: 0.3485569\ttotal: 621ms\tremaining: 692ms\n",
            "473:\tlearn: 0.3484650\ttotal: 622ms\tremaining: 691ms\n",
            "474:\tlearn: 0.3483189\ttotal: 624ms\tremaining: 689ms\n",
            "475:\tlearn: 0.3482277\ttotal: 625ms\tremaining: 688ms\n",
            "476:\tlearn: 0.3479389\ttotal: 626ms\tremaining: 687ms\n",
            "477:\tlearn: 0.3478231\ttotal: 628ms\tremaining: 685ms\n",
            "478:\tlearn: 0.3476447\ttotal: 629ms\tremaining: 684ms\n",
            "479:\tlearn: 0.3475208\ttotal: 630ms\tremaining: 683ms\n",
            "480:\tlearn: 0.3473529\ttotal: 632ms\tremaining: 682ms\n",
            "481:\tlearn: 0.3471468\ttotal: 633ms\tremaining: 680ms\n",
            "482:\tlearn: 0.3470019\ttotal: 634ms\tremaining: 679ms\n",
            "483:\tlearn: 0.3468300\ttotal: 636ms\tremaining: 678ms\n",
            "484:\tlearn: 0.3467384\ttotal: 637ms\tremaining: 677ms\n",
            "485:\tlearn: 0.3464780\ttotal: 638ms\tremaining: 675ms\n",
            "486:\tlearn: 0.3462336\ttotal: 640ms\tremaining: 674ms\n",
            "487:\tlearn: 0.3460874\ttotal: 641ms\tremaining: 673ms\n",
            "488:\tlearn: 0.3458902\ttotal: 642ms\tremaining: 671ms\n",
            "489:\tlearn: 0.3458162\ttotal: 644ms\tremaining: 670ms\n",
            "490:\tlearn: 0.3457680\ttotal: 644ms\tremaining: 668ms\n",
            "491:\tlearn: 0.3456254\ttotal: 646ms\tremaining: 667ms\n",
            "492:\tlearn: 0.3455948\ttotal: 647ms\tremaining: 665ms\n",
            "493:\tlearn: 0.3455114\ttotal: 648ms\tremaining: 663ms\n",
            "494:\tlearn: 0.3454075\ttotal: 649ms\tremaining: 662ms\n",
            "495:\tlearn: 0.3452036\ttotal: 650ms\tremaining: 661ms\n",
            "496:\tlearn: 0.3449702\ttotal: 651ms\tremaining: 659ms\n",
            "497:\tlearn: 0.3448710\ttotal: 653ms\tremaining: 658ms\n",
            "498:\tlearn: 0.3447696\ttotal: 654ms\tremaining: 657ms\n",
            "499:\tlearn: 0.3445498\ttotal: 655ms\tremaining: 655ms\n",
            "500:\tlearn: 0.3442831\ttotal: 657ms\tremaining: 654ms\n",
            "501:\tlearn: 0.3441892\ttotal: 658ms\tremaining: 653ms\n",
            "502:\tlearn: 0.3440003\ttotal: 659ms\tremaining: 651ms\n",
            "503:\tlearn: 0.3439336\ttotal: 661ms\tremaining: 650ms\n",
            "504:\tlearn: 0.3437288\ttotal: 662ms\tremaining: 649ms\n",
            "505:\tlearn: 0.3437121\ttotal: 663ms\tremaining: 647ms\n",
            "506:\tlearn: 0.3433743\ttotal: 664ms\tremaining: 646ms\n",
            "507:\tlearn: 0.3432936\ttotal: 665ms\tremaining: 644ms\n",
            "508:\tlearn: 0.3432234\ttotal: 666ms\tremaining: 643ms\n",
            "509:\tlearn: 0.3430811\ttotal: 667ms\tremaining: 641ms\n",
            "510:\tlearn: 0.3428855\ttotal: 669ms\tremaining: 640ms\n",
            "511:\tlearn: 0.3428078\ttotal: 670ms\tremaining: 639ms\n",
            "512:\tlearn: 0.3426265\ttotal: 671ms\tremaining: 637ms\n",
            "513:\tlearn: 0.3424006\ttotal: 673ms\tremaining: 636ms\n",
            "514:\tlearn: 0.3421923\ttotal: 674ms\tremaining: 635ms\n",
            "515:\tlearn: 0.3420724\ttotal: 675ms\tremaining: 633ms\n",
            "516:\tlearn: 0.3419955\ttotal: 676ms\tremaining: 632ms\n",
            "517:\tlearn: 0.3418515\ttotal: 678ms\tremaining: 631ms\n",
            "518:\tlearn: 0.3416756\ttotal: 679ms\tremaining: 629ms\n",
            "519:\tlearn: 0.3415042\ttotal: 680ms\tremaining: 628ms\n",
            "520:\tlearn: 0.3414763\ttotal: 681ms\tremaining: 626ms\n",
            "521:\tlearn: 0.3413886\ttotal: 682ms\tremaining: 625ms\n",
            "522:\tlearn: 0.3412850\ttotal: 684ms\tremaining: 624ms\n",
            "523:\tlearn: 0.3411515\ttotal: 685ms\tremaining: 622ms\n",
            "524:\tlearn: 0.3410270\ttotal: 686ms\tremaining: 621ms\n",
            "525:\tlearn: 0.3409589\ttotal: 688ms\tremaining: 620ms\n",
            "526:\tlearn: 0.3408589\ttotal: 689ms\tremaining: 618ms\n",
            "527:\tlearn: 0.3407415\ttotal: 690ms\tremaining: 617ms\n",
            "528:\tlearn: 0.3406050\ttotal: 691ms\tremaining: 615ms\n",
            "529:\tlearn: 0.3405687\ttotal: 692ms\tremaining: 614ms\n",
            "530:\tlearn: 0.3403424\ttotal: 694ms\tremaining: 613ms\n",
            "531:\tlearn: 0.3402011\ttotal: 695ms\tremaining: 611ms\n",
            "532:\tlearn: 0.3400213\ttotal: 696ms\tremaining: 610ms\n",
            "533:\tlearn: 0.3399537\ttotal: 697ms\tremaining: 609ms\n",
            "534:\tlearn: 0.3398148\ttotal: 699ms\tremaining: 607ms\n",
            "535:\tlearn: 0.3396095\ttotal: 700ms\tremaining: 606ms\n",
            "536:\tlearn: 0.3394009\ttotal: 701ms\tremaining: 605ms\n",
            "537:\tlearn: 0.3392863\ttotal: 703ms\tremaining: 603ms\n",
            "538:\tlearn: 0.3390543\ttotal: 704ms\tremaining: 602ms\n",
            "539:\tlearn: 0.3388439\ttotal: 705ms\tremaining: 601ms\n",
            "540:\tlearn: 0.3387210\ttotal: 706ms\tremaining: 599ms\n",
            "541:\tlearn: 0.3386329\ttotal: 707ms\tremaining: 598ms\n",
            "542:\tlearn: 0.3384515\ttotal: 708ms\tremaining: 596ms\n",
            "543:\tlearn: 0.3384328\ttotal: 709ms\tremaining: 595ms\n",
            "544:\tlearn: 0.3383525\ttotal: 711ms\tremaining: 593ms\n",
            "545:\tlearn: 0.3382922\ttotal: 712ms\tremaining: 592ms\n",
            "546:\tlearn: 0.3381413\ttotal: 713ms\tremaining: 591ms\n",
            "547:\tlearn: 0.3381020\ttotal: 714ms\tremaining: 589ms\n",
            "548:\tlearn: 0.3378947\ttotal: 716ms\tremaining: 588ms\n",
            "549:\tlearn: 0.3377864\ttotal: 717ms\tremaining: 587ms\n",
            "550:\tlearn: 0.3376663\ttotal: 718ms\tremaining: 585ms\n",
            "551:\tlearn: 0.3375917\ttotal: 720ms\tremaining: 584ms\n",
            "552:\tlearn: 0.3373112\ttotal: 721ms\tremaining: 583ms\n",
            "553:\tlearn: 0.3371372\ttotal: 722ms\tremaining: 581ms\n",
            "554:\tlearn: 0.3369991\ttotal: 723ms\tremaining: 580ms\n",
            "555:\tlearn: 0.3368387\ttotal: 724ms\tremaining: 578ms\n",
            "556:\tlearn: 0.3368268\ttotal: 725ms\tremaining: 577ms\n",
            "557:\tlearn: 0.3367433\ttotal: 727ms\tremaining: 576ms\n",
            "558:\tlearn: 0.3365861\ttotal: 728ms\tremaining: 574ms\n",
            "559:\tlearn: 0.3363482\ttotal: 729ms\tremaining: 573ms\n",
            "560:\tlearn: 0.3361290\ttotal: 730ms\tremaining: 572ms\n",
            "561:\tlearn: 0.3360451\ttotal: 732ms\tremaining: 570ms\n",
            "562:\tlearn: 0.3358414\ttotal: 733ms\tremaining: 569ms\n",
            "563:\tlearn: 0.3356783\ttotal: 734ms\tremaining: 567ms\n",
            "564:\tlearn: 0.3355472\ttotal: 736ms\tremaining: 567ms\n",
            "565:\tlearn: 0.3354497\ttotal: 737ms\tremaining: 565ms\n",
            "566:\tlearn: 0.3354493\ttotal: 739ms\tremaining: 564ms\n",
            "567:\tlearn: 0.3353238\ttotal: 740ms\tremaining: 563ms\n",
            "568:\tlearn: 0.3351272\ttotal: 742ms\tremaining: 562ms\n",
            "569:\tlearn: 0.3350494\ttotal: 744ms\tremaining: 561ms\n",
            "570:\tlearn: 0.3349527\ttotal: 746ms\tremaining: 560ms\n",
            "571:\tlearn: 0.3349434\ttotal: 746ms\tremaining: 558ms\n",
            "572:\tlearn: 0.3347604\ttotal: 748ms\tremaining: 557ms\n",
            "573:\tlearn: 0.3346732\ttotal: 749ms\tremaining: 556ms\n",
            "574:\tlearn: 0.3345445\ttotal: 750ms\tremaining: 554ms\n",
            "575:\tlearn: 0.3344310\ttotal: 751ms\tremaining: 553ms\n",
            "576:\tlearn: 0.3342153\ttotal: 753ms\tremaining: 552ms\n",
            "577:\tlearn: 0.3342044\ttotal: 753ms\tremaining: 550ms\n",
            "578:\tlearn: 0.3341713\ttotal: 754ms\tremaining: 549ms\n",
            "579:\tlearn: 0.3341374\ttotal: 755ms\tremaining: 547ms\n",
            "580:\tlearn: 0.3339751\ttotal: 757ms\tremaining: 546ms\n",
            "581:\tlearn: 0.3339273\ttotal: 758ms\tremaining: 544ms\n",
            "582:\tlearn: 0.3337455\ttotal: 759ms\tremaining: 543ms\n",
            "583:\tlearn: 0.3336037\ttotal: 760ms\tremaining: 541ms\n",
            "584:\tlearn: 0.3334295\ttotal: 761ms\tremaining: 540ms\n",
            "585:\tlearn: 0.3332391\ttotal: 763ms\tremaining: 539ms\n",
            "586:\tlearn: 0.3331143\ttotal: 764ms\tremaining: 537ms\n",
            "587:\tlearn: 0.3329587\ttotal: 765ms\tremaining: 536ms\n",
            "588:\tlearn: 0.3328787\ttotal: 766ms\tremaining: 535ms\n",
            "589:\tlearn: 0.3325926\ttotal: 768ms\tremaining: 534ms\n",
            "590:\tlearn: 0.3324911\ttotal: 769ms\tremaining: 532ms\n",
            "591:\tlearn: 0.3323749\ttotal: 770ms\tremaining: 531ms\n",
            "592:\tlearn: 0.3322070\ttotal: 772ms\tremaining: 530ms\n",
            "593:\tlearn: 0.3321357\ttotal: 773ms\tremaining: 528ms\n",
            "594:\tlearn: 0.3320257\ttotal: 774ms\tremaining: 527ms\n",
            "595:\tlearn: 0.3319381\ttotal: 775ms\tremaining: 525ms\n",
            "596:\tlearn: 0.3317500\ttotal: 776ms\tremaining: 524ms\n",
            "597:\tlearn: 0.3316945\ttotal: 778ms\tremaining: 523ms\n",
            "598:\tlearn: 0.3315892\ttotal: 779ms\tremaining: 521ms\n",
            "599:\tlearn: 0.3315053\ttotal: 780ms\tremaining: 520ms\n",
            "600:\tlearn: 0.3313223\ttotal: 781ms\tremaining: 519ms\n",
            "601:\tlearn: 0.3312795\ttotal: 782ms\tremaining: 517ms\n",
            "602:\tlearn: 0.3311599\ttotal: 784ms\tremaining: 516ms\n",
            "603:\tlearn: 0.3310541\ttotal: 785ms\tremaining: 515ms\n",
            "604:\tlearn: 0.3308520\ttotal: 786ms\tremaining: 513ms\n",
            "605:\tlearn: 0.3307573\ttotal: 787ms\tremaining: 512ms\n",
            "606:\tlearn: 0.3306357\ttotal: 788ms\tremaining: 510ms\n",
            "607:\tlearn: 0.3305238\ttotal: 790ms\tremaining: 509ms\n",
            "608:\tlearn: 0.3303959\ttotal: 791ms\tremaining: 508ms\n",
            "609:\tlearn: 0.3303617\ttotal: 792ms\tremaining: 507ms\n",
            "610:\tlearn: 0.3301520\ttotal: 794ms\tremaining: 505ms\n",
            "611:\tlearn: 0.3301210\ttotal: 795ms\tremaining: 504ms\n",
            "612:\tlearn: 0.3300762\ttotal: 796ms\tremaining: 503ms\n",
            "613:\tlearn: 0.3298874\ttotal: 798ms\tremaining: 502ms\n",
            "614:\tlearn: 0.3297669\ttotal: 799ms\tremaining: 500ms\n",
            "615:\tlearn: 0.3297298\ttotal: 800ms\tremaining: 499ms\n",
            "616:\tlearn: 0.3295855\ttotal: 802ms\tremaining: 498ms\n",
            "617:\tlearn: 0.3294706\ttotal: 803ms\tremaining: 496ms\n",
            "618:\tlearn: 0.3293583\ttotal: 804ms\tremaining: 495ms\n",
            "619:\tlearn: 0.3292241\ttotal: 806ms\tremaining: 494ms\n",
            "620:\tlearn: 0.3291391\ttotal: 807ms\tremaining: 492ms\n",
            "621:\tlearn: 0.3290668\ttotal: 808ms\tremaining: 491ms\n",
            "622:\tlearn: 0.3289780\ttotal: 809ms\tremaining: 490ms\n",
            "623:\tlearn: 0.3289622\ttotal: 810ms\tremaining: 488ms\n",
            "624:\tlearn: 0.3289155\ttotal: 811ms\tremaining: 487ms\n",
            "625:\tlearn: 0.3288432\ttotal: 812ms\tremaining: 485ms\n",
            "626:\tlearn: 0.3287733\ttotal: 813ms\tremaining: 484ms\n",
            "627:\tlearn: 0.3286089\ttotal: 815ms\tremaining: 483ms\n",
            "628:\tlearn: 0.3283490\ttotal: 816ms\tremaining: 481ms\n",
            "629:\tlearn: 0.3283135\ttotal: 817ms\tremaining: 480ms\n",
            "630:\tlearn: 0.3282739\ttotal: 819ms\tremaining: 479ms\n",
            "631:\tlearn: 0.3281526\ttotal: 820ms\tremaining: 477ms\n",
            "632:\tlearn: 0.3280795\ttotal: 821ms\tremaining: 476ms\n",
            "633:\tlearn: 0.3279554\ttotal: 822ms\tremaining: 475ms\n",
            "634:\tlearn: 0.3278331\ttotal: 823ms\tremaining: 473ms\n",
            "635:\tlearn: 0.3275877\ttotal: 825ms\tremaining: 472ms\n",
            "636:\tlearn: 0.3274751\ttotal: 826ms\tremaining: 471ms\n",
            "637:\tlearn: 0.3274506\ttotal: 827ms\tremaining: 469ms\n",
            "638:\tlearn: 0.3273314\ttotal: 828ms\tremaining: 468ms\n",
            "639:\tlearn: 0.3270254\ttotal: 830ms\tremaining: 467ms\n",
            "640:\tlearn: 0.3269336\ttotal: 831ms\tremaining: 465ms\n",
            "641:\tlearn: 0.3268530\ttotal: 832ms\tremaining: 464ms\n",
            "642:\tlearn: 0.3267375\ttotal: 833ms\tremaining: 463ms\n",
            "643:\tlearn: 0.3266522\ttotal: 835ms\tremaining: 461ms\n",
            "644:\tlearn: 0.3265928\ttotal: 836ms\tremaining: 460ms\n",
            "645:\tlearn: 0.3265744\ttotal: 837ms\tremaining: 458ms\n",
            "646:\tlearn: 0.3265297\ttotal: 838ms\tremaining: 457ms\n",
            "647:\tlearn: 0.3263391\ttotal: 839ms\tremaining: 456ms\n",
            "648:\tlearn: 0.3262334\ttotal: 840ms\tremaining: 454ms\n",
            "649:\tlearn: 0.3261307\ttotal: 841ms\tremaining: 453ms\n",
            "650:\tlearn: 0.3260040\ttotal: 843ms\tremaining: 452ms\n",
            "651:\tlearn: 0.3259229\ttotal: 844ms\tremaining: 450ms\n",
            "652:\tlearn: 0.3258280\ttotal: 845ms\tremaining: 449ms\n",
            "653:\tlearn: 0.3256553\ttotal: 846ms\tremaining: 448ms\n",
            "654:\tlearn: 0.3254958\ttotal: 848ms\tremaining: 446ms\n",
            "655:\tlearn: 0.3253195\ttotal: 849ms\tremaining: 445ms\n",
            "656:\tlearn: 0.3251829\ttotal: 850ms\tremaining: 444ms\n",
            "657:\tlearn: 0.3250572\ttotal: 852ms\tremaining: 443ms\n",
            "658:\tlearn: 0.3248731\ttotal: 853ms\tremaining: 441ms\n",
            "659:\tlearn: 0.3248166\ttotal: 854ms\tremaining: 440ms\n",
            "660:\tlearn: 0.3247069\ttotal: 855ms\tremaining: 439ms\n",
            "661:\tlearn: 0.3246514\ttotal: 856ms\tremaining: 437ms\n",
            "662:\tlearn: 0.3245361\ttotal: 858ms\tremaining: 436ms\n",
            "663:\tlearn: 0.3244085\ttotal: 859ms\tremaining: 435ms\n",
            "664:\tlearn: 0.3242549\ttotal: 860ms\tremaining: 433ms\n",
            "665:\tlearn: 0.3241450\ttotal: 861ms\tremaining: 432ms\n",
            "666:\tlearn: 0.3239798\ttotal: 862ms\tremaining: 431ms\n",
            "667:\tlearn: 0.3238958\ttotal: 864ms\tremaining: 429ms\n",
            "668:\tlearn: 0.3236985\ttotal: 865ms\tremaining: 428ms\n",
            "669:\tlearn: 0.3234662\ttotal: 866ms\tremaining: 427ms\n",
            "670:\tlearn: 0.3233852\ttotal: 867ms\tremaining: 425ms\n",
            "671:\tlearn: 0.3232523\ttotal: 869ms\tremaining: 424ms\n",
            "672:\tlearn: 0.3232005\ttotal: 870ms\tremaining: 423ms\n",
            "673:\tlearn: 0.3231603\ttotal: 871ms\tremaining: 421ms\n",
            "674:\tlearn: 0.3231149\ttotal: 872ms\tremaining: 420ms\n",
            "675:\tlearn: 0.3230371\ttotal: 873ms\tremaining: 419ms\n",
            "676:\tlearn: 0.3229779\ttotal: 875ms\tremaining: 417ms\n",
            "677:\tlearn: 0.3226774\ttotal: 876ms\tremaining: 416ms\n",
            "678:\tlearn: 0.3225616\ttotal: 877ms\tremaining: 415ms\n",
            "679:\tlearn: 0.3223161\ttotal: 878ms\tremaining: 413ms\n",
            "680:\tlearn: 0.3221477\ttotal: 880ms\tremaining: 412ms\n",
            "681:\tlearn: 0.3220490\ttotal: 880ms\tremaining: 411ms\n",
            "682:\tlearn: 0.3219620\ttotal: 882ms\tremaining: 409ms\n",
            "683:\tlearn: 0.3218537\ttotal: 883ms\tremaining: 408ms\n",
            "684:\tlearn: 0.3217674\ttotal: 884ms\tremaining: 407ms\n",
            "685:\tlearn: 0.3214609\ttotal: 885ms\tremaining: 405ms\n",
            "686:\tlearn: 0.3213362\ttotal: 887ms\tremaining: 404ms\n",
            "687:\tlearn: 0.3211425\ttotal: 888ms\tremaining: 403ms\n",
            "688:\tlearn: 0.3210225\ttotal: 889ms\tremaining: 401ms\n",
            "689:\tlearn: 0.3209319\ttotal: 890ms\tremaining: 400ms\n",
            "690:\tlearn: 0.3208623\ttotal: 891ms\tremaining: 399ms\n",
            "691:\tlearn: 0.3208504\ttotal: 892ms\tremaining: 397ms\n",
            "692:\tlearn: 0.3206874\ttotal: 893ms\tremaining: 396ms\n",
            "693:\tlearn: 0.3204323\ttotal: 895ms\tremaining: 395ms\n",
            "694:\tlearn: 0.3204183\ttotal: 896ms\tremaining: 393ms\n",
            "695:\tlearn: 0.3202150\ttotal: 897ms\tremaining: 392ms\n",
            "696:\tlearn: 0.3200774\ttotal: 899ms\tremaining: 391ms\n",
            "697:\tlearn: 0.3199859\ttotal: 900ms\tremaining: 389ms\n",
            "698:\tlearn: 0.3198860\ttotal: 901ms\tremaining: 388ms\n",
            "699:\tlearn: 0.3198000\ttotal: 902ms\tremaining: 387ms\n",
            "700:\tlearn: 0.3197309\ttotal: 904ms\tremaining: 385ms\n",
            "701:\tlearn: 0.3197001\ttotal: 905ms\tremaining: 384ms\n",
            "702:\tlearn: 0.3196919\ttotal: 906ms\tremaining: 383ms\n",
            "703:\tlearn: 0.3195863\ttotal: 908ms\tremaining: 382ms\n",
            "704:\tlearn: 0.3194967\ttotal: 909ms\tremaining: 380ms\n",
            "705:\tlearn: 0.3194748\ttotal: 910ms\tremaining: 379ms\n",
            "706:\tlearn: 0.3193656\ttotal: 912ms\tremaining: 378ms\n",
            "707:\tlearn: 0.3192924\ttotal: 913ms\tremaining: 377ms\n",
            "708:\tlearn: 0.3191727\ttotal: 914ms\tremaining: 375ms\n",
            "709:\tlearn: 0.3188911\ttotal: 915ms\tremaining: 374ms\n",
            "710:\tlearn: 0.3188224\ttotal: 918ms\tremaining: 373ms\n",
            "711:\tlearn: 0.3187223\ttotal: 919ms\tremaining: 372ms\n",
            "712:\tlearn: 0.3186508\ttotal: 921ms\tremaining: 371ms\n",
            "713:\tlearn: 0.3185656\ttotal: 923ms\tremaining: 370ms\n",
            "714:\tlearn: 0.3184420\ttotal: 925ms\tremaining: 369ms\n",
            "715:\tlearn: 0.3182644\ttotal: 926ms\tremaining: 367ms\n",
            "716:\tlearn: 0.3182019\ttotal: 928ms\tremaining: 366ms\n",
            "717:\tlearn: 0.3180611\ttotal: 929ms\tremaining: 365ms\n",
            "718:\tlearn: 0.3180330\ttotal: 930ms\tremaining: 364ms\n",
            "719:\tlearn: 0.3179624\ttotal: 931ms\tremaining: 362ms\n",
            "720:\tlearn: 0.3179186\ttotal: 933ms\tremaining: 361ms\n",
            "721:\tlearn: 0.3178041\ttotal: 934ms\tremaining: 360ms\n",
            "722:\tlearn: 0.3177160\ttotal: 935ms\tremaining: 358ms\n",
            "723:\tlearn: 0.3177100\ttotal: 936ms\tremaining: 357ms\n",
            "724:\tlearn: 0.3176139\ttotal: 937ms\tremaining: 355ms\n",
            "725:\tlearn: 0.3175726\ttotal: 938ms\tremaining: 354ms\n",
            "726:\tlearn: 0.3173870\ttotal: 940ms\tremaining: 353ms\n",
            "727:\tlearn: 0.3173318\ttotal: 941ms\tremaining: 351ms\n",
            "728:\tlearn: 0.3171527\ttotal: 942ms\tremaining: 350ms\n",
            "729:\tlearn: 0.3170548\ttotal: 943ms\tremaining: 349ms\n",
            "730:\tlearn: 0.3169501\ttotal: 944ms\tremaining: 348ms\n",
            "731:\tlearn: 0.3169305\ttotal: 945ms\tremaining: 346ms\n",
            "732:\tlearn: 0.3168860\ttotal: 946ms\tremaining: 345ms\n",
            "733:\tlearn: 0.3168058\ttotal: 948ms\tremaining: 343ms\n",
            "734:\tlearn: 0.3165922\ttotal: 949ms\tremaining: 342ms\n",
            "735:\tlearn: 0.3164220\ttotal: 950ms\tremaining: 341ms\n",
            "736:\tlearn: 0.3163738\ttotal: 952ms\tremaining: 340ms\n",
            "737:\tlearn: 0.3163169\ttotal: 953ms\tremaining: 338ms\n",
            "738:\tlearn: 0.3161699\ttotal: 954ms\tremaining: 337ms\n",
            "739:\tlearn: 0.3159563\ttotal: 955ms\tremaining: 336ms\n",
            "740:\tlearn: 0.3158765\ttotal: 957ms\tremaining: 334ms\n",
            "741:\tlearn: 0.3156972\ttotal: 958ms\tremaining: 333ms\n",
            "742:\tlearn: 0.3156325\ttotal: 959ms\tremaining: 332ms\n",
            "743:\tlearn: 0.3156311\ttotal: 960ms\tremaining: 330ms\n",
            "744:\tlearn: 0.3155001\ttotal: 961ms\tremaining: 329ms\n",
            "745:\tlearn: 0.3154643\ttotal: 962ms\tremaining: 328ms\n",
            "746:\tlearn: 0.3154207\ttotal: 963ms\tremaining: 326ms\n",
            "747:\tlearn: 0.3152388\ttotal: 965ms\tremaining: 325ms\n",
            "748:\tlearn: 0.3152131\ttotal: 965ms\tremaining: 324ms\n",
            "749:\tlearn: 0.3151057\ttotal: 967ms\tremaining: 322ms\n",
            "750:\tlearn: 0.3150024\ttotal: 968ms\tremaining: 321ms\n",
            "751:\tlearn: 0.3149215\ttotal: 969ms\tremaining: 320ms\n",
            "752:\tlearn: 0.3148229\ttotal: 970ms\tremaining: 318ms\n",
            "753:\tlearn: 0.3147094\ttotal: 972ms\tremaining: 317ms\n",
            "754:\tlearn: 0.3146683\ttotal: 973ms\tremaining: 316ms\n",
            "755:\tlearn: 0.3146148\ttotal: 974ms\tremaining: 314ms\n",
            "756:\tlearn: 0.3144695\ttotal: 975ms\tremaining: 313ms\n",
            "757:\tlearn: 0.3144010\ttotal: 977ms\tremaining: 312ms\n",
            "758:\tlearn: 0.3142781\ttotal: 978ms\tremaining: 311ms\n",
            "759:\tlearn: 0.3140401\ttotal: 979ms\tremaining: 309ms\n",
            "760:\tlearn: 0.3140001\ttotal: 980ms\tremaining: 308ms\n",
            "761:\tlearn: 0.3138810\ttotal: 982ms\tremaining: 307ms\n",
            "762:\tlearn: 0.3137139\ttotal: 983ms\tremaining: 305ms\n",
            "763:\tlearn: 0.3136287\ttotal: 984ms\tremaining: 304ms\n",
            "764:\tlearn: 0.3133988\ttotal: 986ms\tremaining: 303ms\n",
            "765:\tlearn: 0.3132950\ttotal: 987ms\tremaining: 302ms\n",
            "766:\tlearn: 0.3132063\ttotal: 988ms\tremaining: 300ms\n",
            "767:\tlearn: 0.3130928\ttotal: 990ms\tremaining: 299ms\n",
            "768:\tlearn: 0.3129781\ttotal: 991ms\tremaining: 298ms\n",
            "769:\tlearn: 0.3127080\ttotal: 992ms\tremaining: 296ms\n",
            "770:\tlearn: 0.3125974\ttotal: 994ms\tremaining: 295ms\n",
            "771:\tlearn: 0.3124956\ttotal: 995ms\tremaining: 294ms\n",
            "772:\tlearn: 0.3123886\ttotal: 996ms\tremaining: 292ms\n",
            "773:\tlearn: 0.3122541\ttotal: 997ms\tremaining: 291ms\n",
            "774:\tlearn: 0.3121596\ttotal: 999ms\tremaining: 290ms\n",
            "775:\tlearn: 0.3120887\ttotal: 1000ms\tremaining: 289ms\n",
            "776:\tlearn: 0.3120244\ttotal: 1s\tremaining: 287ms\n",
            "777:\tlearn: 0.3116484\ttotal: 1s\tremaining: 286ms\n",
            "778:\tlearn: 0.3114878\ttotal: 1s\tremaining: 285ms\n",
            "779:\tlearn: 0.3113691\ttotal: 1s\tremaining: 283ms\n",
            "780:\tlearn: 0.3111093\ttotal: 1.01s\tremaining: 282ms\n",
            "781:\tlearn: 0.3111043\ttotal: 1.01s\tremaining: 281ms\n",
            "782:\tlearn: 0.3109827\ttotal: 1.01s\tremaining: 279ms\n",
            "783:\tlearn: 0.3107998\ttotal: 1.01s\tremaining: 278ms\n",
            "784:\tlearn: 0.3107852\ttotal: 1.01s\tremaining: 277ms\n",
            "785:\tlearn: 0.3107394\ttotal: 1.01s\tremaining: 275ms\n",
            "786:\tlearn: 0.3105052\ttotal: 1.01s\tremaining: 274ms\n",
            "787:\tlearn: 0.3104111\ttotal: 1.01s\tremaining: 273ms\n",
            "788:\tlearn: 0.3103322\ttotal: 1.01s\tremaining: 272ms\n",
            "789:\tlearn: 0.3101113\ttotal: 1.02s\tremaining: 270ms\n",
            "790:\tlearn: 0.3100471\ttotal: 1.02s\tremaining: 269ms\n",
            "791:\tlearn: 0.3098571\ttotal: 1.02s\tremaining: 268ms\n",
            "792:\tlearn: 0.3097610\ttotal: 1.02s\tremaining: 267ms\n",
            "793:\tlearn: 0.3095511\ttotal: 1.02s\tremaining: 265ms\n",
            "794:\tlearn: 0.3094341\ttotal: 1.02s\tremaining: 264ms\n",
            "795:\tlearn: 0.3093294\ttotal: 1.02s\tremaining: 263ms\n",
            "796:\tlearn: 0.3092336\ttotal: 1.03s\tremaining: 262ms\n",
            "797:\tlearn: 0.3091392\ttotal: 1.03s\tremaining: 260ms\n",
            "798:\tlearn: 0.3091346\ttotal: 1.03s\tremaining: 259ms\n",
            "799:\tlearn: 0.3090277\ttotal: 1.03s\tremaining: 258ms\n",
            "800:\tlearn: 0.3088073\ttotal: 1.03s\tremaining: 256ms\n",
            "801:\tlearn: 0.3087825\ttotal: 1.03s\tremaining: 255ms\n",
            "802:\tlearn: 0.3086970\ttotal: 1.03s\tremaining: 254ms\n",
            "803:\tlearn: 0.3086140\ttotal: 1.03s\tremaining: 252ms\n",
            "804:\tlearn: 0.3085577\ttotal: 1.04s\tremaining: 251ms\n",
            "805:\tlearn: 0.3084587\ttotal: 1.04s\tremaining: 250ms\n",
            "806:\tlearn: 0.3083948\ttotal: 1.04s\tremaining: 249ms\n",
            "807:\tlearn: 0.3082985\ttotal: 1.04s\tremaining: 247ms\n",
            "808:\tlearn: 0.3081416\ttotal: 1.04s\tremaining: 246ms\n",
            "809:\tlearn: 0.3079285\ttotal: 1.04s\tremaining: 245ms\n",
            "810:\tlearn: 0.3078369\ttotal: 1.04s\tremaining: 243ms\n",
            "811:\tlearn: 0.3077375\ttotal: 1.04s\tremaining: 242ms\n",
            "812:\tlearn: 0.3076901\ttotal: 1.05s\tremaining: 241ms\n",
            "813:\tlearn: 0.3074913\ttotal: 1.05s\tremaining: 239ms\n",
            "814:\tlearn: 0.3072958\ttotal: 1.05s\tremaining: 238ms\n",
            "815:\tlearn: 0.3069007\ttotal: 1.05s\tremaining: 237ms\n",
            "816:\tlearn: 0.3067785\ttotal: 1.05s\tremaining: 236ms\n",
            "817:\tlearn: 0.3066573\ttotal: 1.05s\tremaining: 234ms\n",
            "818:\tlearn: 0.3065778\ttotal: 1.05s\tremaining: 233ms\n",
            "819:\tlearn: 0.3064532\ttotal: 1.05s\tremaining: 232ms\n",
            "820:\tlearn: 0.3062235\ttotal: 1.06s\tremaining: 230ms\n",
            "821:\tlearn: 0.3061392\ttotal: 1.06s\tremaining: 229ms\n",
            "822:\tlearn: 0.3058939\ttotal: 1.06s\tremaining: 228ms\n",
            "823:\tlearn: 0.3058447\ttotal: 1.06s\tremaining: 226ms\n",
            "824:\tlearn: 0.3057855\ttotal: 1.06s\tremaining: 225ms\n",
            "825:\tlearn: 0.3056772\ttotal: 1.06s\tremaining: 224ms\n",
            "826:\tlearn: 0.3054522\ttotal: 1.06s\tremaining: 223ms\n",
            "827:\tlearn: 0.3053158\ttotal: 1.06s\tremaining: 221ms\n",
            "828:\tlearn: 0.3052185\ttotal: 1.07s\tremaining: 220ms\n",
            "829:\tlearn: 0.3050844\ttotal: 1.07s\tremaining: 219ms\n",
            "830:\tlearn: 0.3049580\ttotal: 1.07s\tremaining: 217ms\n",
            "831:\tlearn: 0.3048922\ttotal: 1.07s\tremaining: 216ms\n",
            "832:\tlearn: 0.3047644\ttotal: 1.07s\tremaining: 215ms\n",
            "833:\tlearn: 0.3047374\ttotal: 1.07s\tremaining: 214ms\n",
            "834:\tlearn: 0.3046616\ttotal: 1.07s\tremaining: 212ms\n",
            "835:\tlearn: 0.3045027\ttotal: 1.07s\tremaining: 211ms\n",
            "836:\tlearn: 0.3043984\ttotal: 1.08s\tremaining: 210ms\n",
            "837:\tlearn: 0.3043036\ttotal: 1.08s\tremaining: 208ms\n",
            "838:\tlearn: 0.3042210\ttotal: 1.08s\tremaining: 207ms\n",
            "839:\tlearn: 0.3040857\ttotal: 1.08s\tremaining: 206ms\n",
            "840:\tlearn: 0.3040207\ttotal: 1.08s\tremaining: 205ms\n",
            "841:\tlearn: 0.3039071\ttotal: 1.08s\tremaining: 203ms\n",
            "842:\tlearn: 0.3038288\ttotal: 1.08s\tremaining: 202ms\n",
            "843:\tlearn: 0.3037573\ttotal: 1.08s\tremaining: 201ms\n",
            "844:\tlearn: 0.3036950\ttotal: 1.09s\tremaining: 199ms\n",
            "845:\tlearn: 0.3034099\ttotal: 1.09s\tremaining: 198ms\n",
            "846:\tlearn: 0.3032758\ttotal: 1.09s\tremaining: 197ms\n",
            "847:\tlearn: 0.3031111\ttotal: 1.09s\tremaining: 195ms\n",
            "848:\tlearn: 0.3030060\ttotal: 1.09s\tremaining: 194ms\n",
            "849:\tlearn: 0.3029407\ttotal: 1.09s\tremaining: 193ms\n",
            "850:\tlearn: 0.3029032\ttotal: 1.09s\tremaining: 192ms\n",
            "851:\tlearn: 0.3028035\ttotal: 1.09s\tremaining: 190ms\n",
            "852:\tlearn: 0.3027468\ttotal: 1.1s\tremaining: 189ms\n",
            "853:\tlearn: 0.3025726\ttotal: 1.1s\tremaining: 188ms\n",
            "854:\tlearn: 0.3024197\ttotal: 1.1s\tremaining: 187ms\n",
            "855:\tlearn: 0.3023471\ttotal: 1.1s\tremaining: 186ms\n",
            "856:\tlearn: 0.3022979\ttotal: 1.1s\tremaining: 184ms\n",
            "857:\tlearn: 0.3021116\ttotal: 1.11s\tremaining: 183ms\n",
            "858:\tlearn: 0.3020115\ttotal: 1.11s\tremaining: 182ms\n",
            "859:\tlearn: 0.3018706\ttotal: 1.11s\tremaining: 181ms\n",
            "860:\tlearn: 0.3017906\ttotal: 1.11s\tremaining: 180ms\n",
            "861:\tlearn: 0.3017208\ttotal: 1.11s\tremaining: 178ms\n",
            "862:\tlearn: 0.3016020\ttotal: 1.11s\tremaining: 177ms\n",
            "863:\tlearn: 0.3015429\ttotal: 1.12s\tremaining: 176ms\n",
            "864:\tlearn: 0.3015148\ttotal: 1.12s\tremaining: 174ms\n",
            "865:\tlearn: 0.3014567\ttotal: 1.12s\tremaining: 173ms\n",
            "866:\tlearn: 0.3013510\ttotal: 1.12s\tremaining: 172ms\n",
            "867:\tlearn: 0.3013008\ttotal: 1.12s\tremaining: 171ms\n",
            "868:\tlearn: 0.3011291\ttotal: 1.12s\tremaining: 169ms\n",
            "869:\tlearn: 0.3010876\ttotal: 1.12s\tremaining: 168ms\n",
            "870:\tlearn: 0.3010062\ttotal: 1.13s\tremaining: 167ms\n",
            "871:\tlearn: 0.3008800\ttotal: 1.13s\tremaining: 165ms\n",
            "872:\tlearn: 0.3007051\ttotal: 1.13s\tremaining: 164ms\n",
            "873:\tlearn: 0.3006551\ttotal: 1.13s\tremaining: 163ms\n",
            "874:\tlearn: 0.3004934\ttotal: 1.13s\tremaining: 161ms\n",
            "875:\tlearn: 0.3004499\ttotal: 1.13s\tremaining: 160ms\n",
            "876:\tlearn: 0.3004300\ttotal: 1.13s\tremaining: 159ms\n",
            "877:\tlearn: 0.3004008\ttotal: 1.13s\tremaining: 158ms\n",
            "878:\tlearn: 0.3002236\ttotal: 1.14s\tremaining: 156ms\n",
            "879:\tlearn: 0.2999995\ttotal: 1.14s\tremaining: 155ms\n",
            "880:\tlearn: 0.2998780\ttotal: 1.14s\tremaining: 154ms\n",
            "881:\tlearn: 0.2998345\ttotal: 1.14s\tremaining: 152ms\n",
            "882:\tlearn: 0.2997439\ttotal: 1.14s\tremaining: 151ms\n",
            "883:\tlearn: 0.2996791\ttotal: 1.14s\tremaining: 150ms\n",
            "884:\tlearn: 0.2993764\ttotal: 1.14s\tremaining: 148ms\n",
            "885:\tlearn: 0.2993030\ttotal: 1.14s\tremaining: 147ms\n",
            "886:\tlearn: 0.2992446\ttotal: 1.14s\tremaining: 146ms\n",
            "887:\tlearn: 0.2990500\ttotal: 1.15s\tremaining: 145ms\n",
            "888:\tlearn: 0.2988158\ttotal: 1.15s\tremaining: 143ms\n",
            "889:\tlearn: 0.2987182\ttotal: 1.15s\tremaining: 142ms\n",
            "890:\tlearn: 0.2985987\ttotal: 1.15s\tremaining: 141ms\n",
            "891:\tlearn: 0.2985502\ttotal: 1.15s\tremaining: 139ms\n",
            "892:\tlearn: 0.2984730\ttotal: 1.15s\tremaining: 138ms\n",
            "893:\tlearn: 0.2983649\ttotal: 1.15s\tremaining: 137ms\n",
            "894:\tlearn: 0.2981313\ttotal: 1.15s\tremaining: 135ms\n",
            "895:\tlearn: 0.2980838\ttotal: 1.16s\tremaining: 134ms\n",
            "896:\tlearn: 0.2978734\ttotal: 1.16s\tremaining: 133ms\n",
            "897:\tlearn: 0.2977919\ttotal: 1.16s\tremaining: 132ms\n",
            "898:\tlearn: 0.2976272\ttotal: 1.16s\tremaining: 131ms\n",
            "899:\tlearn: 0.2973458\ttotal: 1.16s\tremaining: 129ms\n",
            "900:\tlearn: 0.2972478\ttotal: 1.17s\tremaining: 128ms\n",
            "901:\tlearn: 0.2971112\ttotal: 1.17s\tremaining: 127ms\n",
            "902:\tlearn: 0.2970430\ttotal: 1.17s\tremaining: 126ms\n",
            "903:\tlearn: 0.2969712\ttotal: 1.17s\tremaining: 124ms\n",
            "904:\tlearn: 0.2967533\ttotal: 1.17s\tremaining: 123ms\n",
            "905:\tlearn: 0.2967193\ttotal: 1.17s\tremaining: 122ms\n",
            "906:\tlearn: 0.2966027\ttotal: 1.17s\tremaining: 120ms\n",
            "907:\tlearn: 0.2965395\ttotal: 1.17s\tremaining: 119ms\n",
            "908:\tlearn: 0.2962290\ttotal: 1.18s\tremaining: 118ms\n",
            "909:\tlearn: 0.2960266\ttotal: 1.18s\tremaining: 116ms\n",
            "910:\tlearn: 0.2959277\ttotal: 1.18s\tremaining: 115ms\n",
            "911:\tlearn: 0.2957971\ttotal: 1.18s\tremaining: 114ms\n",
            "912:\tlearn: 0.2957715\ttotal: 1.18s\tremaining: 113ms\n",
            "913:\tlearn: 0.2957260\ttotal: 1.18s\tremaining: 111ms\n",
            "914:\tlearn: 0.2956774\ttotal: 1.18s\tremaining: 110ms\n",
            "915:\tlearn: 0.2956203\ttotal: 1.18s\tremaining: 109ms\n",
            "916:\tlearn: 0.2955175\ttotal: 1.19s\tremaining: 107ms\n",
            "917:\tlearn: 0.2954858\ttotal: 1.19s\tremaining: 106ms\n",
            "918:\tlearn: 0.2954246\ttotal: 1.19s\tremaining: 105ms\n",
            "919:\tlearn: 0.2952054\ttotal: 1.19s\tremaining: 103ms\n",
            "920:\tlearn: 0.2949641\ttotal: 1.19s\tremaining: 102ms\n",
            "921:\tlearn: 0.2948964\ttotal: 1.19s\tremaining: 101ms\n",
            "922:\tlearn: 0.2948462\ttotal: 1.19s\tremaining: 99.5ms\n",
            "923:\tlearn: 0.2947580\ttotal: 1.19s\tremaining: 98.2ms\n",
            "924:\tlearn: 0.2946560\ttotal: 1.2s\tremaining: 96.9ms\n",
            "925:\tlearn: 0.2945270\ttotal: 1.2s\tremaining: 95.6ms\n",
            "926:\tlearn: 0.2944626\ttotal: 1.2s\tremaining: 94.3ms\n",
            "927:\tlearn: 0.2942652\ttotal: 1.2s\tremaining: 93ms\n",
            "928:\tlearn: 0.2939946\ttotal: 1.2s\tremaining: 91.7ms\n",
            "929:\tlearn: 0.2939368\ttotal: 1.2s\tremaining: 90.4ms\n",
            "930:\tlearn: 0.2938748\ttotal: 1.2s\tremaining: 89.1ms\n",
            "931:\tlearn: 0.2938106\ttotal: 1.2s\tremaining: 87.8ms\n",
            "932:\tlearn: 0.2936988\ttotal: 1.2s\tremaining: 86.5ms\n",
            "933:\tlearn: 0.2934193\ttotal: 1.21s\tremaining: 85.2ms\n",
            "934:\tlearn: 0.2933589\ttotal: 1.21s\tremaining: 83.9ms\n",
            "935:\tlearn: 0.2932089\ttotal: 1.21s\tremaining: 82.6ms\n",
            "936:\tlearn: 0.2931121\ttotal: 1.21s\tremaining: 81.3ms\n",
            "937:\tlearn: 0.2930870\ttotal: 1.21s\tremaining: 80ms\n",
            "938:\tlearn: 0.2929194\ttotal: 1.21s\tremaining: 78.7ms\n",
            "939:\tlearn: 0.2927391\ttotal: 1.21s\tremaining: 77.4ms\n",
            "940:\tlearn: 0.2926873\ttotal: 1.21s\tremaining: 76.1ms\n",
            "941:\tlearn: 0.2926033\ttotal: 1.22s\tremaining: 74.9ms\n",
            "942:\tlearn: 0.2924817\ttotal: 1.22s\tremaining: 73.6ms\n",
            "943:\tlearn: 0.2924184\ttotal: 1.22s\tremaining: 72.3ms\n",
            "944:\tlearn: 0.2923432\ttotal: 1.22s\tremaining: 71ms\n",
            "945:\tlearn: 0.2922817\ttotal: 1.22s\tremaining: 69.7ms\n",
            "946:\tlearn: 0.2922266\ttotal: 1.22s\tremaining: 68.4ms\n",
            "947:\tlearn: 0.2920618\ttotal: 1.22s\tremaining: 67.1ms\n",
            "948:\tlearn: 0.2917727\ttotal: 1.22s\tremaining: 65.8ms\n",
            "949:\tlearn: 0.2915845\ttotal: 1.23s\tremaining: 64.5ms\n",
            "950:\tlearn: 0.2914723\ttotal: 1.23s\tremaining: 63.2ms\n",
            "951:\tlearn: 0.2913721\ttotal: 1.23s\tremaining: 61.9ms\n",
            "952:\tlearn: 0.2912922\ttotal: 1.23s\tremaining: 60.6ms\n",
            "953:\tlearn: 0.2911938\ttotal: 1.23s\tremaining: 59.3ms\n",
            "954:\tlearn: 0.2910337\ttotal: 1.23s\tremaining: 58ms\n",
            "955:\tlearn: 0.2909500\ttotal: 1.23s\tremaining: 56.7ms\n",
            "956:\tlearn: 0.2908958\ttotal: 1.23s\tremaining: 55.4ms\n",
            "957:\tlearn: 0.2907137\ttotal: 1.23s\tremaining: 54.1ms\n",
            "958:\tlearn: 0.2906187\ttotal: 1.24s\tremaining: 52.9ms\n",
            "959:\tlearn: 0.2905141\ttotal: 1.24s\tremaining: 51.6ms\n",
            "960:\tlearn: 0.2903965\ttotal: 1.24s\tremaining: 50.3ms\n",
            "961:\tlearn: 0.2902993\ttotal: 1.24s\tremaining: 49ms\n",
            "962:\tlearn: 0.2900517\ttotal: 1.24s\tremaining: 47.7ms\n",
            "963:\tlearn: 0.2900299\ttotal: 1.24s\tremaining: 46.4ms\n",
            "964:\tlearn: 0.2899057\ttotal: 1.24s\tremaining: 45.1ms\n",
            "965:\tlearn: 0.2898215\ttotal: 1.24s\tremaining: 43.8ms\n",
            "966:\tlearn: 0.2897791\ttotal: 1.25s\tremaining: 42.5ms\n",
            "967:\tlearn: 0.2896963\ttotal: 1.25s\tremaining: 41.2ms\n",
            "968:\tlearn: 0.2896309\ttotal: 1.25s\tremaining: 39.9ms\n",
            "969:\tlearn: 0.2895785\ttotal: 1.25s\tremaining: 38.6ms\n",
            "970:\tlearn: 0.2894670\ttotal: 1.25s\tremaining: 37.4ms\n",
            "971:\tlearn: 0.2892433\ttotal: 1.25s\tremaining: 36.1ms\n",
            "972:\tlearn: 0.2891504\ttotal: 1.25s\tremaining: 34.8ms\n",
            "973:\tlearn: 0.2891180\ttotal: 1.25s\tremaining: 33.5ms\n",
            "974:\tlearn: 0.2890901\ttotal: 1.25s\tremaining: 32.2ms\n",
            "975:\tlearn: 0.2888495\ttotal: 1.26s\tremaining: 30.9ms\n",
            "976:\tlearn: 0.2886889\ttotal: 1.26s\tremaining: 29.6ms\n",
            "977:\tlearn: 0.2886735\ttotal: 1.26s\tremaining: 28.3ms\n",
            "978:\tlearn: 0.2885147\ttotal: 1.26s\tremaining: 27ms\n",
            "979:\tlearn: 0.2884413\ttotal: 1.26s\tremaining: 25.8ms\n",
            "980:\tlearn: 0.2883808\ttotal: 1.26s\tremaining: 24.5ms\n",
            "981:\tlearn: 0.2881942\ttotal: 1.26s\tremaining: 23.2ms\n",
            "982:\tlearn: 0.2880815\ttotal: 1.26s\tremaining: 21.9ms\n",
            "983:\tlearn: 0.2879516\ttotal: 1.27s\tremaining: 20.6ms\n",
            "984:\tlearn: 0.2877353\ttotal: 1.27s\tremaining: 19.3ms\n",
            "985:\tlearn: 0.2876328\ttotal: 1.27s\tremaining: 18ms\n",
            "986:\tlearn: 0.2875909\ttotal: 1.27s\tremaining: 16.7ms\n",
            "987:\tlearn: 0.2875385\ttotal: 1.27s\tremaining: 15.4ms\n",
            "988:\tlearn: 0.2875160\ttotal: 1.27s\tremaining: 14.2ms\n",
            "989:\tlearn: 0.2874318\ttotal: 1.27s\tremaining: 12.9ms\n",
            "990:\tlearn: 0.2873936\ttotal: 1.27s\tremaining: 11.6ms\n",
            "991:\tlearn: 0.2873197\ttotal: 1.28s\tremaining: 10.3ms\n",
            "992:\tlearn: 0.2871879\ttotal: 1.28s\tremaining: 9ms\n",
            "993:\tlearn: 0.2870374\ttotal: 1.28s\tremaining: 7.72ms\n",
            "994:\tlearn: 0.2867893\ttotal: 1.28s\tremaining: 6.43ms\n",
            "995:\tlearn: 0.2867093\ttotal: 1.28s\tremaining: 5.14ms\n",
            "996:\tlearn: 0.2866761\ttotal: 1.28s\tremaining: 3.86ms\n",
            "997:\tlearn: 0.2866313\ttotal: 1.28s\tremaining: 2.57ms\n",
            "998:\tlearn: 0.2865165\ttotal: 1.28s\tremaining: 1.28ms\n",
            "999:\tlearn: 0.2862179\ttotal: 1.28s\tremaining: 0us\n"
          ],
          "name": "stdout"
        },
        {
          "output_type": "execute_result",
          "data": {
            "text/plain": [
              "(array([False,  True]), array([ 20, 114]))"
            ]
          },
          "metadata": {
            "tags": []
          },
          "execution_count": 58
        }
      ]
    },
    {
      "cell_type": "code",
      "metadata": {
        "id": "3yHS5LG6jnAo",
        "colab": {
          "base_uri": "https://localhost:8080/",
          "height": 34
        },
        "outputId": "8b43b329-0944-4fb8-8928-824b2a4189cc"
      },
      "source": [
        "114/(20+114)"
      ],
      "execution_count": null,
      "outputs": [
        {
          "output_type": "execute_result",
          "data": {
            "text/plain": [
              "0.8507462686567164"
            ]
          },
          "metadata": {
            "tags": []
          },
          "execution_count": 59
        }
      ]
    },
    {
      "cell_type": "markdown",
      "metadata": {
        "id": "USdMUcWglUX8"
      },
      "source": [
        "# Результаты"
      ]
    },
    {
      "cell_type": "code",
      "metadata": {
        "id": "pjKgw4LbkEoy",
        "colab": {
          "base_uri": "https://localhost:8080/",
          "height": 295
        },
        "outputId": "b9123aa0-507a-4ddf-f7fa-efbc30fa18c7"
      },
      "source": [
        "fpr_kNN, tpr_kNN, threshold_kNN = metrics.roc_curve(y_test, pred_kNN)\n",
        "roc_auc_kNN = metrics.auc(fpr_kNN, tpr_kNN)\n",
        "\n",
        "fpr_LR, tpr_LR, threshold_LR = metrics.roc_curve(y_test, pred_LR)\n",
        "roc_auc_LR = metrics.auc(fpr_LR, tpr_LR)\n",
        "\n",
        "fpr_svc, tpr_svc, threshold_svc = metrics.roc_curve(y_test, pred_svc)\n",
        "roc_auc_svc = metrics.auc(fpr_svc, tpr_svc)\n",
        "\n",
        "fpr_DT, tpr_DT, threshold_DT = metrics.roc_curve(y_test, pred_DT)\n",
        "roc_auc_DT = metrics.auc(fpr_DT, tpr_DT)\n",
        "\n",
        "fpr_RF, tpr_RF, threshold_RF = metrics.roc_curve(y_test, pred_RF)\n",
        "roc_auc_RF = metrics.auc(fpr_RF, tpr_RF)\n",
        "\n",
        "fpr_XGB, tpr_XGB, threshold_XGB = metrics.roc_curve(y_test, pred_XGB)\n",
        "roc_auc_XGB = metrics.auc(fpr_XGB, tpr_XGB)\n",
        "\n",
        "fpr_lgb, tpr_lgb, threshold_lgb = metrics.roc_curve(y_test, pred_lgb)\n",
        "roc_auc_lgb = metrics.auc(fpr_lgb, tpr_lgb)\n",
        "\n",
        "fpr_CB, tpr_CB, threshold_CB = metrics.roc_curve(y_test, pred_CB)\n",
        "roc_auc_CB = metrics.auc(fpr_CB, tpr_CB)\n",
        "\n",
        "# method I: plt\n",
        "import matplotlib.pyplot as plt\n",
        "plt.title('Сравнение ROC AUC кривых')\n",
        "\n",
        "plt.plot(fpr_kNN, tpr_kNN, '0.4', label = 'AUC_kNN = %0.2f' % roc_auc_kNN)\n",
        "plt.plot(fpr_LR, tpr_LR, 'k', label = 'AUC_LR = %0.2f' % roc_auc_LR)\n",
        "plt.plot(fpr_svc, tpr_svc, 'm', label = 'AUC_svc = %0.2f' % roc_auc_svc)\n",
        "plt.plot(fpr_DT, tpr_DT, 'c', label = 'AUC_DT = %0.2f' % roc_auc_DT)\n",
        "plt.plot(fpr_RF, tpr_RF, 'y', label = 'AUC_RF = %0.2f' % roc_auc_RF)\n",
        "plt.plot(fpr_XGB, tpr_XGB, 'r', label = 'AUC_XGB = %0.2f' % roc_auc_XGB)\n",
        "plt.plot(fpr_lgb, tpr_lgb, 'g', label = 'AUC_lgb = %0.2f' % roc_auc_lgb)\n",
        "plt.plot(fpr_CB, tpr_CB, 'b', label = 'AUC_CB = %0.2f' % roc_auc_CB)\n",
        "\n",
        "plt.legend(loc = 'lower right')\n",
        "plt.plot([0, 1], [0, 1],'r--')\n",
        "plt.xlim([0, 1])\n",
        "plt.ylim([0, 1])\n",
        "plt.ylabel('True Positive Rate')\n",
        "plt.xlabel('False Positive Rate')\n",
        "plt.show()"
      ],
      "execution_count": null,
      "outputs": [
        {
          "output_type": "display_data",
          "data": {
            "image/png": "[encoded data removed]",
            "text/plain": [
              "<Figure size 432x288 with 1 Axes>"
            ]
          },
          "metadata": {
            "tags": [],
            "needs_background": "light"
          }
        }
      ]
    },
    {
      "cell_type": "code",
      "metadata": {
        "id": "rnQw2amJmVUH"
      },
      "source": [
        ""
      ],
      "execution_count": null,
      "outputs": []
    }
  ]
}